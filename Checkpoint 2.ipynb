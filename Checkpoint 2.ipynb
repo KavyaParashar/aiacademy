{
 "cells": [
  {
   "cell_type": "markdown",
   "id": "a4cb3b6b",
   "metadata": {},
   "source": [
    "# Task 2.1"
   ]
  },
  {
   "cell_type": "markdown",
   "id": "4a11f0ab",
   "metadata": {},
   "source": [
    "\n",
    "\n",
    "## Analysis of percentage turnout of marketing campaign\n",
    "\n"
   ]
  },
  {
   "cell_type": "code",
   "execution_count": 93,
   "id": "8707d5a2",
   "metadata": {},
   "outputs": [],
   "source": [
    "import numpy as np\n",
    "import pandas as pd\n",
    "import matplotlib.pyplot as plt\n",
    "import seaborn as sns\n",
    "%matplotlib inline"
   ]
  },
  {
   "cell_type": "code",
   "execution_count": 94,
   "id": "ad157457",
   "metadata": {},
   "outputs": [
    {
     "data": {
      "text/html": [
       "<div>\n",
       "<style scoped>\n",
       "    .dataframe tbody tr th:only-of-type {\n",
       "        vertical-align: middle;\n",
       "    }\n",
       "\n",
       "    .dataframe tbody tr th {\n",
       "        vertical-align: top;\n",
       "    }\n",
       "\n",
       "    .dataframe thead th {\n",
       "        text-align: right;\n",
       "    }\n",
       "</style>\n",
       "<table border=\"1\" class=\"dataframe\">\n",
       "  <thead>\n",
       "    <tr style=\"text-align: right;\">\n",
       "      <th></th>\n",
       "      <th>Customer_id</th>\n",
       "      <th>contact</th>\n",
       "      <th>month</th>\n",
       "      <th>day_of_week</th>\n",
       "      <th>duration</th>\n",
       "      <th>campaign</th>\n",
       "      <th>pdays</th>\n",
       "      <th>previous</th>\n",
       "      <th>poutcome</th>\n",
       "    </tr>\n",
       "  </thead>\n",
       "  <tbody>\n",
       "    <tr>\n",
       "      <th>37079</th>\n",
       "      <td>37080</td>\n",
       "      <td>cellular</td>\n",
       "      <td>nov</td>\n",
       "      <td>fri</td>\n",
       "      <td>334</td>\n",
       "      <td>1</td>\n",
       "      <td>999</td>\n",
       "      <td>0</td>\n",
       "      <td>nonexistent</td>\n",
       "    </tr>\n",
       "    <tr>\n",
       "      <th>37080</th>\n",
       "      <td>37081</td>\n",
       "      <td>cellular</td>\n",
       "      <td>nov</td>\n",
       "      <td>fri</td>\n",
       "      <td>383</td>\n",
       "      <td>1</td>\n",
       "      <td>999</td>\n",
       "      <td>0</td>\n",
       "      <td>nonexistent</td>\n",
       "    </tr>\n",
       "    <tr>\n",
       "      <th>37081</th>\n",
       "      <td>37082</td>\n",
       "      <td>cellular</td>\n",
       "      <td>nov</td>\n",
       "      <td>fri</td>\n",
       "      <td>189</td>\n",
       "      <td>2</td>\n",
       "      <td>999</td>\n",
       "      <td>0</td>\n",
       "      <td>nonexistent</td>\n",
       "    </tr>\n",
       "    <tr>\n",
       "      <th>37082</th>\n",
       "      <td>37083</td>\n",
       "      <td>cellular</td>\n",
       "      <td>nov</td>\n",
       "      <td>fri</td>\n",
       "      <td>442</td>\n",
       "      <td>1</td>\n",
       "      <td>999</td>\n",
       "      <td>0</td>\n",
       "      <td>nonexistent</td>\n",
       "    </tr>\n",
       "    <tr>\n",
       "      <th>37083</th>\n",
       "      <td>37084</td>\n",
       "      <td>cellular</td>\n",
       "      <td>nov</td>\n",
       "      <td>fri</td>\n",
       "      <td>239</td>\n",
       "      <td>3</td>\n",
       "      <td>999</td>\n",
       "      <td>1</td>\n",
       "      <td>failure</td>\n",
       "    </tr>\n",
       "  </tbody>\n",
       "</table>\n",
       "</div>"
      ],
      "text/plain": [
       "       Customer_id   contact month day_of_week  duration  campaign  pdays  \\\n",
       "37079        37080  cellular   nov         fri       334         1    999   \n",
       "37080        37081  cellular   nov         fri       383         1    999   \n",
       "37081        37082  cellular   nov         fri       189         2    999   \n",
       "37082        37083  cellular   nov         fri       442         1    999   \n",
       "37083        37084  cellular   nov         fri       239         3    999   \n",
       "\n",
       "       previous     poutcome  \n",
       "37079         0  nonexistent  \n",
       "37080         0  nonexistent  \n",
       "37081         0  nonexistent  \n",
       "37082         0  nonexistent  \n",
       "37083         1      failure  "
      ]
     },
     "execution_count": 94,
     "metadata": {},
     "output_type": "execute_result"
    }
   ],
   "source": [
    "campaign = pd.read_csv(\"Customer_campaign_details_p1.csv\")\n",
    "campaign.tail()"
   ]
  },
  {
   "cell_type": "code",
   "execution_count": 95,
   "id": "34d7a9ad",
   "metadata": {},
   "outputs": [
    {
     "data": {
      "text/html": [
       "<div>\n",
       "<style scoped>\n",
       "    .dataframe tbody tr th:only-of-type {\n",
       "        vertical-align: middle;\n",
       "    }\n",
       "\n",
       "    .dataframe tbody tr th {\n",
       "        vertical-align: top;\n",
       "    }\n",
       "\n",
       "    .dataframe thead th {\n",
       "        text-align: right;\n",
       "    }\n",
       "</style>\n",
       "<table border=\"1\" class=\"dataframe\">\n",
       "  <thead>\n",
       "    <tr style=\"text-align: right;\">\n",
       "      <th></th>\n",
       "      <th>Customer_id</th>\n",
       "      <th>y</th>\n",
       "    </tr>\n",
       "  </thead>\n",
       "  <tbody>\n",
       "    <tr>\n",
       "      <th>0</th>\n",
       "      <td>1</td>\n",
       "      <td>no</td>\n",
       "    </tr>\n",
       "    <tr>\n",
       "      <th>1</th>\n",
       "      <td>2</td>\n",
       "      <td>no</td>\n",
       "    </tr>\n",
       "    <tr>\n",
       "      <th>2</th>\n",
       "      <td>3</td>\n",
       "      <td>no</td>\n",
       "    </tr>\n",
       "    <tr>\n",
       "      <th>3</th>\n",
       "      <td>4</td>\n",
       "      <td>no</td>\n",
       "    </tr>\n",
       "    <tr>\n",
       "      <th>4</th>\n",
       "      <td>5</td>\n",
       "      <td>no</td>\n",
       "    </tr>\n",
       "  </tbody>\n",
       "</table>\n",
       "</div>"
      ],
      "text/plain": [
       "   Customer_id   y\n",
       "0            1  no\n",
       "1            2  no\n",
       "2            3  no\n",
       "3            4  no\n",
       "4            5  no"
      ]
     },
     "execution_count": 95,
     "metadata": {},
     "output_type": "execute_result"
    }
   ],
   "source": [
    "target = pd.read_csv(\"Customer_Response_data_P1.csv\")\n",
    "target.head()"
   ]
  },
  {
   "cell_type": "code",
   "execution_count": 96,
   "id": "be159492",
   "metadata": {},
   "outputs": [
    {
     "data": {
      "text/html": [
       "<div>\n",
       "<style scoped>\n",
       "    .dataframe tbody tr th:only-of-type {\n",
       "        vertical-align: middle;\n",
       "    }\n",
       "\n",
       "    .dataframe tbody tr th {\n",
       "        vertical-align: top;\n",
       "    }\n",
       "\n",
       "    .dataframe thead th {\n",
       "        text-align: right;\n",
       "    }\n",
       "</style>\n",
       "<table border=\"1\" class=\"dataframe\">\n",
       "  <thead>\n",
       "    <tr style=\"text-align: right;\">\n",
       "      <th></th>\n",
       "      <th>Customer_id</th>\n",
       "      <th>contact</th>\n",
       "      <th>month</th>\n",
       "      <th>day_of_week</th>\n",
       "      <th>duration</th>\n",
       "      <th>campaign</th>\n",
       "      <th>pdays</th>\n",
       "      <th>previous</th>\n",
       "      <th>poutcome</th>\n",
       "      <th>y</th>\n",
       "    </tr>\n",
       "  </thead>\n",
       "  <tbody>\n",
       "    <tr>\n",
       "      <th>37079</th>\n",
       "      <td>37080</td>\n",
       "      <td>cellular</td>\n",
       "      <td>nov</td>\n",
       "      <td>fri</td>\n",
       "      <td>334</td>\n",
       "      <td>1</td>\n",
       "      <td>999</td>\n",
       "      <td>0</td>\n",
       "      <td>nonexistent</td>\n",
       "      <td>yes</td>\n",
       "    </tr>\n",
       "    <tr>\n",
       "      <th>37080</th>\n",
       "      <td>37081</td>\n",
       "      <td>cellular</td>\n",
       "      <td>nov</td>\n",
       "      <td>fri</td>\n",
       "      <td>383</td>\n",
       "      <td>1</td>\n",
       "      <td>999</td>\n",
       "      <td>0</td>\n",
       "      <td>nonexistent</td>\n",
       "      <td>no</td>\n",
       "    </tr>\n",
       "    <tr>\n",
       "      <th>37081</th>\n",
       "      <td>37082</td>\n",
       "      <td>cellular</td>\n",
       "      <td>nov</td>\n",
       "      <td>fri</td>\n",
       "      <td>189</td>\n",
       "      <td>2</td>\n",
       "      <td>999</td>\n",
       "      <td>0</td>\n",
       "      <td>nonexistent</td>\n",
       "      <td>no</td>\n",
       "    </tr>\n",
       "    <tr>\n",
       "      <th>37082</th>\n",
       "      <td>37083</td>\n",
       "      <td>cellular</td>\n",
       "      <td>nov</td>\n",
       "      <td>fri</td>\n",
       "      <td>442</td>\n",
       "      <td>1</td>\n",
       "      <td>999</td>\n",
       "      <td>0</td>\n",
       "      <td>nonexistent</td>\n",
       "      <td>yes</td>\n",
       "    </tr>\n",
       "    <tr>\n",
       "      <th>37083</th>\n",
       "      <td>37084</td>\n",
       "      <td>cellular</td>\n",
       "      <td>nov</td>\n",
       "      <td>fri</td>\n",
       "      <td>239</td>\n",
       "      <td>3</td>\n",
       "      <td>999</td>\n",
       "      <td>1</td>\n",
       "      <td>failure</td>\n",
       "      <td>no</td>\n",
       "    </tr>\n",
       "  </tbody>\n",
       "</table>\n",
       "</div>"
      ],
      "text/plain": [
       "       Customer_id   contact month day_of_week  duration  campaign  pdays  \\\n",
       "37079        37080  cellular   nov         fri       334         1    999   \n",
       "37080        37081  cellular   nov         fri       383         1    999   \n",
       "37081        37082  cellular   nov         fri       189         2    999   \n",
       "37082        37083  cellular   nov         fri       442         1    999   \n",
       "37083        37084  cellular   nov         fri       239         3    999   \n",
       "\n",
       "       previous     poutcome    y  \n",
       "37079         0  nonexistent  yes  \n",
       "37080         0  nonexistent   no  \n",
       "37081         0  nonexistent   no  \n",
       "37082         0  nonexistent  yes  \n",
       "37083         1      failure   no  "
      ]
     },
     "execution_count": 96,
     "metadata": {},
     "output_type": "execute_result"
    }
   ],
   "source": [
    "campaign_outcome = pd.merge(campaign, target, on='Customer_id', how='inner')\n",
    "campaign_outcome.tail()"
   ]
  },
  {
   "cell_type": "code",
   "execution_count": 97,
   "id": "d2395835",
   "metadata": {},
   "outputs": [
    {
     "data": {
      "text/plain": [
       "(array([32876.,     0.,     0.,     0.,     0.,     0.,     0.,     0.,\n",
       "            0.,  4208.]),\n",
       " array([0. , 0.1, 0.2, 0.3, 0.4, 0.5, 0.6, 0.7, 0.8, 0.9, 1. ]),\n",
       " <BarContainer object of 10 artists>)"
      ]
     },
     "execution_count": 97,
     "metadata": {},
     "output_type": "execute_result"
    },
    {
     "data": {
      "image/png": "[encoded data removed]",
      "text/plain": [
       "<Figure size 432x288 with 1 Axes>"
      ]
     },
     "metadata": {
      "needs_background": "light"
     },
     "output_type": "display_data"
    }
   ],
   "source": [
    "plt.hist(campaign_outcome['y'])"
   ]
  },
  {
   "cell_type": "code",
   "execution_count": 98,
   "id": "10be3c29",
   "metadata": {},
   "outputs": [
    {
     "data": {
      "image/png": "[encoded data removed]",
      "text/plain": [
       "<Figure size 720x432 with 1 Axes>"
      ]
     },
     "metadata": {},
     "output_type": "display_data"
    }
   ],
   "source": [
    "plt.figure(figsize=(10,6))\n",
    "_, _, pie = plt.pie(campaign_outcome['y'].value_counts(), explode=[0,0.1], labels=campaign_outcome['y'].unique(), \n",
    "                    autopct='%.2f%%', colors=['grey','black'], textprops={'fontsize': 14})\n",
    "for p in pie:\n",
    "    p.set_color('white')"
   ]
  },
  {
   "cell_type": "markdown",
   "id": "659a771b",
   "metadata": {},
   "source": [
    "### The percentage turnout for Campaigns is:  11.35 %"
   ]
  },
  {
   "cell_type": "markdown",
   "id": "b7af3fce",
   "metadata": {},
   "source": [
    " \n",
    " \n",
    " \n",
    " \n",
    " "
   ]
  },
  {
   "cell_type": "markdown",
   "id": "f3ec773e",
   "metadata": {},
   "source": [
    "____________________________________"
   ]
  },
  {
   "cell_type": "markdown",
   "id": "e2896fb6",
   "metadata": {},
   "source": [
    "## Demographic analysis of the marketing campaign using the master files"
   ]
  },
  {
   "cell_type": "code",
   "execution_count": 99,
   "id": "5c937406",
   "metadata": {},
   "outputs": [
    {
     "data": {
      "text/html": [
       "<div>\n",
       "<style scoped>\n",
       "    .dataframe tbody tr th:only-of-type {\n",
       "        vertical-align: middle;\n",
       "    }\n",
       "\n",
       "    .dataframe tbody tr th {\n",
       "        vertical-align: top;\n",
       "    }\n",
       "\n",
       "    .dataframe thead th {\n",
       "        text-align: right;\n",
       "    }\n",
       "</style>\n",
       "<table border=\"1\" class=\"dataframe\">\n",
       "  <thead>\n",
       "    <tr style=\"text-align: right;\">\n",
       "      <th></th>\n",
       "      <th>Customer_id</th>\n",
       "      <th>age</th>\n",
       "      <th>job</th>\n",
       "      <th>marital</th>\n",
       "      <th>education</th>\n",
       "      <th>default</th>\n",
       "      <th>housing</th>\n",
       "      <th>loan</th>\n",
       "      <th>Region_Code</th>\n",
       "      <th>State_Code</th>\n",
       "      <th>City_Code</th>\n",
       "      <th>y</th>\n",
       "      <th>State_Name</th>\n",
       "      <th>Region_Name</th>\n",
       "    </tr>\n",
       "  </thead>\n",
       "  <tbody>\n",
       "    <tr>\n",
       "      <th>37019</th>\n",
       "      <td>19481</td>\n",
       "      <td>31</td>\n",
       "      <td>admin.</td>\n",
       "      <td>single</td>\n",
       "      <td>university.degree</td>\n",
       "      <td>no</td>\n",
       "      <td>yes</td>\n",
       "      <td>no</td>\n",
       "      <td>2</td>\n",
       "      <td>S49</td>\n",
       "      <td>C321</td>\n",
       "      <td>yes</td>\n",
       "      <td>West Virginia</td>\n",
       "      <td>East</td>\n",
       "    </tr>\n",
       "    <tr>\n",
       "      <th>37020</th>\n",
       "      <td>27883</td>\n",
       "      <td>32</td>\n",
       "      <td>admin.</td>\n",
       "      <td>single</td>\n",
       "      <td>university.degree</td>\n",
       "      <td>no</td>\n",
       "      <td>yes</td>\n",
       "      <td>no</td>\n",
       "      <td>2</td>\n",
       "      <td>S49</td>\n",
       "      <td>C321</td>\n",
       "      <td>no</td>\n",
       "      <td>West Virginia</td>\n",
       "      <td>East</td>\n",
       "    </tr>\n",
       "    <tr>\n",
       "      <th>37021</th>\n",
       "      <td>27884</td>\n",
       "      <td>44</td>\n",
       "      <td>management</td>\n",
       "      <td>married</td>\n",
       "      <td>university.degree</td>\n",
       "      <td>no</td>\n",
       "      <td>yes</td>\n",
       "      <td>no</td>\n",
       "      <td>2</td>\n",
       "      <td>S49</td>\n",
       "      <td>C321</td>\n",
       "      <td>no</td>\n",
       "      <td>West Virginia</td>\n",
       "      <td>East</td>\n",
       "    </tr>\n",
       "    <tr>\n",
       "      <th>37022</th>\n",
       "      <td>27885</td>\n",
       "      <td>34</td>\n",
       "      <td>services</td>\n",
       "      <td>unknown</td>\n",
       "      <td>high.school</td>\n",
       "      <td>no</td>\n",
       "      <td>yes</td>\n",
       "      <td>yes</td>\n",
       "      <td>2</td>\n",
       "      <td>S49</td>\n",
       "      <td>C321</td>\n",
       "      <td>no</td>\n",
       "      <td>West Virginia</td>\n",
       "      <td>East</td>\n",
       "    </tr>\n",
       "    <tr>\n",
       "      <th>37023</th>\n",
       "      <td>29475</td>\n",
       "      <td>52</td>\n",
       "      <td>blue-collar</td>\n",
       "      <td>married</td>\n",
       "      <td>basic.9y</td>\n",
       "      <td>unknown</td>\n",
       "      <td>yes</td>\n",
       "      <td>no</td>\n",
       "      <td>2</td>\n",
       "      <td>S49</td>\n",
       "      <td>C321</td>\n",
       "      <td>no</td>\n",
       "      <td>West Virginia</td>\n",
       "      <td>East</td>\n",
       "    </tr>\n",
       "  </tbody>\n",
       "</table>\n",
       "</div>"
      ],
      "text/plain": [
       "       Customer_id  age          job  marital          education  default  \\\n",
       "37019        19481   31       admin.   single  university.degree       no   \n",
       "37020        27883   32       admin.   single  university.degree       no   \n",
       "37021        27884   44   management  married  university.degree       no   \n",
       "37022        27885   34     services  unknown        high.school       no   \n",
       "37023        29475   52  blue-collar  married           basic.9y  unknown   \n",
       "\n",
       "      housing loan Region_Code State_Code City_Code    y     State_Name  \\\n",
       "37019     yes   no           2        S49      C321  yes  West Virginia   \n",
       "37020     yes   no           2        S49      C321   no  West Virginia   \n",
       "37021     yes   no           2        S49      C321   no  West Virginia   \n",
       "37022     yes  yes           2        S49      C321   no  West Virginia   \n",
       "37023     yes   no           2        S49      C321   no  West Virginia   \n",
       "\n",
       "      Region_Name  \n",
       "37019        East  \n",
       "37020        East  \n",
       "37021        East  \n",
       "37022        East  \n",
       "37023        East  "
      ]
     },
     "execution_count": 99,
     "metadata": {},
     "output_type": "execute_result"
    }
   ],
   "source": [
    "custDetails = pd.read_csv(\"Customer_and_bank details_p1.csv\")\n",
    "target = pd.read_csv(\"Customer_Response_data_P1.csv\")\n",
    "state = pd.read_csv(\"State_Master.csv\")\n",
    "region = pd.read_csv(\"Region_code_master.csv\")\n",
    "region['Region_Code'] = region['Region_Code'].astype(str)\n",
    "state.drop('Region_Code', axis=1, inplace=True)\n",
    "cust_outcome = pd.merge(custDetails, target, on='Customer_id', how='inner')\n",
    "cust_outcome = pd.merge(cust_outcome, state, on='State_Code', how='inner')\n",
    "cust_outcome = pd.merge(cust_outcome, region, on='Region_Code', how='inner')\n",
    "cust_outcome.reset_index(drop=True, inplace=True)\n",
    "cust_outcome.tail()"
   ]
  },
  {
   "cell_type": "markdown",
   "id": "38448af4",
   "metadata": {},
   "source": [
    "#### State-wise analysis"
   ]
  },
  {
   "cell_type": "code",
   "execution_count": 100,
   "id": "42d06381",
   "metadata": {},
   "outputs": [
    {
     "data": {
      "image/png": "[encoded data removed]",
      "text/plain": [
       "<Figure size 1872x720 with 1 Axes>"
      ]
     },
     "metadata": {
      "needs_background": "light"
     },
     "output_type": "display_data"
    }
   ],
   "source": [
    "plt.figure(figsize=(26,10))\n",
    "ax = sns.histplot(x='State_Name', hue='y', data=cust_outcome, alpha=0.4)\n",
    "locs, labels = plt.xticks()\n",
    "plt.setp(labels, rotation=30)\n",
    "plt.show()"
   ]
  },
  {
   "cell_type": "code",
   "execution_count": 101,
   "id": "d40d1daf",
   "metadata": {},
   "outputs": [
    {
     "data": {
      "text/html": [
       "<div>\n",
       "<style scoped>\n",
       "    .dataframe tbody tr th:only-of-type {\n",
       "        vertical-align: middle;\n",
       "    }\n",
       "\n",
       "    .dataframe tbody tr th {\n",
       "        vertical-align: top;\n",
       "    }\n",
       "\n",
       "    .dataframe thead tr th {\n",
       "        text-align: left;\n",
       "    }\n",
       "\n",
       "    .dataframe thead tr:last-of-type th {\n",
       "        text-align: right;\n",
       "    }\n",
       "</style>\n",
       "<table border=\"1\" class=\"dataframe\">\n",
       "  <thead>\n",
       "    <tr>\n",
       "      <th></th>\n",
       "      <th colspan=\"3\" halign=\"left\">Customer_id</th>\n",
       "      <th>Percentage</th>\n",
       "    </tr>\n",
       "    <tr>\n",
       "      <th>y</th>\n",
       "      <th>no</th>\n",
       "      <th>yes</th>\n",
       "      <th>Total</th>\n",
       "      <th></th>\n",
       "    </tr>\n",
       "    <tr>\n",
       "      <th>State_Name</th>\n",
       "      <th></th>\n",
       "      <th></th>\n",
       "      <th></th>\n",
       "      <th></th>\n",
       "    </tr>\n",
       "  </thead>\n",
       "  <tbody>\n",
       "    <tr>\n",
       "      <th>Wyoming</th>\n",
       "      <td>3</td>\n",
       "      <td>1</td>\n",
       "      <td>4</td>\n",
       "      <td>25.000000</td>\n",
       "    </tr>\n",
       "    <tr>\n",
       "      <th>Louisiana</th>\n",
       "      <td>132</td>\n",
       "      <td>30</td>\n",
       "      <td>162</td>\n",
       "      <td>18.518519</td>\n",
       "    </tr>\n",
       "    <tr>\n",
       "      <th>Oregon</th>\n",
       "      <td>388</td>\n",
       "      <td>72</td>\n",
       "      <td>460</td>\n",
       "      <td>15.652174</td>\n",
       "    </tr>\n",
       "    <tr>\n",
       "      <th>South Carolina</th>\n",
       "      <td>142</td>\n",
       "      <td>26</td>\n",
       "      <td>168</td>\n",
       "      <td>15.476190</td>\n",
       "    </tr>\n",
       "    <tr>\n",
       "      <th>North Dakota</th>\n",
       "      <td>22</td>\n",
       "      <td>4</td>\n",
       "      <td>26</td>\n",
       "      <td>15.384615</td>\n",
       "    </tr>\n",
       "  </tbody>\n",
       "</table>\n",
       "</div>"
      ],
      "text/plain": [
       "               Customer_id           Percentage\n",
       "y                       no yes Total           \n",
       "State_Name                                     \n",
       "Wyoming                  3   1     4  25.000000\n",
       "Louisiana              132  30   162  18.518519\n",
       "Oregon                 388  72   460  15.652174\n",
       "South Carolina         142  26   168  15.476190\n",
       "North Dakota            22   4    26  15.384615"
      ]
     },
     "execution_count": 101,
     "metadata": {},
     "output_type": "execute_result"
    }
   ],
   "source": [
    "analysis_state = pd.pivot_table(cust_outcome, index =['State_Name'],values=['Customer_id'], columns=['y'], aggfunc='count',margins=True, margins_name='Total')\n",
    "analysis_state[\"Percentage\"] = analysis_state['Customer_id']['yes']/analysis_state['Customer_id']['Total']*100\n",
    "analysis_state.sort_values(by='Percentage',ascending=False).head()"
   ]
  },
  {
   "cell_type": "code",
   "execution_count": 102,
   "id": "b779ec7b",
   "metadata": {},
   "outputs": [
    {
     "data": {
      "image/png": "[encoded data removed]",
      "text/plain": [
       "<Figure size 864x360 with 2 Axes>"
      ]
     },
     "metadata": {
      "needs_background": "light"
     },
     "output_type": "display_data"
    }
   ],
   "source": [
    "plt.figure(figsize=(12,5))\n",
    "plt.subplot(1, 2, 1)\n",
    "plt.bar(analysis_state.sort_values(by='Percentage',ascending=False).index[:5], \n",
    "        analysis_state.sort_values(by='Percentage',ascending=False)['Percentage'][:5])\n",
    "plt.subplot(1, 2, 2)\n",
    "plt.bar(analysis_state.sort_values(by='Percentage',ascending=False).index[-5:], \n",
    "        analysis_state.sort_values(by='Percentage',ascending=False)['Percentage'][-5:])\n",
    "plt.tight_layout()\n"
   ]
  },
  {
   "cell_type": "markdown",
   "id": "c971b748",
   "metadata": {},
   "source": [
    "#### INFERENCE- We have observed that the state-wise success percentage is highest in Wyoming at 25% and lowest in Montana at 3.6%."
   ]
  },
  {
   "cell_type": "markdown",
   "id": "c1c23bc7",
   "metadata": {},
   "source": [
    " \n",
    " \n",
    "#### Region-wise analysis"
   ]
  },
  {
   "cell_type": "code",
   "execution_count": 103,
   "id": "fbc1e5f9",
   "metadata": {},
   "outputs": [
    {
     "data": {
      "text/html": [
       "<div>\n",
       "<style scoped>\n",
       "    .dataframe tbody tr th:only-of-type {\n",
       "        vertical-align: middle;\n",
       "    }\n",
       "\n",
       "    .dataframe tbody tr th {\n",
       "        vertical-align: top;\n",
       "    }\n",
       "\n",
       "    .dataframe thead tr th {\n",
       "        text-align: left;\n",
       "    }\n",
       "\n",
       "    .dataframe thead tr:last-of-type th {\n",
       "        text-align: right;\n",
       "    }\n",
       "</style>\n",
       "<table border=\"1\" class=\"dataframe\">\n",
       "  <thead>\n",
       "    <tr>\n",
       "      <th></th>\n",
       "      <th colspan=\"3\" halign=\"left\">Customer_id</th>\n",
       "      <th>Percentage</th>\n",
       "    </tr>\n",
       "    <tr>\n",
       "      <th>y</th>\n",
       "      <th>no</th>\n",
       "      <th>yes</th>\n",
       "      <th>Total</th>\n",
       "      <th></th>\n",
       "    </tr>\n",
       "    <tr>\n",
       "      <th>Region_Name</th>\n",
       "      <th></th>\n",
       "      <th></th>\n",
       "      <th></th>\n",
       "      <th></th>\n",
       "    </tr>\n",
       "  </thead>\n",
       "  <tbody>\n",
       "    <tr>\n",
       "      <th>West</th>\n",
       "      <td>10491</td>\n",
       "      <td>1393</td>\n",
       "      <td>11884</td>\n",
       "      <td>11.721643</td>\n",
       "    </tr>\n",
       "    <tr>\n",
       "      <th>South</th>\n",
       "      <td>5292</td>\n",
       "      <td>700</td>\n",
       "      <td>5992</td>\n",
       "      <td>11.682243</td>\n",
       "    </tr>\n",
       "    <tr>\n",
       "      <th>Total</th>\n",
       "      <td>32824</td>\n",
       "      <td>4200</td>\n",
       "      <td>37024</td>\n",
       "      <td>11.343993</td>\n",
       "    </tr>\n",
       "    <tr>\n",
       "      <th>East</th>\n",
       "      <td>9390</td>\n",
       "      <td>1168</td>\n",
       "      <td>10558</td>\n",
       "      <td>11.062701</td>\n",
       "    </tr>\n",
       "    <tr>\n",
       "      <th>Central</th>\n",
       "      <td>7651</td>\n",
       "      <td>939</td>\n",
       "      <td>8590</td>\n",
       "      <td>10.931315</td>\n",
       "    </tr>\n",
       "  </tbody>\n",
       "</table>\n",
       "</div>"
      ],
      "text/plain": [
       "            Customer_id              Percentage\n",
       "y                    no   yes  Total           \n",
       "Region_Name                                    \n",
       "West              10491  1393  11884  11.721643\n",
       "South              5292   700   5992  11.682243\n",
       "Total             32824  4200  37024  11.343993\n",
       "East               9390  1168  10558  11.062701\n",
       "Central            7651   939   8590  10.931315"
      ]
     },
     "execution_count": 103,
     "metadata": {},
     "output_type": "execute_result"
    }
   ],
   "source": [
    "analysis_region = pd.pivot_table(cust_outcome, index =['Region_Name'],values=['Customer_id'], columns=['y'], aggfunc='count',margins=True, margins_name='Total')\n",
    "analysis_region[\"Percentage\"] = analysis_region['Customer_id']['yes']/analysis_region['Customer_id']['Total']*100\n",
    "analysis_region.sort_values(by='Percentage',ascending=False)"
   ]
  },
  {
   "cell_type": "code",
   "execution_count": 104,
   "id": "f4a4e35b",
   "metadata": {},
   "outputs": [
    {
     "data": {
      "image/png": "[encoded data removed]",
      "text/plain": [
       "<Figure size 576x360 with 1 Axes>"
      ]
     },
     "metadata": {
      "needs_background": "light"
     },
     "output_type": "display_data"
    }
   ],
   "source": [
    "fig, ax = plt.subplots(figsize=(8,5))\n",
    "bars = ax.bar(analysis_region.index, analysis_region['Percentage'])\n",
    "for bar in bars:\n",
    "    height = bar.get_height().round(2)\n",
    "    label_x_pos = bar.get_x() + bar.get_width() / 2\n",
    "    ax.text(label_x_pos, height, s=f'{height}', ha='center',\n",
    "    va='bottom')"
   ]
  },
  {
   "cell_type": "markdown",
   "id": "e0ab669b",
   "metadata": {},
   "source": [
    "#### INFERENCE- We have observed that the regional percentage is almost the same as average percentage for the success rate of the campaign. There is no data of North so we can target the North region"
   ]
  },
  {
   "cell_type": "markdown",
   "id": "ecd0041a",
   "metadata": {},
   "source": [
    " \n",
    " "
   ]
  },
  {
   "cell_type": "markdown",
   "id": "fdc5e476",
   "metadata": {},
   "source": [
    "#### Job-wise analysis"
   ]
  },
  {
   "cell_type": "code",
   "execution_count": 105,
   "id": "0f3805c0",
   "metadata": {},
   "outputs": [
    {
     "data": {
      "text/html": [
       "<div>\n",
       "<style scoped>\n",
       "    .dataframe tbody tr th:only-of-type {\n",
       "        vertical-align: middle;\n",
       "    }\n",
       "\n",
       "    .dataframe tbody tr th {\n",
       "        vertical-align: top;\n",
       "    }\n",
       "\n",
       "    .dataframe thead tr th {\n",
       "        text-align: left;\n",
       "    }\n",
       "\n",
       "    .dataframe thead tr:last-of-type th {\n",
       "        text-align: right;\n",
       "    }\n",
       "</style>\n",
       "<table border=\"1\" class=\"dataframe\">\n",
       "  <thead>\n",
       "    <tr>\n",
       "      <th></th>\n",
       "      <th colspan=\"3\" halign=\"left\">Customer_id</th>\n",
       "      <th>Percentage</th>\n",
       "    </tr>\n",
       "    <tr>\n",
       "      <th>y</th>\n",
       "      <th>no</th>\n",
       "      <th>yes</th>\n",
       "      <th>Total</th>\n",
       "      <th></th>\n",
       "    </tr>\n",
       "    <tr>\n",
       "      <th>job</th>\n",
       "      <th></th>\n",
       "      <th></th>\n",
       "      <th></th>\n",
       "      <th></th>\n",
       "    </tr>\n",
       "  </thead>\n",
       "  <tbody>\n",
       "    <tr>\n",
       "      <th>student</th>\n",
       "      <td>527</td>\n",
       "      <td>240</td>\n",
       "      <td>767</td>\n",
       "      <td>31.290743</td>\n",
       "    </tr>\n",
       "    <tr>\n",
       "      <th>retired</th>\n",
       "      <td>1144</td>\n",
       "      <td>395</td>\n",
       "      <td>1539</td>\n",
       "      <td>25.666017</td>\n",
       "    </tr>\n",
       "    <tr>\n",
       "      <th>unemployed</th>\n",
       "      <td>791</td>\n",
       "      <td>134</td>\n",
       "      <td>925</td>\n",
       "      <td>14.486486</td>\n",
       "    </tr>\n",
       "    <tr>\n",
       "      <th>admin.</th>\n",
       "      <td>8163</td>\n",
       "      <td>1240</td>\n",
       "      <td>9403</td>\n",
       "      <td>13.187281</td>\n",
       "    </tr>\n",
       "    <tr>\n",
       "      <th>unknown</th>\n",
       "      <td>271</td>\n",
       "      <td>35</td>\n",
       "      <td>306</td>\n",
       "      <td>11.437908</td>\n",
       "    </tr>\n",
       "    <tr>\n",
       "      <th>Total</th>\n",
       "      <td>32824</td>\n",
       "      <td>4200</td>\n",
       "      <td>37024</td>\n",
       "      <td>11.343993</td>\n",
       "    </tr>\n",
       "    <tr>\n",
       "      <th>management</th>\n",
       "      <td>2343</td>\n",
       "      <td>292</td>\n",
       "      <td>2635</td>\n",
       "      <td>11.081594</td>\n",
       "    </tr>\n",
       "    <tr>\n",
       "      <th>technician</th>\n",
       "      <td>5430</td>\n",
       "      <td>657</td>\n",
       "      <td>6087</td>\n",
       "      <td>10.793494</td>\n",
       "    </tr>\n",
       "    <tr>\n",
       "      <th>self-employed</th>\n",
       "      <td>1144</td>\n",
       "      <td>130</td>\n",
       "      <td>1274</td>\n",
       "      <td>10.204082</td>\n",
       "    </tr>\n",
       "    <tr>\n",
       "      <th>housemaid</th>\n",
       "      <td>849</td>\n",
       "      <td>93</td>\n",
       "      <td>942</td>\n",
       "      <td>9.872611</td>\n",
       "    </tr>\n",
       "    <tr>\n",
       "      <th>entrepreneur</th>\n",
       "      <td>1196</td>\n",
       "      <td>111</td>\n",
       "      <td>1307</td>\n",
       "      <td>8.492731</td>\n",
       "    </tr>\n",
       "    <tr>\n",
       "      <th>services</th>\n",
       "      <td>3245</td>\n",
       "      <td>297</td>\n",
       "      <td>3542</td>\n",
       "      <td>8.385093</td>\n",
       "    </tr>\n",
       "    <tr>\n",
       "      <th>blue-collar</th>\n",
       "      <td>7721</td>\n",
       "      <td>576</td>\n",
       "      <td>8297</td>\n",
       "      <td>6.942268</td>\n",
       "    </tr>\n",
       "  </tbody>\n",
       "</table>\n",
       "</div>"
      ],
      "text/plain": [
       "              Customer_id              Percentage\n",
       "y                      no   yes  Total           \n",
       "job                                              \n",
       "student               527   240    767  31.290743\n",
       "retired              1144   395   1539  25.666017\n",
       "unemployed            791   134    925  14.486486\n",
       "admin.               8163  1240   9403  13.187281\n",
       "unknown               271    35    306  11.437908\n",
       "Total               32824  4200  37024  11.343993\n",
       "management           2343   292   2635  11.081594\n",
       "technician           5430   657   6087  10.793494\n",
       "self-employed        1144   130   1274  10.204082\n",
       "housemaid             849    93    942   9.872611\n",
       "entrepreneur         1196   111   1307   8.492731\n",
       "services             3245   297   3542   8.385093\n",
       "blue-collar          7721   576   8297   6.942268"
      ]
     },
     "execution_count": 105,
     "metadata": {},
     "output_type": "execute_result"
    }
   ],
   "source": [
    "analysis_job = pd.pivot_table(cust_outcome, index =['job'],values=['Customer_id'], columns=['y'], aggfunc='count',margins=True, margins_name='Total')\n",
    "analysis_job[\"Percentage\"] = analysis_job['Customer_id']['yes']/analysis_job['Customer_id']['Total']*100\n",
    "analysis_job.sort_values(by='Percentage',ascending=False)"
   ]
  },
  {
   "cell_type": "code",
   "execution_count": 106,
   "id": "69cd5cb7",
   "metadata": {},
   "outputs": [
    {
     "data": {
      "image/png": "[encoded data removed]",
      "text/plain": [
       "<Figure size 1152x360 with 1 Axes>"
      ]
     },
     "metadata": {
      "needs_background": "light"
     },
     "output_type": "display_data"
    }
   ],
   "source": [
    "fig, ax = plt.subplots(figsize=(16,5))\n",
    "bars = ax.bar(analysis_job.index, analysis_job['Percentage'])\n",
    "for bar in bars:\n",
    "    height = bar.get_height().round(2)\n",
    "    label_x_pos = bar.get_x() + bar.get_width() / 2\n",
    "    ax.text(label_x_pos, height, s=f'{height}', ha='center',\n",
    "    va='bottom')"
   ]
  },
  {
   "cell_type": "markdown",
   "id": "656ea0e7",
   "metadata": {},
   "source": [
    "#### INFERENCE- We have observed that the students and retired people have the highest success rates, so these are the ideal target market. Blue-collar having the lowest success should be focused on more."
   ]
  },
  {
   "cell_type": "markdown",
   "id": "9fbdbf52",
   "metadata": {},
   "source": [
    " "
   ]
  },
  {
   "cell_type": "markdown",
   "id": "7384519f",
   "metadata": {},
   "source": [
    " "
   ]
  },
  {
   "cell_type": "markdown",
   "id": "81f349a2",
   "metadata": {},
   "source": [
    " "
   ]
  },
  {
   "cell_type": "markdown",
   "id": "a0587413",
   "metadata": {},
   "source": [
    " "
   ]
  },
  {
   "cell_type": "markdown",
   "id": "632653ba",
   "metadata": {},
   "source": [
    " "
   ]
  },
  {
   "cell_type": "markdown",
   "id": "8fd77d74",
   "metadata": {},
   "source": [
    "____________________"
   ]
  },
  {
   "cell_type": "markdown",
   "id": "b49b9b7b",
   "metadata": {},
   "source": [
    " "
   ]
  },
  {
   "cell_type": "markdown",
   "id": "7763ec57",
   "metadata": {},
   "source": [
    "# Task 2.2\n",
    "## Exploratory Data Analysis"
   ]
  },
  {
   "cell_type": "markdown",
   "id": "091d5928",
   "metadata": {},
   "source": [
    " "
   ]
  },
  {
   "cell_type": "markdown",
   "id": "e023e17d",
   "metadata": {},
   "source": [
    "### Outlier analysis and treatment "
   ]
  },
  {
   "cell_type": "code",
   "execution_count": 107,
   "id": "9511e3fb",
   "metadata": {},
   "outputs": [],
   "source": [
    "socio_economic = pd.read_csv(\"Customer_social_economic_data_p1.csv\")\n",
    "cust_outcome = pd.merge(cust_outcome, socio_economic, on='Customer_id', how='inner')\n",
    "\n",
    "cust_outcome.reset_index(drop=True, inplace=True)"
   ]
  },
  {
   "cell_type": "code",
   "execution_count": 108,
   "id": "1a1e87a7",
   "metadata": {},
   "outputs": [
    {
     "data": {
      "text/html": [
       "<div>\n",
       "<style scoped>\n",
       "    .dataframe tbody tr th:only-of-type {\n",
       "        vertical-align: middle;\n",
       "    }\n",
       "\n",
       "    .dataframe tbody tr th {\n",
       "        vertical-align: top;\n",
       "    }\n",
       "\n",
       "    .dataframe thead th {\n",
       "        text-align: right;\n",
       "    }\n",
       "</style>\n",
       "<table border=\"1\" class=\"dataframe\">\n",
       "  <thead>\n",
       "    <tr style=\"text-align: right;\">\n",
       "      <th></th>\n",
       "      <th>Customer_id</th>\n",
       "      <th>age</th>\n",
       "      <th>job</th>\n",
       "      <th>marital</th>\n",
       "      <th>education</th>\n",
       "      <th>default</th>\n",
       "      <th>housing</th>\n",
       "      <th>loan</th>\n",
       "      <th>Region_Code</th>\n",
       "      <th>State_Code</th>\n",
       "      <th>City_Code</th>\n",
       "      <th>y</th>\n",
       "      <th>State_Name</th>\n",
       "      <th>Region_Name</th>\n",
       "      <th>emp.var.rate</th>\n",
       "      <th>cons.price.idx</th>\n",
       "      <th>cons.conf.idx</th>\n",
       "      <th>euribor3m</th>\n",
       "      <th>nr.employed</th>\n",
       "    </tr>\n",
       "  </thead>\n",
       "  <tbody>\n",
       "    <tr>\n",
       "      <th>0</th>\n",
       "      <td>1</td>\n",
       "      <td>56</td>\n",
       "      <td>services</td>\n",
       "      <td>married</td>\n",
       "      <td>high.school</td>\n",
       "      <td>no</td>\n",
       "      <td>no</td>\n",
       "      <td>yes</td>\n",
       "      <td>3</td>\n",
       "      <td>S1</td>\n",
       "      <td>C1</td>\n",
       "      <td>no</td>\n",
       "      <td>Kentucky</td>\n",
       "      <td>South</td>\n",
       "      <td>1.1</td>\n",
       "      <td>93.994</td>\n",
       "      <td>-36.4</td>\n",
       "      <td>4.857</td>\n",
       "      <td>5191.0</td>\n",
       "    </tr>\n",
       "    <tr>\n",
       "      <th>1</th>\n",
       "      <td>2</td>\n",
       "      <td>45</td>\n",
       "      <td>services</td>\n",
       "      <td>married</td>\n",
       "      <td>basic.9y</td>\n",
       "      <td>unknown</td>\n",
       "      <td>no</td>\n",
       "      <td>no</td>\n",
       "      <td>3</td>\n",
       "      <td>S1</td>\n",
       "      <td>C1</td>\n",
       "      <td>no</td>\n",
       "      <td>Kentucky</td>\n",
       "      <td>South</td>\n",
       "      <td>1.1</td>\n",
       "      <td>93.994</td>\n",
       "      <td>-36.4</td>\n",
       "      <td>4.857</td>\n",
       "      <td>5191.0</td>\n",
       "    </tr>\n",
       "    <tr>\n",
       "      <th>2</th>\n",
       "      <td>419</td>\n",
       "      <td>52</td>\n",
       "      <td>admin.</td>\n",
       "      <td>married</td>\n",
       "      <td>basic.4y</td>\n",
       "      <td>no</td>\n",
       "      <td>yes</td>\n",
       "      <td>no</td>\n",
       "      <td>3</td>\n",
       "      <td>S1</td>\n",
       "      <td>C103</td>\n",
       "      <td>no</td>\n",
       "      <td>Kentucky</td>\n",
       "      <td>South</td>\n",
       "      <td>1.1</td>\n",
       "      <td>93.994</td>\n",
       "      <td>-36.4</td>\n",
       "      <td>4.857</td>\n",
       "      <td>5191.0</td>\n",
       "    </tr>\n",
       "    <tr>\n",
       "      <th>3</th>\n",
       "      <td>539</td>\n",
       "      <td>32</td>\n",
       "      <td>admin.</td>\n",
       "      <td>single</td>\n",
       "      <td>university.degree</td>\n",
       "      <td>no</td>\n",
       "      <td>no</td>\n",
       "      <td>no</td>\n",
       "      <td>3</td>\n",
       "      <td>S1</td>\n",
       "      <td>C1</td>\n",
       "      <td>no</td>\n",
       "      <td>Kentucky</td>\n",
       "      <td>South</td>\n",
       "      <td>1.1</td>\n",
       "      <td>93.994</td>\n",
       "      <td>-36.4</td>\n",
       "      <td>4.857</td>\n",
       "      <td>5191.0</td>\n",
       "    </tr>\n",
       "    <tr>\n",
       "      <th>4</th>\n",
       "      <td>540</td>\n",
       "      <td>36</td>\n",
       "      <td>services</td>\n",
       "      <td>married</td>\n",
       "      <td>high.school</td>\n",
       "      <td>no</td>\n",
       "      <td>no</td>\n",
       "      <td>no</td>\n",
       "      <td>3</td>\n",
       "      <td>S1</td>\n",
       "      <td>C1</td>\n",
       "      <td>no</td>\n",
       "      <td>Kentucky</td>\n",
       "      <td>South</td>\n",
       "      <td>1.1</td>\n",
       "      <td>93.994</td>\n",
       "      <td>-36.4</td>\n",
       "      <td>4.857</td>\n",
       "      <td>5191.0</td>\n",
       "    </tr>\n",
       "  </tbody>\n",
       "</table>\n",
       "</div>"
      ],
      "text/plain": [
       "   Customer_id  age       job  marital          education  default housing  \\\n",
       "0            1   56  services  married        high.school       no      no   \n",
       "1            2   45  services  married           basic.9y  unknown      no   \n",
       "2          419   52    admin.  married           basic.4y       no     yes   \n",
       "3          539   32    admin.   single  university.degree       no      no   \n",
       "4          540   36  services  married        high.school       no      no   \n",
       "\n",
       "  loan Region_Code State_Code City_Code   y State_Name Region_Name  \\\n",
       "0  yes           3         S1        C1  no   Kentucky       South   \n",
       "1   no           3         S1        C1  no   Kentucky       South   \n",
       "2   no           3         S1      C103  no   Kentucky       South   \n",
       "3   no           3         S1        C1  no   Kentucky       South   \n",
       "4   no           3         S1        C1  no   Kentucky       South   \n",
       "\n",
       "   emp.var.rate  cons.price.idx  cons.conf.idx  euribor3m  nr.employed  \n",
       "0           1.1          93.994          -36.4      4.857       5191.0  \n",
       "1           1.1          93.994          -36.4      4.857       5191.0  \n",
       "2           1.1          93.994          -36.4      4.857       5191.0  \n",
       "3           1.1          93.994          -36.4      4.857       5191.0  \n",
       "4           1.1          93.994          -36.4      4.857       5191.0  "
      ]
     },
     "execution_count": 108,
     "metadata": {},
     "output_type": "execute_result"
    }
   ],
   "source": [
    "cust_outcome.head()"
   ]
  },
  {
   "cell_type": "code",
   "execution_count": 109,
   "id": "0d932c23",
   "metadata": {},
   "outputs": [
    {
     "name": "stdout",
     "output_type": "stream",
     "text": [
      "<class 'pandas.core.frame.DataFrame'>\n",
      "RangeIndex: 37024 entries, 0 to 37023\n",
      "Data columns (total 19 columns):\n",
      " #   Column          Non-Null Count  Dtype  \n",
      "---  ------          --------------  -----  \n",
      " 0   Customer_id     37024 non-null  int64  \n",
      " 1   age             37024 non-null  int64  \n",
      " 2   job             37024 non-null  object \n",
      " 3   marital         37024 non-null  object \n",
      " 4   education       37024 non-null  object \n",
      " 5   default         37024 non-null  object \n",
      " 6   housing         37024 non-null  object \n",
      " 7   loan            37024 non-null  object \n",
      " 8   Region_Code     37024 non-null  object \n",
      " 9   State_Code      37024 non-null  object \n",
      " 10  City_Code       37024 non-null  object \n",
      " 11  y               37024 non-null  object \n",
      " 12  State_Name      37024 non-null  object \n",
      " 13  Region_Name     37024 non-null  object \n",
      " 14  emp.var.rate    37024 non-null  float64\n",
      " 15  cons.price.idx  37024 non-null  float64\n",
      " 16  cons.conf.idx   37024 non-null  float64\n",
      " 17  euribor3m       37024 non-null  float64\n",
      " 18  nr.employed     37024 non-null  float64\n",
      "dtypes: float64(5), int64(2), object(12)\n",
      "memory usage: 5.4+ MB\n"
     ]
    }
   ],
   "source": [
    "cust_outcome.info()"
   ]
  },
  {
   "cell_type": "markdown",
   "id": "bfa847c4",
   "metadata": {},
   "source": [
    "#### No null values"
   ]
  },
  {
   "cell_type": "code",
   "execution_count": 110,
   "id": "7260d7be",
   "metadata": {},
   "outputs": [
    {
     "data": {
      "text/html": [
       "<div>\n",
       "<style scoped>\n",
       "    .dataframe tbody tr th:only-of-type {\n",
       "        vertical-align: middle;\n",
       "    }\n",
       "\n",
       "    .dataframe tbody tr th {\n",
       "        vertical-align: top;\n",
       "    }\n",
       "\n",
       "    .dataframe thead th {\n",
       "        text-align: right;\n",
       "    }\n",
       "</style>\n",
       "<table border=\"1\" class=\"dataframe\">\n",
       "  <thead>\n",
       "    <tr style=\"text-align: right;\">\n",
       "      <th></th>\n",
       "      <th>Customer_id</th>\n",
       "      <th>age</th>\n",
       "      <th>emp.var.rate</th>\n",
       "      <th>cons.price.idx</th>\n",
       "      <th>cons.conf.idx</th>\n",
       "      <th>euribor3m</th>\n",
       "      <th>nr.employed</th>\n",
       "    </tr>\n",
       "  </thead>\n",
       "  <tbody>\n",
       "    <tr>\n",
       "      <th>count</th>\n",
       "      <td>37024.000000</td>\n",
       "      <td>37024.000000</td>\n",
       "      <td>37024.000000</td>\n",
       "      <td>37024.000000</td>\n",
       "      <td>37024.000000</td>\n",
       "      <td>37024.000000</td>\n",
       "      <td>37024.000000</td>\n",
       "    </tr>\n",
       "    <tr>\n",
       "      <th>mean</th>\n",
       "      <td>18546.444495</td>\n",
       "      <td>40.043593</td>\n",
       "      <td>0.082014</td>\n",
       "      <td>93.575909</td>\n",
       "      <td>-40.505396</td>\n",
       "      <td>3.621118</td>\n",
       "      <td>5167.027515</td>\n",
       "    </tr>\n",
       "    <tr>\n",
       "      <th>std</th>\n",
       "      <td>10704.860914</td>\n",
       "      <td>10.434720</td>\n",
       "      <td>1.569195</td>\n",
       "      <td>0.578436</td>\n",
       "      <td>4.622698</td>\n",
       "      <td>1.734113</td>\n",
       "      <td>72.217683</td>\n",
       "    </tr>\n",
       "    <tr>\n",
       "      <th>min</th>\n",
       "      <td>1.000000</td>\n",
       "      <td>17.000000</td>\n",
       "      <td>-3.400000</td>\n",
       "      <td>92.201000</td>\n",
       "      <td>-50.800000</td>\n",
       "      <td>0.634000</td>\n",
       "      <td>4963.600000</td>\n",
       "    </tr>\n",
       "    <tr>\n",
       "      <th>25%</th>\n",
       "      <td>9271.750000</td>\n",
       "      <td>32.000000</td>\n",
       "      <td>-1.800000</td>\n",
       "      <td>93.075000</td>\n",
       "      <td>-42.700000</td>\n",
       "      <td>1.344000</td>\n",
       "      <td>5099.100000</td>\n",
       "    </tr>\n",
       "    <tr>\n",
       "      <th>50%</th>\n",
       "      <td>18541.500000</td>\n",
       "      <td>38.000000</td>\n",
       "      <td>1.100000</td>\n",
       "      <td>93.749000</td>\n",
       "      <td>-41.800000</td>\n",
       "      <td>4.857000</td>\n",
       "      <td>5191.000000</td>\n",
       "    </tr>\n",
       "    <tr>\n",
       "      <th>75%</th>\n",
       "      <td>27813.250000</td>\n",
       "      <td>47.000000</td>\n",
       "      <td>1.400000</td>\n",
       "      <td>93.994000</td>\n",
       "      <td>-36.400000</td>\n",
       "      <td>4.961000</td>\n",
       "      <td>5228.100000</td>\n",
       "    </tr>\n",
       "    <tr>\n",
       "      <th>max</th>\n",
       "      <td>37084.000000</td>\n",
       "      <td>98.000000</td>\n",
       "      <td>1.400000</td>\n",
       "      <td>94.767000</td>\n",
       "      <td>-26.900000</td>\n",
       "      <td>5.045000</td>\n",
       "      <td>5228.100000</td>\n",
       "    </tr>\n",
       "  </tbody>\n",
       "</table>\n",
       "</div>"
      ],
      "text/plain": [
       "        Customer_id           age  emp.var.rate  cons.price.idx  \\\n",
       "count  37024.000000  37024.000000  37024.000000    37024.000000   \n",
       "mean   18546.444495     40.043593      0.082014       93.575909   \n",
       "std    10704.860914     10.434720      1.569195        0.578436   \n",
       "min        1.000000     17.000000     -3.400000       92.201000   \n",
       "25%     9271.750000     32.000000     -1.800000       93.075000   \n",
       "50%    18541.500000     38.000000      1.100000       93.749000   \n",
       "75%    27813.250000     47.000000      1.400000       93.994000   \n",
       "max    37084.000000     98.000000      1.400000       94.767000   \n",
       "\n",
       "       cons.conf.idx     euribor3m   nr.employed  \n",
       "count   37024.000000  37024.000000  37024.000000  \n",
       "mean      -40.505396      3.621118   5167.027515  \n",
       "std         4.622698      1.734113     72.217683  \n",
       "min       -50.800000      0.634000   4963.600000  \n",
       "25%       -42.700000      1.344000   5099.100000  \n",
       "50%       -41.800000      4.857000   5191.000000  \n",
       "75%       -36.400000      4.961000   5228.100000  \n",
       "max       -26.900000      5.045000   5228.100000  "
      ]
     },
     "execution_count": 110,
     "metadata": {},
     "output_type": "execute_result"
    }
   ],
   "source": [
    "cust_outcome.describe()"
   ]
  },
  {
   "cell_type": "code",
   "execution_count": 111,
   "id": "47890abc",
   "metadata": {},
   "outputs": [
    {
     "data": {
      "text/plain": [
       "<AxesSubplot:xlabel='age'>"
      ]
     },
     "execution_count": 111,
     "metadata": {},
     "output_type": "execute_result"
    },
    {
     "data": {
      "image/png": "[encoded data removed]",
      "text/plain": [
       "<Figure size 432x288 with 1 Axes>"
      ]
     },
     "metadata": {
      "needs_background": "light"
     },
     "output_type": "display_data"
    }
   ],
   "source": [
    "sns.boxplot(x='age', data=cust_outcome)"
   ]
  },
  {
   "cell_type": "markdown",
   "id": "f8747f08",
   "metadata": {},
   "source": [
    "#### Most of the customers are within the ages 17 to 70 with the highest frequency being in the range of 32 to 47. A few customers are aged between 70 to 100. Since it's a well spread population, the outliers do not require treatment"
   ]
  },
  {
   "cell_type": "code",
   "execution_count": 113,
   "id": "4cfc58ce",
   "metadata": {},
   "outputs": [
    {
     "data": {
      "text/plain": [
       "<AxesSubplot:xlabel='emp.var.rate'>"
      ]
     },
     "execution_count": 113,
     "metadata": {},
     "output_type": "execute_result"
    },
    {
     "data": {
      "image/png": "[encoded data removed]",
      "text/plain": [
       "<Figure size 432x288 with 1 Axes>"
      ]
     },
     "metadata": {
      "needs_background": "light"
     },
     "output_type": "display_data"
    }
   ],
   "source": [
    "sns.boxplot(x='emp.var.rate', data=cust_outcome)"
   ]
  },
  {
   "cell_type": "markdown",
   "id": "e38f5333",
   "metadata": {},
   "source": [
    "#### There are no outliers in employment variation rate "
   ]
  },
  {
   "cell_type": "code",
   "execution_count": 114,
   "id": "8dd14dff",
   "metadata": {},
   "outputs": [
    {
     "data": {
      "text/plain": [
       "<AxesSubplot:xlabel='cons.price.idx'>"
      ]
     },
     "execution_count": 114,
     "metadata": {},
     "output_type": "execute_result"
    },
    {
     "data": {
      "image/png": "[encoded data removed]",
      "text/plain": [
       "<Figure size 432x288 with 1 Axes>"
      ]
     },
     "metadata": {
      "needs_background": "light"
     },
     "output_type": "display_data"
    }
   ],
   "source": [
    "sns.boxplot(x='cons.price.idx', data=cust_outcome)"
   ]
  },
  {
   "cell_type": "markdown",
   "id": "8a30bc6b",
   "metadata": {},
   "source": [
    "#### There are no outliers in consumer price index "
   ]
  },
  {
   "cell_type": "code",
   "execution_count": 115,
   "id": "43e288d9",
   "metadata": {},
   "outputs": [
    {
     "data": {
      "text/plain": [
       "<AxesSubplot:xlabel='cons.conf.idx'>"
      ]
     },
     "execution_count": 115,
     "metadata": {},
     "output_type": "execute_result"
    },
    {
     "data": {
      "image/png": "[encoded data removed]",
      "text/plain": [
       "<Figure size 432x288 with 1 Axes>"
      ]
     },
     "metadata": {
      "needs_background": "light"
     },
     "output_type": "display_data"
    }
   ],
   "source": [
    "sns.boxplot(x='cons.conf.idx', data=cust_outcome)"
   ]
  },
  {
   "cell_type": "markdown",
   "id": "9b4aba41",
   "metadata": {},
   "source": [
    "There seems to be an outlier with data point much greater than the 95 percentile value."
   ]
  },
  {
   "cell_type": "code",
   "execution_count": 116,
   "id": "821db299",
   "metadata": {},
   "outputs": [
    {
     "data": {
      "text/plain": [
       "<AxesSubplot:xlabel='cons.conf.idx'>"
      ]
     },
     "execution_count": 116,
     "metadata": {},
     "output_type": "execute_result"
    },
    {
     "data": {
      "image/png": "[encoded data removed]",
      "text/plain": [
       "<Figure size 432x288 with 1 Axes>"
      ]
     },
     "metadata": {
      "needs_background": "light"
     },
     "output_type": "display_data"
    }
   ],
   "source": [
    "cust_outcome[\"cons.conf.idx\"] = np.where(cust_outcome[\"cons.conf.idx\"] > cust_outcome['cons.conf.idx'].quantile(0.975), \n",
    "                                         cust_outcome['cons.conf.idx'].quantile(0.975), cust_outcome['cons.conf.idx'])\n",
    "sns.boxplot(x='cons.conf.idx', data=cust_outcome)"
   ]
  },
  {
   "cell_type": "markdown",
   "id": "c40186e2",
   "metadata": {},
   "source": [
    "#### Outlier in consumer confidence index is treated"
   ]
  },
  {
   "cell_type": "code",
   "execution_count": 117,
   "id": "028d2be2",
   "metadata": {},
   "outputs": [
    {
     "data": {
      "text/plain": [
       "<AxesSubplot:xlabel='euribor3m'>"
      ]
     },
     "execution_count": 117,
     "metadata": {},
     "output_type": "execute_result"
    },
    {
     "data": {
      "image/png": "[encoded data removed]",
      "text/plain": [
       "<Figure size 432x288 with 1 Axes>"
      ]
     },
     "metadata": {
      "needs_background": "light"
     },
     "output_type": "display_data"
    }
   ],
   "source": [
    "sns.boxplot(x='euribor3m', data=cust_outcome)"
   ]
  },
  {
   "cell_type": "markdown",
   "id": "215e1458",
   "metadata": {},
   "source": [
    "#### There are no outliers in euribor 3 month rate, but the data seems to be skewed rightward"
   ]
  },
  {
   "cell_type": "code",
   "execution_count": 118,
   "id": "aa4343f2",
   "metadata": {},
   "outputs": [
    {
     "data": {
      "text/plain": [
       "<AxesSubplot:xlabel='nr.employed'>"
      ]
     },
     "execution_count": 118,
     "metadata": {},
     "output_type": "execute_result"
    },
    {
     "data": {
      "image/png": "[encoded data removed]",
      "text/plain": [
       "<Figure size 432x288 with 1 Axes>"
      ]
     },
     "metadata": {
      "needs_background": "light"
     },
     "output_type": "display_data"
    }
   ],
   "source": [
    "sns.boxplot(x='nr.employed', data=cust_outcome)"
   ]
  },
  {
   "cell_type": "markdown",
   "id": "6b72bd32",
   "metadata": {},
   "source": [
    "#### There are no outliers in number of employees, but the data seems to be skewed rightward"
   ]
  },
  {
   "cell_type": "markdown",
   "id": "36c57e04",
   "metadata": {},
   "source": [
    " "
   ]
  },
  {
   "cell_type": "markdown",
   "id": "aad87692",
   "metadata": {},
   "source": [
    "\n",
    "_____________________________\n"
   ]
  },
  {
   "cell_type": "markdown",
   "id": "a52f6d3e",
   "metadata": {},
   "source": [
    "### Feature Engineering\n",
    "Feature engineering is the process of using domain knowledge to select and transform the most relevant variables from the given data while creating a predictive model using machine learning. The goal of feature engineering and selection is to enhance the performance of machine learning algorithms."
   ]
  },
  {
   "cell_type": "markdown",
   "id": "80b8342b",
   "metadata": {},
   "source": [
    "From domain knowledge, we know that Customer_id is just a number assigned to each customer, having no statistical significance."
   ]
  },
  {
   "cell_type": "code",
   "execution_count": 120,
   "id": "ce775da7",
   "metadata": {},
   "outputs": [
    {
     "data": {
      "text/html": [
       "<div>\n",
       "<style scoped>\n",
       "    .dataframe tbody tr th:only-of-type {\n",
       "        vertical-align: middle;\n",
       "    }\n",
       "\n",
       "    .dataframe tbody tr th {\n",
       "        vertical-align: top;\n",
       "    }\n",
       "\n",
       "    .dataframe thead th {\n",
       "        text-align: right;\n",
       "    }\n",
       "</style>\n",
       "<table border=\"1\" class=\"dataframe\">\n",
       "  <thead>\n",
       "    <tr style=\"text-align: right;\">\n",
       "      <th></th>\n",
       "      <th>age</th>\n",
       "      <th>job</th>\n",
       "      <th>marital</th>\n",
       "      <th>education</th>\n",
       "      <th>default</th>\n",
       "      <th>housing</th>\n",
       "      <th>loan</th>\n",
       "      <th>Region_Code</th>\n",
       "      <th>State_Code</th>\n",
       "      <th>City_Code</th>\n",
       "      <th>y</th>\n",
       "      <th>State_Name</th>\n",
       "      <th>Region_Name</th>\n",
       "      <th>emp.var.rate</th>\n",
       "      <th>cons.price.idx</th>\n",
       "      <th>cons.conf.idx</th>\n",
       "      <th>euribor3m</th>\n",
       "      <th>nr.employed</th>\n",
       "    </tr>\n",
       "  </thead>\n",
       "  <tbody>\n",
       "    <tr>\n",
       "      <th>0</th>\n",
       "      <td>56</td>\n",
       "      <td>services</td>\n",
       "      <td>married</td>\n",
       "      <td>high.school</td>\n",
       "      <td>no</td>\n",
       "      <td>no</td>\n",
       "      <td>yes</td>\n",
       "      <td>3</td>\n",
       "      <td>S1</td>\n",
       "      <td>C1</td>\n",
       "      <td>no</td>\n",
       "      <td>Kentucky</td>\n",
       "      <td>South</td>\n",
       "      <td>1.1</td>\n",
       "      <td>93.994</td>\n",
       "      <td>-36.4</td>\n",
       "      <td>4.857</td>\n",
       "      <td>5191.0</td>\n",
       "    </tr>\n",
       "    <tr>\n",
       "      <th>1</th>\n",
       "      <td>45</td>\n",
       "      <td>services</td>\n",
       "      <td>married</td>\n",
       "      <td>basic.9y</td>\n",
       "      <td>unknown</td>\n",
       "      <td>no</td>\n",
       "      <td>no</td>\n",
       "      <td>3</td>\n",
       "      <td>S1</td>\n",
       "      <td>C1</td>\n",
       "      <td>no</td>\n",
       "      <td>Kentucky</td>\n",
       "      <td>South</td>\n",
       "      <td>1.1</td>\n",
       "      <td>93.994</td>\n",
       "      <td>-36.4</td>\n",
       "      <td>4.857</td>\n",
       "      <td>5191.0</td>\n",
       "    </tr>\n",
       "    <tr>\n",
       "      <th>2</th>\n",
       "      <td>52</td>\n",
       "      <td>admin.</td>\n",
       "      <td>married</td>\n",
       "      <td>basic.4y</td>\n",
       "      <td>no</td>\n",
       "      <td>yes</td>\n",
       "      <td>no</td>\n",
       "      <td>3</td>\n",
       "      <td>S1</td>\n",
       "      <td>C103</td>\n",
       "      <td>no</td>\n",
       "      <td>Kentucky</td>\n",
       "      <td>South</td>\n",
       "      <td>1.1</td>\n",
       "      <td>93.994</td>\n",
       "      <td>-36.4</td>\n",
       "      <td>4.857</td>\n",
       "      <td>5191.0</td>\n",
       "    </tr>\n",
       "  </tbody>\n",
       "</table>\n",
       "</div>"
      ],
      "text/plain": [
       "   age       job  marital    education  default housing loan Region_Code  \\\n",
       "0   56  services  married  high.school       no      no  yes           3   \n",
       "1   45  services  married     basic.9y  unknown      no   no           3   \n",
       "2   52    admin.  married     basic.4y       no     yes   no           3   \n",
       "\n",
       "  State_Code City_Code   y State_Name Region_Name  emp.var.rate  \\\n",
       "0         S1        C1  no   Kentucky       South           1.1   \n",
       "1         S1        C1  no   Kentucky       South           1.1   \n",
       "2         S1      C103  no   Kentucky       South           1.1   \n",
       "\n",
       "   cons.price.idx  cons.conf.idx  euribor3m  nr.employed  \n",
       "0          93.994          -36.4      4.857       5191.0  \n",
       "1          93.994          -36.4      4.857       5191.0  \n",
       "2          93.994          -36.4      4.857       5191.0  "
      ]
     },
     "execution_count": 120,
     "metadata": {},
     "output_type": "execute_result"
    }
   ],
   "source": [
    "cust_outcome.drop('Customer_id', axis=1, inplace=True)\n",
    "cust_outcome.head(3)"
   ]
  },
  {
   "cell_type": "code",
   "execution_count": 121,
   "id": "212c731e",
   "metadata": {},
   "outputs": [
    {
     "data": {
      "text/plain": [
       "array(['no', 'yes'], dtype=object)"
      ]
     },
     "execution_count": 121,
     "metadata": {},
     "output_type": "execute_result"
    }
   ],
   "source": [
    "cust_outcome['y'].unique()"
   ]
  },
  {
   "cell_type": "markdown",
   "id": "7a2fb8c6",
   "metadata": {},
   "source": [
    "We see that variable y is a binary variable with yes or no outcomes so we take the yes as 1 and no as 0."
   ]
  },
  {
   "cell_type": "code",
   "execution_count": 122,
   "id": "b121aac7",
   "metadata": {},
   "outputs": [
    {
     "data": {
      "text/html": [
       "<div>\n",
       "<style scoped>\n",
       "    .dataframe tbody tr th:only-of-type {\n",
       "        vertical-align: middle;\n",
       "    }\n",
       "\n",
       "    .dataframe tbody tr th {\n",
       "        vertical-align: top;\n",
       "    }\n",
       "\n",
       "    .dataframe thead th {\n",
       "        text-align: right;\n",
       "    }\n",
       "</style>\n",
       "<table border=\"1\" class=\"dataframe\">\n",
       "  <thead>\n",
       "    <tr style=\"text-align: right;\">\n",
       "      <th></th>\n",
       "      <th>age</th>\n",
       "      <th>job</th>\n",
       "      <th>marital</th>\n",
       "      <th>education</th>\n",
       "      <th>default</th>\n",
       "      <th>housing</th>\n",
       "      <th>loan</th>\n",
       "      <th>Region_Code</th>\n",
       "      <th>State_Code</th>\n",
       "      <th>City_Code</th>\n",
       "      <th>State_Name</th>\n",
       "      <th>Region_Name</th>\n",
       "      <th>emp.var.rate</th>\n",
       "      <th>cons.price.idx</th>\n",
       "      <th>cons.conf.idx</th>\n",
       "      <th>euribor3m</th>\n",
       "      <th>nr.employed</th>\n",
       "      <th>y_yes</th>\n",
       "    </tr>\n",
       "  </thead>\n",
       "  <tbody>\n",
       "    <tr>\n",
       "      <th>0</th>\n",
       "      <td>56</td>\n",
       "      <td>services</td>\n",
       "      <td>married</td>\n",
       "      <td>high.school</td>\n",
       "      <td>no</td>\n",
       "      <td>no</td>\n",
       "      <td>yes</td>\n",
       "      <td>3</td>\n",
       "      <td>S1</td>\n",
       "      <td>C1</td>\n",
       "      <td>Kentucky</td>\n",
       "      <td>South</td>\n",
       "      <td>1.1</td>\n",
       "      <td>93.994</td>\n",
       "      <td>-36.4</td>\n",
       "      <td>4.857</td>\n",
       "      <td>5191.0</td>\n",
       "      <td>0</td>\n",
       "    </tr>\n",
       "    <tr>\n",
       "      <th>1</th>\n",
       "      <td>45</td>\n",
       "      <td>services</td>\n",
       "      <td>married</td>\n",
       "      <td>basic.9y</td>\n",
       "      <td>unknown</td>\n",
       "      <td>no</td>\n",
       "      <td>no</td>\n",
       "      <td>3</td>\n",
       "      <td>S1</td>\n",
       "      <td>C1</td>\n",
       "      <td>Kentucky</td>\n",
       "      <td>South</td>\n",
       "      <td>1.1</td>\n",
       "      <td>93.994</td>\n",
       "      <td>-36.4</td>\n",
       "      <td>4.857</td>\n",
       "      <td>5191.0</td>\n",
       "      <td>0</td>\n",
       "    </tr>\n",
       "    <tr>\n",
       "      <th>2</th>\n",
       "      <td>52</td>\n",
       "      <td>admin.</td>\n",
       "      <td>married</td>\n",
       "      <td>basic.4y</td>\n",
       "      <td>no</td>\n",
       "      <td>yes</td>\n",
       "      <td>no</td>\n",
       "      <td>3</td>\n",
       "      <td>S1</td>\n",
       "      <td>C103</td>\n",
       "      <td>Kentucky</td>\n",
       "      <td>South</td>\n",
       "      <td>1.1</td>\n",
       "      <td>93.994</td>\n",
       "      <td>-36.4</td>\n",
       "      <td>4.857</td>\n",
       "      <td>5191.0</td>\n",
       "      <td>0</td>\n",
       "    </tr>\n",
       "  </tbody>\n",
       "</table>\n",
       "</div>"
      ],
      "text/plain": [
       "   age       job  marital    education  default housing loan Region_Code  \\\n",
       "0   56  services  married  high.school       no      no  yes           3   \n",
       "1   45  services  married     basic.9y  unknown      no   no           3   \n",
       "2   52    admin.  married     basic.4y       no     yes   no           3   \n",
       "\n",
       "  State_Code City_Code State_Name Region_Name  emp.var.rate  cons.price.idx  \\\n",
       "0         S1        C1   Kentucky       South           1.1          93.994   \n",
       "1         S1        C1   Kentucky       South           1.1          93.994   \n",
       "2         S1      C103   Kentucky       South           1.1          93.994   \n",
       "\n",
       "   cons.conf.idx  euribor3m  nr.employed  y_yes  \n",
       "0          -36.4      4.857       5191.0      0  \n",
       "1          -36.4      4.857       5191.0      0  \n",
       "2          -36.4      4.857       5191.0      0  "
      ]
     },
     "execution_count": 122,
     "metadata": {},
     "output_type": "execute_result"
    }
   ],
   "source": [
    "cust_outcome = pd.get_dummies(cust_outcome, columns = ['y'], drop_first=True)\n",
    "cust_outcome.head(3)"
   ]
  },
  {
   "cell_type": "markdown",
   "id": "3a8631d5",
   "metadata": {},
   "source": [
    "When building an ML model, we require the values to be numeric. So we analyze the categorical values and encode them."
   ]
  },
  {
   "cell_type": "code",
   "execution_count": 123,
   "id": "cc0a7e39",
   "metadata": {},
   "outputs": [
    {
     "data": {
      "text/plain": [
       "array(['services', 'admin.', 'management', 'blue-collar', 'retired',\n",
       "       'technician', 'self-employed', 'entrepreneur', 'housemaid',\n",
       "       'unknown', 'unemployed', 'student'], dtype=object)"
      ]
     },
     "execution_count": 123,
     "metadata": {},
     "output_type": "execute_result"
    }
   ],
   "source": [
    "cust_outcome['job'].unique()"
   ]
  },
  {
   "cell_type": "code",
   "execution_count": 124,
   "id": "ac44af4e",
   "metadata": {},
   "outputs": [
    {
     "data": {
      "text/plain": [
       "array(['married', 'single', 'divorced', 'unknown'], dtype=object)"
      ]
     },
     "execution_count": 124,
     "metadata": {},
     "output_type": "execute_result"
    }
   ],
   "source": [
    "cust_outcome['marital'].unique()"
   ]
  },
  {
   "cell_type": "code",
   "execution_count": 125,
   "id": "bdb9a6f1",
   "metadata": {},
   "outputs": [
    {
     "data": {
      "text/plain": [
       "array(['high.school', 'basic.9y', 'basic.4y', 'university.degree',\n",
       "       'professional.course', 'unknown', 'basic.6y', 'illiterate'],\n",
       "      dtype=object)"
      ]
     },
     "execution_count": 125,
     "metadata": {},
     "output_type": "execute_result"
    }
   ],
   "source": [
    "cust_outcome['education'].unique()"
   ]
  },
  {
   "cell_type": "code",
   "execution_count": 126,
   "id": "56f6a4f8",
   "metadata": {},
   "outputs": [
    {
     "data": {
      "text/plain": [
       "array(['no', 'unknown', 'yes'], dtype=object)"
      ]
     },
     "execution_count": 126,
     "metadata": {},
     "output_type": "execute_result"
    }
   ],
   "source": [
    "cust_outcome['default'].unique()"
   ]
  },
  {
   "cell_type": "code",
   "execution_count": 127,
   "id": "1807b907",
   "metadata": {},
   "outputs": [
    {
     "data": {
      "text/plain": [
       "array(['no', 'yes', 'unknown'], dtype=object)"
      ]
     },
     "execution_count": 127,
     "metadata": {},
     "output_type": "execute_result"
    }
   ],
   "source": [
    "cust_outcome['housing'].unique()"
   ]
  },
  {
   "cell_type": "code",
   "execution_count": 128,
   "id": "2ca08687",
   "metadata": {},
   "outputs": [
    {
     "data": {
      "text/plain": [
       "array(['yes', 'no', 'unknown'], dtype=object)"
      ]
     },
     "execution_count": 128,
     "metadata": {},
     "output_type": "execute_result"
    }
   ],
   "source": [
    "cust_outcome['loan'].unique()"
   ]
  },
  {
   "cell_type": "code",
   "execution_count": 129,
   "id": "d1d3c2cf",
   "metadata": {},
   "outputs": [
    {
     "data": {
      "text/plain": [
       "array(['S1', 'S3', 'S4', 'S18', 'S19'], dtype=object)"
      ]
     },
     "execution_count": 129,
     "metadata": {},
     "output_type": "execute_result"
    }
   ],
   "source": [
    "cust_outcome['State_Code'].unique()[:5]"
   ]
  },
  {
   "cell_type": "code",
   "execution_count": 130,
   "id": "200c3395",
   "metadata": {},
   "outputs": [
    {
     "data": {
      "text/plain": [
       "array(['C1', 'C103', 'C160', 'C104', 'C209'], dtype=object)"
      ]
     },
     "execution_count": 130,
     "metadata": {},
     "output_type": "execute_result"
    }
   ],
   "source": [
    "cust_outcome['City_Code'].unique()[:5]"
   ]
  },
  {
   "cell_type": "markdown",
   "id": "0f538fd7",
   "metadata": {},
   "source": [
    "Though Region_Code has numeric values, it refers to certain regions that are not ordinal. So we consider Region_Code as categorical variable too."
   ]
  },
  {
   "cell_type": "code",
   "execution_count": 131,
   "id": "7a621f79",
   "metadata": {},
   "outputs": [
    {
     "data": {
      "text/plain": [
       "array(['3', '4', '1', '2'], dtype=object)"
      ]
     },
     "execution_count": 131,
     "metadata": {},
     "output_type": "execute_result"
    }
   ],
   "source": [
    "cust_outcome['Region_Code'].unique()"
   ]
  },
  {
   "cell_type": "code",
   "execution_count": 132,
   "id": "26138097",
   "metadata": {},
   "outputs": [
    {
     "data": {
      "text/plain": [
       "(37024, 18)"
      ]
     },
     "execution_count": 132,
     "metadata": {},
     "output_type": "execute_result"
    }
   ],
   "source": [
    "cust_outcome.shape"
   ]
  },
  {
   "cell_type": "markdown",
   "id": "ba1bcef3",
   "metadata": {},
   "source": [
    "For ease of interpretation, we drop unknown values."
   ]
  },
  {
   "cell_type": "code",
   "execution_count": 133,
   "id": "8a659a50",
   "metadata": {},
   "outputs": [],
   "source": [
    "cust_outcome.drop(cust_outcome[cust_outcome['Region_Code'] == 'Na'].index, inplace = True)\n",
    "cust_outcome.drop(cust_outcome[cust_outcome['job'] == 'unknown'].index, inplace = True)\n",
    "cust_outcome.drop(cust_outcome[cust_outcome['education'] == 'unknown'].index, inplace = True)\n",
    "cust_outcome.drop(cust_outcome[cust_outcome['marital'] == 'unknown'].index, inplace = True)\n",
    "cust_outcome.drop(cust_outcome[cust_outcome['default'] == 'unknown'].index, inplace = True)\n",
    "cust_outcome.drop(cust_outcome[cust_outcome['housing'] == 'unknown'].index, inplace = True)\n",
    "cust_outcome.drop(cust_outcome[cust_outcome['loan'] == 'unknown'].index, inplace = True)"
   ]
  },
  {
   "cell_type": "code",
   "execution_count": 134,
   "id": "fd21258f",
   "metadata": {},
   "outputs": [
    {
     "name": "stdout",
     "output_type": "stream",
     "text": [
      "['3' '4' '1' '2'] ['services' 'admin.' 'blue-collar' 'technician' 'self-employed'\n",
      " 'entrepreneur' 'management' 'retired' 'housemaid' 'unemployed' 'student'] ['high.school' 'basic.4y' 'university.degree' 'basic.9y'\n",
      " 'professional.course' 'basic.6y' 'illiterate'] ['married' 'single' 'divorced'] ['no' 'yes'] ['no' 'yes'] ['yes' 'no']\n"
     ]
    }
   ],
   "source": [
    "print(cust_outcome['Region_Code'].unique(),\n",
    "    cust_outcome['job'].unique(),\n",
    "    cust_outcome['education'].unique(),\n",
    "    cust_outcome['marital'].unique(),\n",
    "    cust_outcome['default'].unique(),\n",
    "    cust_outcome['housing'].unique(),\n",
    "    cust_outcome['loan'].unique()\n",
    "     )"
   ]
  },
  {
   "cell_type": "code",
   "execution_count": 135,
   "id": "7b92e2be",
   "metadata": {},
   "outputs": [
    {
     "data": {
      "text/plain": [
       "(27452, 18)"
      ]
     },
     "execution_count": 135,
     "metadata": {},
     "output_type": "execute_result"
    }
   ],
   "source": [
    "cust_outcome.reset_index(drop=True, inplace=True)\n",
    "cust_outcome.shape"
   ]
  },
  {
   "cell_type": "markdown",
   "id": "510124c7",
   "metadata": {},
   "source": [
    "Now, for these we encode these categorical variables into binary numerics.\n",
    "#### NOTE: We are only taking into account the region, to understand demographics of state and city."
   ]
  },
  {
   "cell_type": "code",
   "execution_count": 136,
   "id": "a1e0371d",
   "metadata": {},
   "outputs": [
    {
     "data": {
      "text/html": [
       "<div>\n",
       "<style scoped>\n",
       "    .dataframe tbody tr th:only-of-type {\n",
       "        vertical-align: middle;\n",
       "    }\n",
       "\n",
       "    .dataframe tbody tr th {\n",
       "        vertical-align: top;\n",
       "    }\n",
       "\n",
       "    .dataframe thead th {\n",
       "        text-align: right;\n",
       "    }\n",
       "</style>\n",
       "<table border=\"1\" class=\"dataframe\">\n",
       "  <thead>\n",
       "    <tr style=\"text-align: right;\">\n",
       "      <th></th>\n",
       "      <th>age</th>\n",
       "      <th>emp.var.rate</th>\n",
       "      <th>cons.price.idx</th>\n",
       "      <th>cons.conf.idx</th>\n",
       "      <th>euribor3m</th>\n",
       "      <th>nr.employed</th>\n",
       "      <th>y_yes</th>\n",
       "      <th>State_Name_Arizona</th>\n",
       "      <th>State_Name_Arkansas</th>\n",
       "      <th>State_Name_California</th>\n",
       "      <th>...</th>\n",
       "      <th>education_basic.9y</th>\n",
       "      <th>education_high.school</th>\n",
       "      <th>education_illiterate</th>\n",
       "      <th>education_professional.course</th>\n",
       "      <th>education_university.degree</th>\n",
       "      <th>marital_married</th>\n",
       "      <th>marital_single</th>\n",
       "      <th>default_yes</th>\n",
       "      <th>housing_yes</th>\n",
       "      <th>loan_yes</th>\n",
       "    </tr>\n",
       "  </thead>\n",
       "  <tbody>\n",
       "    <tr>\n",
       "      <th>0</th>\n",
       "      <td>56</td>\n",
       "      <td>1.1</td>\n",
       "      <td>93.994</td>\n",
       "      <td>-36.4</td>\n",
       "      <td>4.857</td>\n",
       "      <td>5191.0</td>\n",
       "      <td>0</td>\n",
       "      <td>0</td>\n",
       "      <td>0</td>\n",
       "      <td>0</td>\n",
       "      <td>...</td>\n",
       "      <td>0</td>\n",
       "      <td>1</td>\n",
       "      <td>0</td>\n",
       "      <td>0</td>\n",
       "      <td>0</td>\n",
       "      <td>1</td>\n",
       "      <td>0</td>\n",
       "      <td>0</td>\n",
       "      <td>0</td>\n",
       "      <td>1</td>\n",
       "    </tr>\n",
       "    <tr>\n",
       "      <th>1</th>\n",
       "      <td>52</td>\n",
       "      <td>1.1</td>\n",
       "      <td>93.994</td>\n",
       "      <td>-36.4</td>\n",
       "      <td>4.857</td>\n",
       "      <td>5191.0</td>\n",
       "      <td>0</td>\n",
       "      <td>0</td>\n",
       "      <td>0</td>\n",
       "      <td>0</td>\n",
       "      <td>...</td>\n",
       "      <td>0</td>\n",
       "      <td>0</td>\n",
       "      <td>0</td>\n",
       "      <td>0</td>\n",
       "      <td>0</td>\n",
       "      <td>1</td>\n",
       "      <td>0</td>\n",
       "      <td>0</td>\n",
       "      <td>1</td>\n",
       "      <td>0</td>\n",
       "    </tr>\n",
       "    <tr>\n",
       "      <th>2</th>\n",
       "      <td>32</td>\n",
       "      <td>1.1</td>\n",
       "      <td>93.994</td>\n",
       "      <td>-36.4</td>\n",
       "      <td>4.857</td>\n",
       "      <td>5191.0</td>\n",
       "      <td>0</td>\n",
       "      <td>0</td>\n",
       "      <td>0</td>\n",
       "      <td>0</td>\n",
       "      <td>...</td>\n",
       "      <td>0</td>\n",
       "      <td>0</td>\n",
       "      <td>0</td>\n",
       "      <td>0</td>\n",
       "      <td>1</td>\n",
       "      <td>0</td>\n",
       "      <td>1</td>\n",
       "      <td>0</td>\n",
       "      <td>0</td>\n",
       "      <td>0</td>\n",
       "    </tr>\n",
       "  </tbody>\n",
       "</table>\n",
       "<p>3 rows × 79 columns</p>\n",
       "</div>"
      ],
      "text/plain": [
       "   age  emp.var.rate  cons.price.idx  cons.conf.idx  euribor3m  nr.employed  \\\n",
       "0   56           1.1          93.994          -36.4      4.857       5191.0   \n",
       "1   52           1.1          93.994          -36.4      4.857       5191.0   \n",
       "2   32           1.1          93.994          -36.4      4.857       5191.0   \n",
       "\n",
       "   y_yes  State_Name_Arizona  State_Name_Arkansas  State_Name_California  ...  \\\n",
       "0      0                   0                    0                      0  ...   \n",
       "1      0                   0                    0                      0  ...   \n",
       "2      0                   0                    0                      0  ...   \n",
       "\n",
       "   education_basic.9y  education_high.school  education_illiterate  \\\n",
       "0                   0                      1                     0   \n",
       "1                   0                      0                     0   \n",
       "2                   0                      0                     0   \n",
       "\n",
       "   education_professional.course  education_university.degree  \\\n",
       "0                              0                            0   \n",
       "1                              0                            0   \n",
       "2                              0                            1   \n",
       "\n",
       "   marital_married  marital_single  default_yes  housing_yes  loan_yes  \n",
       "0                1               0            0            0         1  \n",
       "1                1               0            0            1         0  \n",
       "2                0               1            0            0         0  \n",
       "\n",
       "[3 rows x 79 columns]"
      ]
     },
     "execution_count": 136,
     "metadata": {},
     "output_type": "execute_result"
    }
   ],
   "source": [
    "cust_outcome = pd.get_dummies(cust_outcome, columns = \n",
    "                              ['State_Name', 'Region_Name','job', 'education', 'marital', 'default', 'housing', 'loan'], \n",
    "                              drop_first=True)\n",
    "cust_outcome.drop('Region_Code', axis=1, inplace=True)\n",
    "cust_outcome.drop('State_Code', axis=1, inplace=True)\n",
    "cust_outcome.drop('City_Code', axis=1, inplace=True)\n",
    "cust_outcome.head(3)"
   ]
  },
  {
   "cell_type": "code",
   "execution_count": 137,
   "id": "52525815",
   "metadata": {},
   "outputs": [
    {
     "data": {
      "text/plain": [
       "(27452, 79)"
      ]
     },
     "execution_count": 137,
     "metadata": {},
     "output_type": "execute_result"
    }
   ],
   "source": [
    "cust_outcome.shape"
   ]
  },
  {
   "cell_type": "code",
   "execution_count": 138,
   "id": "ecfe589e",
   "metadata": {},
   "outputs": [
    {
     "data": {
      "text/html": [
       "<div>\n",
       "<style scoped>\n",
       "    .dataframe tbody tr th:only-of-type {\n",
       "        vertical-align: middle;\n",
       "    }\n",
       "\n",
       "    .dataframe tbody tr th {\n",
       "        vertical-align: top;\n",
       "    }\n",
       "\n",
       "    .dataframe thead th {\n",
       "        text-align: right;\n",
       "    }\n",
       "</style>\n",
       "<table border=\"1\" class=\"dataframe\">\n",
       "  <thead>\n",
       "    <tr style=\"text-align: right;\">\n",
       "      <th></th>\n",
       "      <th>age</th>\n",
       "      <th>emp.var.rate</th>\n",
       "      <th>cons.price.idx</th>\n",
       "      <th>cons.conf.idx</th>\n",
       "      <th>euribor3m</th>\n",
       "      <th>nr.employed</th>\n",
       "      <th>y_yes</th>\n",
       "      <th>State_Name_Arizona</th>\n",
       "      <th>State_Name_Arkansas</th>\n",
       "      <th>State_Name_California</th>\n",
       "      <th>...</th>\n",
       "      <th>education_basic.9y</th>\n",
       "      <th>education_high.school</th>\n",
       "      <th>education_illiterate</th>\n",
       "      <th>education_professional.course</th>\n",
       "      <th>education_university.degree</th>\n",
       "      <th>marital_married</th>\n",
       "      <th>marital_single</th>\n",
       "      <th>default_yes</th>\n",
       "      <th>housing_yes</th>\n",
       "      <th>loan_yes</th>\n",
       "    </tr>\n",
       "  </thead>\n",
       "  <tbody>\n",
       "    <tr>\n",
       "      <th>count</th>\n",
       "      <td>27452.000000</td>\n",
       "      <td>27452.000000</td>\n",
       "      <td>27452.000000</td>\n",
       "      <td>27452.000000</td>\n",
       "      <td>27452.00000</td>\n",
       "      <td>27452.000000</td>\n",
       "      <td>27452.000000</td>\n",
       "      <td>27452.000000</td>\n",
       "      <td>27452.000000</td>\n",
       "      <td>27452.000000</td>\n",
       "      <td>...</td>\n",
       "      <td>27452.000000</td>\n",
       "      <td>27452.000000</td>\n",
       "      <td>27452.000000</td>\n",
       "      <td>27452.000000</td>\n",
       "      <td>27452.000000</td>\n",
       "      <td>27452.000000</td>\n",
       "      <td>27452.000000</td>\n",
       "      <td>27452.000000</td>\n",
       "      <td>27452.000000</td>\n",
       "      <td>27452.000000</td>\n",
       "    </tr>\n",
       "    <tr>\n",
       "      <th>mean</th>\n",
       "      <td>39.060833</td>\n",
       "      <td>-0.068986</td>\n",
       "      <td>93.524229</td>\n",
       "      <td>-40.650656</td>\n",
       "      <td>3.46174</td>\n",
       "      <td>5160.884147</td>\n",
       "      <td>0.127167</td>\n",
       "      <td>0.022913</td>\n",
       "      <td>0.006375</td>\n",
       "      <td>0.200568</td>\n",
       "      <td>...</td>\n",
       "      <td>0.139808</td>\n",
       "      <td>0.252477</td>\n",
       "      <td>0.000328</td>\n",
       "      <td>0.141993</td>\n",
       "      <td>0.341287</td>\n",
       "      <td>0.574931</td>\n",
       "      <td>0.308903</td>\n",
       "      <td>0.000073</td>\n",
       "      <td>0.543093</td>\n",
       "      <td>0.156127</td>\n",
       "    </tr>\n",
       "    <tr>\n",
       "      <th>std</th>\n",
       "      <td>10.344671</td>\n",
       "      <td>1.607635</td>\n",
       "      <td>0.584535</td>\n",
       "      <td>4.671179</td>\n",
       "      <td>1.77654</td>\n",
       "      <td>75.100045</td>\n",
       "      <td>0.333166</td>\n",
       "      <td>0.149628</td>\n",
       "      <td>0.079589</td>\n",
       "      <td>0.400433</td>\n",
       "      <td>...</td>\n",
       "      <td>0.346794</td>\n",
       "      <td>0.434441</td>\n",
       "      <td>0.018104</td>\n",
       "      <td>0.349050</td>\n",
       "      <td>0.474150</td>\n",
       "      <td>0.494362</td>\n",
       "      <td>0.462049</td>\n",
       "      <td>0.008535</td>\n",
       "      <td>0.498149</td>\n",
       "      <td>0.362982</td>\n",
       "    </tr>\n",
       "    <tr>\n",
       "      <th>min</th>\n",
       "      <td>17.000000</td>\n",
       "      <td>-3.400000</td>\n",
       "      <td>92.201000</td>\n",
       "      <td>-50.800000</td>\n",
       "      <td>0.63400</td>\n",
       "      <td>4963.600000</td>\n",
       "      <td>0.000000</td>\n",
       "      <td>0.000000</td>\n",
       "      <td>0.000000</td>\n",
       "      <td>0.000000</td>\n",
       "      <td>...</td>\n",
       "      <td>0.000000</td>\n",
       "      <td>0.000000</td>\n",
       "      <td>0.000000</td>\n",
       "      <td>0.000000</td>\n",
       "      <td>0.000000</td>\n",
       "      <td>0.000000</td>\n",
       "      <td>0.000000</td>\n",
       "      <td>0.000000</td>\n",
       "      <td>0.000000</td>\n",
       "      <td>0.000000</td>\n",
       "    </tr>\n",
       "    <tr>\n",
       "      <th>25%</th>\n",
       "      <td>31.000000</td>\n",
       "      <td>-1.800000</td>\n",
       "      <td>93.075000</td>\n",
       "      <td>-42.700000</td>\n",
       "      <td>1.31300</td>\n",
       "      <td>5099.100000</td>\n",
       "      <td>0.000000</td>\n",
       "      <td>0.000000</td>\n",
       "      <td>0.000000</td>\n",
       "      <td>0.000000</td>\n",
       "      <td>...</td>\n",
       "      <td>0.000000</td>\n",
       "      <td>0.000000</td>\n",
       "      <td>0.000000</td>\n",
       "      <td>0.000000</td>\n",
       "      <td>0.000000</td>\n",
       "      <td>0.000000</td>\n",
       "      <td>0.000000</td>\n",
       "      <td>0.000000</td>\n",
       "      <td>0.000000</td>\n",
       "      <td>0.000000</td>\n",
       "    </tr>\n",
       "    <tr>\n",
       "      <th>50%</th>\n",
       "      <td>37.000000</td>\n",
       "      <td>1.100000</td>\n",
       "      <td>93.444000</td>\n",
       "      <td>-41.800000</td>\n",
       "      <td>4.85600</td>\n",
       "      <td>5191.000000</td>\n",
       "      <td>0.000000</td>\n",
       "      <td>0.000000</td>\n",
       "      <td>0.000000</td>\n",
       "      <td>0.000000</td>\n",
       "      <td>...</td>\n",
       "      <td>0.000000</td>\n",
       "      <td>0.000000</td>\n",
       "      <td>0.000000</td>\n",
       "      <td>0.000000</td>\n",
       "      <td>0.000000</td>\n",
       "      <td>1.000000</td>\n",
       "      <td>0.000000</td>\n",
       "      <td>0.000000</td>\n",
       "      <td>1.000000</td>\n",
       "      <td>0.000000</td>\n",
       "    </tr>\n",
       "    <tr>\n",
       "      <th>75%</th>\n",
       "      <td>45.250000</td>\n",
       "      <td>1.400000</td>\n",
       "      <td>93.994000</td>\n",
       "      <td>-36.400000</td>\n",
       "      <td>4.96100</td>\n",
       "      <td>5228.100000</td>\n",
       "      <td>0.000000</td>\n",
       "      <td>0.000000</td>\n",
       "      <td>0.000000</td>\n",
       "      <td>0.000000</td>\n",
       "      <td>...</td>\n",
       "      <td>0.000000</td>\n",
       "      <td>1.000000</td>\n",
       "      <td>0.000000</td>\n",
       "      <td>0.000000</td>\n",
       "      <td>1.000000</td>\n",
       "      <td>1.000000</td>\n",
       "      <td>1.000000</td>\n",
       "      <td>0.000000</td>\n",
       "      <td>1.000000</td>\n",
       "      <td>0.000000</td>\n",
       "    </tr>\n",
       "    <tr>\n",
       "      <th>max</th>\n",
       "      <td>95.000000</td>\n",
       "      <td>1.400000</td>\n",
       "      <td>94.767000</td>\n",
       "      <td>-30.100000</td>\n",
       "      <td>5.04500</td>\n",
       "      <td>5228.100000</td>\n",
       "      <td>1.000000</td>\n",
       "      <td>1.000000</td>\n",
       "      <td>1.000000</td>\n",
       "      <td>1.000000</td>\n",
       "      <td>...</td>\n",
       "      <td>1.000000</td>\n",
       "      <td>1.000000</td>\n",
       "      <td>1.000000</td>\n",
       "      <td>1.000000</td>\n",
       "      <td>1.000000</td>\n",
       "      <td>1.000000</td>\n",
       "      <td>1.000000</td>\n",
       "      <td>1.000000</td>\n",
       "      <td>1.000000</td>\n",
       "      <td>1.000000</td>\n",
       "    </tr>\n",
       "  </tbody>\n",
       "</table>\n",
       "<p>8 rows × 79 columns</p>\n",
       "</div>"
      ],
      "text/plain": [
       "                age  emp.var.rate  cons.price.idx  cons.conf.idx    euribor3m  \\\n",
       "count  27452.000000  27452.000000    27452.000000   27452.000000  27452.00000   \n",
       "mean      39.060833     -0.068986       93.524229     -40.650656      3.46174   \n",
       "std       10.344671      1.607635        0.584535       4.671179      1.77654   \n",
       "min       17.000000     -3.400000       92.201000     -50.800000      0.63400   \n",
       "25%       31.000000     -1.800000       93.075000     -42.700000      1.31300   \n",
       "50%       37.000000      1.100000       93.444000     -41.800000      4.85600   \n",
       "75%       45.250000      1.400000       93.994000     -36.400000      4.96100   \n",
       "max       95.000000      1.400000       94.767000     -30.100000      5.04500   \n",
       "\n",
       "        nr.employed         y_yes  State_Name_Arizona  State_Name_Arkansas  \\\n",
       "count  27452.000000  27452.000000        27452.000000         27452.000000   \n",
       "mean    5160.884147      0.127167            0.022913             0.006375   \n",
       "std       75.100045      0.333166            0.149628             0.079589   \n",
       "min     4963.600000      0.000000            0.000000             0.000000   \n",
       "25%     5099.100000      0.000000            0.000000             0.000000   \n",
       "50%     5191.000000      0.000000            0.000000             0.000000   \n",
       "75%     5228.100000      0.000000            0.000000             0.000000   \n",
       "max     5228.100000      1.000000            1.000000             1.000000   \n",
       "\n",
       "       State_Name_California  ...  education_basic.9y  education_high.school  \\\n",
       "count           27452.000000  ...        27452.000000           27452.000000   \n",
       "mean                0.200568  ...            0.139808               0.252477   \n",
       "std                 0.400433  ...            0.346794               0.434441   \n",
       "min                 0.000000  ...            0.000000               0.000000   \n",
       "25%                 0.000000  ...            0.000000               0.000000   \n",
       "50%                 0.000000  ...            0.000000               0.000000   \n",
       "75%                 0.000000  ...            0.000000               1.000000   \n",
       "max                 1.000000  ...            1.000000               1.000000   \n",
       "\n",
       "       education_illiterate  education_professional.course  \\\n",
       "count          27452.000000                   27452.000000   \n",
       "mean               0.000328                       0.141993   \n",
       "std                0.018104                       0.349050   \n",
       "min                0.000000                       0.000000   \n",
       "25%                0.000000                       0.000000   \n",
       "50%                0.000000                       0.000000   \n",
       "75%                0.000000                       0.000000   \n",
       "max                1.000000                       1.000000   \n",
       "\n",
       "       education_university.degree  marital_married  marital_single  \\\n",
       "count                 27452.000000     27452.000000    27452.000000   \n",
       "mean                      0.341287         0.574931        0.308903   \n",
       "std                       0.474150         0.494362        0.462049   \n",
       "min                       0.000000         0.000000        0.000000   \n",
       "25%                       0.000000         0.000000        0.000000   \n",
       "50%                       0.000000         1.000000        0.000000   \n",
       "75%                       1.000000         1.000000        1.000000   \n",
       "max                       1.000000         1.000000        1.000000   \n",
       "\n",
       "        default_yes   housing_yes      loan_yes  \n",
       "count  27452.000000  27452.000000  27452.000000  \n",
       "mean       0.000073      0.543093      0.156127  \n",
       "std        0.008535      0.498149      0.362982  \n",
       "min        0.000000      0.000000      0.000000  \n",
       "25%        0.000000      0.000000      0.000000  \n",
       "50%        0.000000      1.000000      0.000000  \n",
       "75%        0.000000      1.000000      0.000000  \n",
       "max        1.000000      1.000000      1.000000  \n",
       "\n",
       "[8 rows x 79 columns]"
      ]
     },
     "execution_count": 138,
     "metadata": {},
     "output_type": "execute_result"
    }
   ],
   "source": [
    "cust_outcome.describe()"
   ]
  },
  {
   "cell_type": "code",
   "execution_count": 139,
   "id": "0b30a401",
   "metadata": {},
   "outputs": [
    {
     "name": "stdout",
     "output_type": "stream",
     "text": [
      "<class 'pandas.core.frame.DataFrame'>\n",
      "RangeIndex: 27452 entries, 0 to 27451\n",
      "Data columns (total 79 columns):\n",
      " #   Column                           Non-Null Count  Dtype  \n",
      "---  ------                           --------------  -----  \n",
      " 0   age                              27452 non-null  int64  \n",
      " 1   emp.var.rate                     27452 non-null  float64\n",
      " 2   cons.price.idx                   27452 non-null  float64\n",
      " 3   cons.conf.idx                    27452 non-null  float64\n",
      " 4   euribor3m                        27452 non-null  float64\n",
      " 5   nr.employed                      27452 non-null  float64\n",
      " 6   y_yes                            27452 non-null  uint8  \n",
      " 7   State_Name_Arizona               27452 non-null  uint8  \n",
      " 8   State_Name_Arkansas              27452 non-null  uint8  \n",
      " 9   State_Name_California            27452 non-null  uint8  \n",
      " 10  State_Name_Colorado              27452 non-null  uint8  \n",
      " 11  State_Name_Connecticut           27452 non-null  uint8  \n",
      " 12  State_Name_Delaware              27452 non-null  uint8  \n",
      " 13  State_Name_District of Columbia  27452 non-null  uint8  \n",
      " 14  State_Name_Florida               27452 non-null  uint8  \n",
      " 15  State_Name_Georgia               27452 non-null  uint8  \n",
      " 16  State_Name_Idaho                 27452 non-null  uint8  \n",
      " 17  State_Name_Illinois              27452 non-null  uint8  \n",
      " 18  State_Name_Indiana               27452 non-null  uint8  \n",
      " 19  State_Name_Iowa                  27452 non-null  uint8  \n",
      " 20  State_Name_Kansas                27452 non-null  uint8  \n",
      " 21  State_Name_Kentucky              27452 non-null  uint8  \n",
      " 22  State_Name_Louisiana             27452 non-null  uint8  \n",
      " 23  State_Name_Maine                 27452 non-null  uint8  \n",
      " 24  State_Name_Maryland              27452 non-null  uint8  \n",
      " 25  State_Name_Massachusetts         27452 non-null  uint8  \n",
      " 26  State_Name_Michigan              27452 non-null  uint8  \n",
      " 27  State_Name_Minnesota             27452 non-null  uint8  \n",
      " 28  State_Name_Mississippi           27452 non-null  uint8  \n",
      " 29  State_Name_Missouri              27452 non-null  uint8  \n",
      " 30  State_Name_Montana               27452 non-null  uint8  \n",
      " 31  State_Name_Nebraska              27452 non-null  uint8  \n",
      " 32  State_Name_Nevada                27452 non-null  uint8  \n",
      " 33  State_Name_New Hampshire         27452 non-null  uint8  \n",
      " 34  State_Name_New Jersey            27452 non-null  uint8  \n",
      " 35  State_Name_New Mexico            27452 non-null  uint8  \n",
      " 36  State_Name_New York              27452 non-null  uint8  \n",
      " 37  State_Name_North Carolina        27452 non-null  uint8  \n",
      " 38  State_Name_North Dakota          27452 non-null  uint8  \n",
      " 39  State_Name_Ohio                  27452 non-null  uint8  \n",
      " 40  State_Name_Oklahoma              27452 non-null  uint8  \n",
      " 41  State_Name_Oregon                27452 non-null  uint8  \n",
      " 42  State_Name_Pennsylvania          27452 non-null  uint8  \n",
      " 43  State_Name_Rhode Island          27452 non-null  uint8  \n",
      " 44  State_Name_South Carolina        27452 non-null  uint8  \n",
      " 45  State_Name_South Dakota          27452 non-null  uint8  \n",
      " 46  State_Name_Tennessee             27452 non-null  uint8  \n",
      " 47  State_Name_Texas                 27452 non-null  uint8  \n",
      " 48  State_Name_Utah                  27452 non-null  uint8  \n",
      " 49  State_Name_Vermont               27452 non-null  uint8  \n",
      " 50  State_Name_Virginia              27452 non-null  uint8  \n",
      " 51  State_Name_Washington            27452 non-null  uint8  \n",
      " 52  State_Name_West Virginia         27452 non-null  uint8  \n",
      " 53  State_Name_Wisconsin             27452 non-null  uint8  \n",
      " 54  State_Name_Wyoming               27452 non-null  uint8  \n",
      " 55  Region_Name_East                 27452 non-null  uint8  \n",
      " 56  Region_Name_South                27452 non-null  uint8  \n",
      " 57  Region_Name_West                 27452 non-null  uint8  \n",
      " 58  job_blue-collar                  27452 non-null  uint8  \n",
      " 59  job_entrepreneur                 27452 non-null  uint8  \n",
      " 60  job_housemaid                    27452 non-null  uint8  \n",
      " 61  job_management                   27452 non-null  uint8  \n",
      " 62  job_retired                      27452 non-null  uint8  \n",
      " 63  job_self-employed                27452 non-null  uint8  \n",
      " 64  job_services                     27452 non-null  uint8  \n",
      " 65  job_student                      27452 non-null  uint8  \n",
      " 66  job_technician                   27452 non-null  uint8  \n",
      " 67  job_unemployed                   27452 non-null  uint8  \n",
      " 68  education_basic.6y               27452 non-null  uint8  \n",
      " 69  education_basic.9y               27452 non-null  uint8  \n",
      " 70  education_high.school            27452 non-null  uint8  \n",
      " 71  education_illiterate             27452 non-null  uint8  \n",
      " 72  education_professional.course    27452 non-null  uint8  \n",
      " 73  education_university.degree      27452 non-null  uint8  \n",
      " 74  marital_married                  27452 non-null  uint8  \n",
      " 75  marital_single                   27452 non-null  uint8  \n",
      " 76  default_yes                      27452 non-null  uint8  \n",
      " 77  housing_yes                      27452 non-null  uint8  \n",
      " 78  loan_yes                         27452 non-null  uint8  \n",
      "dtypes: float64(5), int64(1), uint8(73)\n",
      "memory usage: 3.2 MB\n"
     ]
    }
   ],
   "source": [
    "cust_outcome.info()"
   ]
  },
  {
   "cell_type": "code",
   "execution_count": 140,
   "id": "d6e99292",
   "metadata": {},
   "outputs": [
    {
     "name": "stdout",
     "output_type": "stream",
     "text": [
      "                      age  emp.var.rate  cons.price.idx  cons.conf.idx  \\\n",
      "age              1.000000     -0.048185       -0.032467       0.121913   \n",
      "emp.var.rate    -0.048185      1.000000        0.765134       0.184225   \n",
      "cons.price.idx  -0.032467      0.765134        1.000000       0.049351   \n",
      "cons.conf.idx    0.121913      0.184225        0.049351       1.000000   \n",
      "euribor3m       -0.034822      0.969436        0.666109       0.266251   \n",
      "...                   ...           ...             ...            ...   \n",
      "marital_married  0.262905      0.051328        0.025235       0.055971   \n",
      "marital_single  -0.410086     -0.076304       -0.047909      -0.056440   \n",
      "default_yes      0.007376      0.007800       -0.001172       0.008316   \n",
      "housing_yes      0.005804     -0.059962       -0.077611      -0.036000   \n",
      "loan_yes        -0.010941      0.001234       -0.001384      -0.018193   \n",
      "\n",
      "                 euribor3m  nr.employed     y_yes  State_Name_Arizona  \\\n",
      "age              -0.034822    -0.063662  0.047782            0.005689   \n",
      "emp.var.rate      0.969436     0.900221 -0.308798            0.004572   \n",
      "cons.price.idx    0.666109     0.487012 -0.129453           -0.000090   \n",
      "cons.conf.idx     0.266251     0.096939  0.054426            0.002333   \n",
      "euribor3m         1.000000     0.944830 -0.319423            0.004206   \n",
      "...                    ...          ...       ...                 ...   \n",
      "marital_married   0.062305     0.055364 -0.034079           -0.011638   \n",
      "marital_single   -0.088578    -0.079342  0.045345            0.007746   \n",
      "default_yes       0.007213     0.007640 -0.003258           -0.001307   \n",
      "housing_yes      -0.059342    -0.046263  0.011208           -0.009093   \n",
      "loan_yes         -0.000786     0.004830 -0.006338            0.001205   \n",
      "\n",
      "                 State_Name_Arkansas  State_Name_California  ...  \\\n",
      "age                        -0.003436               0.006174  ...   \n",
      "emp.var.rate               -0.003510              -0.003704  ...   \n",
      "cons.price.idx              0.010582               0.002055  ...   \n",
      "cons.conf.idx              -0.005353              -0.003704  ...   \n",
      "euribor3m                  -0.009506              -0.005331  ...   \n",
      "...                              ...                    ...  ...   \n",
      "marital_married             0.004062              -0.005809  ...   \n",
      "marital_single             -0.002039               0.009683  ...   \n",
      "default_yes                -0.000684              -0.004275  ...   \n",
      "housing_yes                 0.006394               0.017482  ...   \n",
      "loan_yes                   -0.006711              -0.014445  ...   \n",
      "\n",
      "                 education_basic.9y  education_high.school  \\\n",
      "age                       -0.031006              -0.092670   \n",
      "emp.var.rate               0.019855              -0.005266   \n",
      "cons.price.idx             0.032201               0.025776   \n",
      "cons.conf.idx             -0.077838              -0.051372   \n",
      "euribor3m                  0.017224              -0.010231   \n",
      "...                             ...                    ...   \n",
      "marital_married            0.072333              -0.067481   \n",
      "marital_single            -0.064468               0.055713   \n",
      "default_yes               -0.003441              -0.004961   \n",
      "housing_yes                0.004767              -0.014001   \n",
      "loan_yes                   0.001095              -0.002106   \n",
      "\n",
      "                 education_illiterate  education_professional.course  \\\n",
      "age                          0.011564                       0.010915   \n",
      "emp.var.rate                -0.000600                       0.033446   \n",
      "cons.price.idx              -0.007722                       0.010100   \n",
      "cons.conf.idx               -0.000579                       0.032092   \n",
      "euribor3m                    0.000567                       0.029094   \n",
      "...                               ...                            ...   \n",
      "marital_married              0.011501                       0.002516   \n",
      "marital_single              -0.012107                      -0.015157   \n",
      "default_yes                 -0.000155                       0.020982   \n",
      "housing_yes                  0.000453                       0.010270   \n",
      "loan_yes                    -0.007789                      -0.005056   \n",
      "\n",
      "                 education_university.degree  marital_married  marital_single  \\\n",
      "age                                -0.048200         0.262905       -0.410086   \n",
      "emp.var.rate                       -0.028563         0.051328       -0.076304   \n",
      "cons.price.idx                     -0.070958         0.025235       -0.047909   \n",
      "cons.conf.idx                       0.085068         0.055971       -0.056440   \n",
      "euribor3m                          -0.017360         0.062305       -0.088578   \n",
      "...                                      ...              ...             ...   \n",
      "marital_married                    -0.086956         1.000000       -0.777534   \n",
      "marital_single                      0.107897        -0.777534        1.000000   \n",
      "default_yes                        -0.006144         0.007339       -0.005707   \n",
      "housing_yes                         0.010450        -0.009710        0.013543   \n",
      "loan_yes                            0.010847         0.002202       -0.001728   \n",
      "\n",
      "                 default_yes  housing_yes  loan_yes  \n",
      "age                 0.007376     0.005804 -0.010941  \n",
      "emp.var.rate        0.007800    -0.059962  0.001234  \n",
      "cons.price.idx     -0.001172    -0.077611 -0.001384  \n",
      "cons.conf.idx       0.008316    -0.036000 -0.018193  \n",
      "euribor3m           0.007213    -0.059342 -0.000786  \n",
      "...                      ...          ...       ...  \n",
      "marital_married     0.007339    -0.009710  0.002202  \n",
      "marital_single     -0.005707     0.013543 -0.001728  \n",
      "default_yes         1.000000    -0.000738 -0.003672  \n",
      "housing_yes        -0.000738     1.000000  0.047002  \n",
      "loan_yes           -0.003672     0.047002  1.000000  \n",
      "\n",
      "[79 rows x 79 columns]\n"
     ]
    },
    {
     "name": "stderr",
     "output_type": "stream",
     "text": [
      "C:\\Users\\KPARAS~1\\AppData\\Local\\Temp/ipykernel_14008/3988820143.py:3: DeprecationWarning: `np.bool` is a deprecated alias for the builtin `bool`. To silence this warning, use `bool` by itself. Doing this will not modify any behavior and is safe. If you specifically wanted the numpy scalar type, use `np.bool_` here.\n",
      "Deprecated in NumPy 1.20; for more details and guidance: https://numpy.org/devdocs/release/1.20.0-notes.html#deprecations\n",
      "  mask = np.zeros_like(corr, dtype=np.bool)\n"
     ]
    },
    {
     "data": {
      "image/png": "[encoded data removed]",
      "text/plain": [
       "<Figure size 1296x864 with 2 Axes>"
      ]
     },
     "metadata": {
      "needs_background": "light"
     },
     "output_type": "display_data"
    }
   ],
   "source": [
    "corr = cust_outcome.corr()\n",
    "print(corr)\n",
    "mask = np.zeros_like(corr, dtype=np.bool)\n",
    "mask[np.triu_indices_from(mask)] = True\n",
    "fig, ax = plt.subplots(figsize=(18,12))\n",
    "\n",
    "pl = sns.heatmap(corr, mask=mask, cmap='coolwarm', vmax=1.0, vmin=-1.0, center=0, square=True, linewidths=0.5)\n",
    "plt.show()"
   ]
  },
  {
   "cell_type": "code",
   "execution_count": 141,
   "id": "70f885f8",
   "metadata": {},
   "outputs": [
    {
     "data": {
      "text/plain": [
       "0.9694361722400776"
      ]
     },
     "execution_count": 141,
     "metadata": {},
     "output_type": "execute_result"
    }
   ],
   "source": [
    "cust_outcome['euribor3m'].corr(cust_outcome['emp.var.rate'])"
   ]
  },
  {
   "cell_type": "code",
   "execution_count": 142,
   "id": "db5af085",
   "metadata": {},
   "outputs": [
    {
     "data": {
      "text/plain": [
       "-0.3194225461629222"
      ]
     },
     "execution_count": 142,
     "metadata": {},
     "output_type": "execute_result"
    }
   ],
   "source": [
    "cust_outcome['euribor3m'].corr(cust_outcome['y_yes'])"
   ]
  },
  {
   "cell_type": "code",
   "execution_count": 143,
   "id": "f487eeac",
   "metadata": {},
   "outputs": [
    {
     "data": {
      "text/plain": [
       "-0.3087981864159426"
      ]
     },
     "execution_count": 143,
     "metadata": {},
     "output_type": "execute_result"
    }
   ],
   "source": [
    "cust_outcome['y_yes'].corr(cust_outcome['emp.var.rate'])"
   ]
  },
  {
   "cell_type": "markdown",
   "id": "076b13e8",
   "metadata": {},
   "source": [
    "We see that euribor3m and emp.var.rate are very highly correlated. To avoid error based on multicollinearity, we need to drop one of these columns.\n",
    "To determine which column to drop, we check each of its correlation with the target variable y_yes. Since emp.var.rate has lower correlation with the target variable, we shall drop it."
   ]
  },
  {
   "cell_type": "code",
   "execution_count": 144,
   "id": "d573bde2",
   "metadata": {},
   "outputs": [
    {
     "name": "stdout",
     "output_type": "stream",
     "text": [
      "<class 'pandas.core.frame.DataFrame'>\n",
      "RangeIndex: 27452 entries, 0 to 27451\n",
      "Data columns (total 78 columns):\n",
      " #   Column                           Non-Null Count  Dtype  \n",
      "---  ------                           --------------  -----  \n",
      " 0   age                              27452 non-null  int64  \n",
      " 1   cons.price.idx                   27452 non-null  float64\n",
      " 2   cons.conf.idx                    27452 non-null  float64\n",
      " 3   euribor3m                        27452 non-null  float64\n",
      " 4   nr.employed                      27452 non-null  float64\n",
      " 5   y_yes                            27452 non-null  uint8  \n",
      " 6   State_Name_Arizona               27452 non-null  uint8  \n",
      " 7   State_Name_Arkansas              27452 non-null  uint8  \n",
      " 8   State_Name_California            27452 non-null  uint8  \n",
      " 9   State_Name_Colorado              27452 non-null  uint8  \n",
      " 10  State_Name_Connecticut           27452 non-null  uint8  \n",
      " 11  State_Name_Delaware              27452 non-null  uint8  \n",
      " 12  State_Name_District of Columbia  27452 non-null  uint8  \n",
      " 13  State_Name_Florida               27452 non-null  uint8  \n",
      " 14  State_Name_Georgia               27452 non-null  uint8  \n",
      " 15  State_Name_Idaho                 27452 non-null  uint8  \n",
      " 16  State_Name_Illinois              27452 non-null  uint8  \n",
      " 17  State_Name_Indiana               27452 non-null  uint8  \n",
      " 18  State_Name_Iowa                  27452 non-null  uint8  \n",
      " 19  State_Name_Kansas                27452 non-null  uint8  \n",
      " 20  State_Name_Kentucky              27452 non-null  uint8  \n",
      " 21  State_Name_Louisiana             27452 non-null  uint8  \n",
      " 22  State_Name_Maine                 27452 non-null  uint8  \n",
      " 23  State_Name_Maryland              27452 non-null  uint8  \n",
      " 24  State_Name_Massachusetts         27452 non-null  uint8  \n",
      " 25  State_Name_Michigan              27452 non-null  uint8  \n",
      " 26  State_Name_Minnesota             27452 non-null  uint8  \n",
      " 27  State_Name_Mississippi           27452 non-null  uint8  \n",
      " 28  State_Name_Missouri              27452 non-null  uint8  \n",
      " 29  State_Name_Montana               27452 non-null  uint8  \n",
      " 30  State_Name_Nebraska              27452 non-null  uint8  \n",
      " 31  State_Name_Nevada                27452 non-null  uint8  \n",
      " 32  State_Name_New Hampshire         27452 non-null  uint8  \n",
      " 33  State_Name_New Jersey            27452 non-null  uint8  \n",
      " 34  State_Name_New Mexico            27452 non-null  uint8  \n",
      " 35  State_Name_New York              27452 non-null  uint8  \n",
      " 36  State_Name_North Carolina        27452 non-null  uint8  \n",
      " 37  State_Name_North Dakota          27452 non-null  uint8  \n",
      " 38  State_Name_Ohio                  27452 non-null  uint8  \n",
      " 39  State_Name_Oklahoma              27452 non-null  uint8  \n",
      " 40  State_Name_Oregon                27452 non-null  uint8  \n",
      " 41  State_Name_Pennsylvania          27452 non-null  uint8  \n",
      " 42  State_Name_Rhode Island          27452 non-null  uint8  \n",
      " 43  State_Name_South Carolina        27452 non-null  uint8  \n",
      " 44  State_Name_South Dakota          27452 non-null  uint8  \n",
      " 45  State_Name_Tennessee             27452 non-null  uint8  \n",
      " 46  State_Name_Texas                 27452 non-null  uint8  \n",
      " 47  State_Name_Utah                  27452 non-null  uint8  \n",
      " 48  State_Name_Vermont               27452 non-null  uint8  \n",
      " 49  State_Name_Virginia              27452 non-null  uint8  \n",
      " 50  State_Name_Washington            27452 non-null  uint8  \n",
      " 51  State_Name_West Virginia         27452 non-null  uint8  \n",
      " 52  State_Name_Wisconsin             27452 non-null  uint8  \n",
      " 53  State_Name_Wyoming               27452 non-null  uint8  \n",
      " 54  Region_Name_East                 27452 non-null  uint8  \n",
      " 55  Region_Name_South                27452 non-null  uint8  \n",
      " 56  Region_Name_West                 27452 non-null  uint8  \n",
      " 57  job_blue-collar                  27452 non-null  uint8  \n",
      " 58  job_entrepreneur                 27452 non-null  uint8  \n",
      " 59  job_housemaid                    27452 non-null  uint8  \n",
      " 60  job_management                   27452 non-null  uint8  \n",
      " 61  job_retired                      27452 non-null  uint8  \n",
      " 62  job_self-employed                27452 non-null  uint8  \n",
      " 63  job_services                     27452 non-null  uint8  \n",
      " 64  job_student                      27452 non-null  uint8  \n",
      " 65  job_technician                   27452 non-null  uint8  \n",
      " 66  job_unemployed                   27452 non-null  uint8  \n",
      " 67  education_basic.6y               27452 non-null  uint8  \n",
      " 68  education_basic.9y               27452 non-null  uint8  \n",
      " 69  education_high.school            27452 non-null  uint8  \n",
      " 70  education_illiterate             27452 non-null  uint8  \n",
      " 71  education_professional.course    27452 non-null  uint8  \n",
      " 72  education_university.degree      27452 non-null  uint8  \n",
      " 73  marital_married                  27452 non-null  uint8  \n",
      " 74  marital_single                   27452 non-null  uint8  \n",
      " 75  default_yes                      27452 non-null  uint8  \n",
      " 76  housing_yes                      27452 non-null  uint8  \n",
      " 77  loan_yes                         27452 non-null  uint8  \n",
      "dtypes: float64(4), int64(1), uint8(73)\n",
      "memory usage: 3.0 MB\n"
     ]
    }
   ],
   "source": [
    "cust_outcome.drop('emp.var.rate', axis=1, inplace=True)\n",
    "cust_outcome.info()"
   ]
  },
  {
   "cell_type": "markdown",
   "id": "18c6e460",
   "metadata": {},
   "source": [
    "#### Now we shall check the significance of the variables with respect to target variable y_yes. For analysis we shall use a linear model.\n",
    "\n",
    "* The null hypothesis (N0): The variable does not significantly impact y_yes. p>=0.05\n",
    "* The alternative hypothesis (N1): The variable significantly impacts y_yes. p<0.05\n",
    "    "
   ]
  },
  {
   "cell_type": "code",
   "execution_count": 145,
   "id": "dde94802",
   "metadata": {},
   "outputs": [
    {
     "data": {
      "text/plain": [
       "Index(['age', 'cons.price.idx', 'cons.conf.idx', 'euribor3m', 'nr.employed',\n",
       "       'y_yes', 'State_Name_Arizona', 'State_Name_Arkansas',\n",
       "       'State_Name_California', 'State_Name_Colorado',\n",
       "       'State_Name_Connecticut', 'State_Name_Delaware',\n",
       "       'State_Name_District of Columbia', 'State_Name_Florida',\n",
       "       'State_Name_Georgia', 'State_Name_Idaho', 'State_Name_Illinois',\n",
       "       'State_Name_Indiana', 'State_Name_Iowa', 'State_Name_Kansas',\n",
       "       'State_Name_Kentucky', 'State_Name_Louisiana', 'State_Name_Maine',\n",
       "       'State_Name_Maryland', 'State_Name_Massachusetts',\n",
       "       'State_Name_Michigan', 'State_Name_Minnesota', 'State_Name_Mississippi',\n",
       "       'State_Name_Missouri', 'State_Name_Montana', 'State_Name_Nebraska',\n",
       "       'State_Name_Nevada', 'State_Name_New Hampshire',\n",
       "       'State_Name_New Jersey', 'State_Name_New Mexico', 'State_Name_New York',\n",
       "       'State_Name_North Carolina', 'State_Name_North Dakota',\n",
       "       'State_Name_Ohio', 'State_Name_Oklahoma', 'State_Name_Oregon',\n",
       "       'State_Name_Pennsylvania', 'State_Name_Rhode Island',\n",
       "       'State_Name_South Carolina', 'State_Name_South Dakota',\n",
       "       'State_Name_Tennessee', 'State_Name_Texas', 'State_Name_Utah',\n",
       "       'State_Name_Vermont', 'State_Name_Virginia', 'State_Name_Washington',\n",
       "       'State_Name_West Virginia', 'State_Name_Wisconsin',\n",
       "       'State_Name_Wyoming', 'Region_Name_East', 'Region_Name_South',\n",
       "       'Region_Name_West', 'job_blue-collar', 'job_entrepreneur',\n",
       "       'job_housemaid', 'job_management', 'job_retired', 'job_self-employed',\n",
       "       'job_services', 'job_student', 'job_technician', 'job_unemployed',\n",
       "       'education_basic.6y', 'education_basic.9y', 'education_high.school',\n",
       "       'education_illiterate', 'education_professional.course',\n",
       "       'education_university.degree', 'marital_married', 'marital_single',\n",
       "       'default_yes', 'housing_yes', 'loan_yes'],\n",
       "      dtype='object')"
      ]
     },
     "execution_count": 145,
     "metadata": {},
     "output_type": "execute_result"
    }
   ],
   "source": [
    "cust_outcome.columns"
   ]
  },
  {
   "cell_type": "code",
   "execution_count": 146,
   "id": "e305b9ce",
   "metadata": {},
   "outputs": [
    {
     "name": "stdout",
     "output_type": "stream",
     "text": [
      "                            OLS Regression Results                            \n",
      "==============================================================================\n",
      "Dep. Variable:                  y_yes   R-squared:                       0.154\n",
      "Model:                            OLS   Adj. R-squared:                  0.152\n",
      "Method:                 Least Squares   F-statistic:                     67.30\n",
      "Date:                Thu, 24 Feb 2022   Prob (F-statistic):               0.00\n",
      "Time:                        15:44:46   Log-Likelihood:                -6485.4\n",
      "No. Observations:               27452   AIC:                         1.312e+04\n",
      "Df Residuals:                   27377   BIC:                         1.374e+04\n",
      "Df Model:                          74                                         \n",
      "Covariance Type:            nonrobust                                         \n",
      "===================================================================================================\n",
      "                                      coef    std err          t      P>|t|      [0.025      0.975]\n",
      "---------------------------------------------------------------------------------------------------\n",
      "const                               3.9117      1.175      3.328      0.001       1.608       6.215\n",
      "age                                 0.0004      0.000      1.668      0.095    -6.8e-05       0.001\n",
      "cons.price.idx                      0.0461      0.007      6.616      0.000       0.032       0.060\n",
      "cons.conf.idx                       0.0062      0.001      9.813      0.000       0.005       0.007\n",
      "euribor3m                          -0.0094      0.007     -1.305      0.192      -0.024       0.005\n",
      "nr.employed                        -0.0016      0.000    -11.271      0.000      -0.002      -0.001\n",
      "State_Name_Arizona                  0.0107      0.021      0.516      0.606      -0.030       0.051\n",
      "State_Name_Arkansas                 0.0023      0.033      0.069      0.945      -0.063       0.067\n",
      "State_Name_California               0.0151      0.018      0.842      0.400      -0.020       0.050\n",
      "State_Name_Colorado                 0.0164      0.021      0.763      0.445      -0.026       0.058\n",
      "State_Name_Connecticut              0.0088      0.023      0.388      0.698      -0.036       0.053\n",
      "State_Name_Delaware                 0.0037      0.021      0.174      0.862      -0.038       0.045\n",
      "State_Name_District of Columbia     0.0863      0.056      1.536      0.124      -0.024       0.196\n",
      "State_Name_Florida                  0.0068      0.025      0.269      0.788      -0.043       0.057\n",
      "State_Name_Georgia                  0.0126      0.027      0.463      0.643      -0.041       0.066\n",
      "State_Name_Idaho                    0.0600      0.041      1.450      0.147      -0.021       0.141\n",
      "State_Name_Illinois                 0.2535      0.075      3.379      0.001       0.106       0.401\n",
      "State_Name_Indiana                  0.2413      0.076      3.191      0.001       0.093       0.390\n",
      "State_Name_Iowa                     0.2665      0.082      3.237      0.001       0.105       0.428\n",
      "State_Name_Kansas                   0.1890      0.082      2.307      0.021       0.028       0.350\n",
      "State_Name_Kentucky                -0.0105      0.028     -0.372      0.710      -0.066       0.045\n",
      "State_Name_Louisiana                0.0781      0.037      2.102      0.036       0.005       0.151\n",
      "State_Name_Maine                    0.0595      0.063      0.938      0.348      -0.065       0.184\n",
      "State_Name_Maryland                 0.0218      0.021      1.037      0.300      -0.019       0.063\n",
      "State_Name_Massachusetts           -0.0060      0.019     -0.308      0.758      -0.044       0.032\n",
      "State_Name_Michigan                 0.2291      0.075      3.040      0.002       0.081       0.377\n",
      "State_Name_Minnesota                0.2220      0.077      2.894      0.004       0.072       0.372\n",
      "State_Name_Mississippi             -0.0118      0.035     -0.336      0.737      -0.080       0.057\n",
      "State_Name_Missouri                 0.2439      0.078      3.137      0.002       0.092       0.396\n",
      "State_Name_Montana                 -0.0516      0.047     -1.104      0.269      -0.143       0.040\n",
      "State_Name_Nebraska                 0.2605      0.081      3.231      0.001       0.102       0.418\n",
      "State_Name_Nevada                   0.0089      0.032      0.279      0.780      -0.054       0.072\n",
      "State_Name_New Hampshire            0.0003      0.035      0.009      0.993      -0.069       0.069\n",
      "State_Name_New Jersey              -0.0164      0.019     -0.848      0.396      -0.054       0.022\n",
      "State_Name_New Mexico              -0.0252      0.032     -0.792      0.429      -0.088       0.037\n",
      "State_Name_New York                 0.0084      0.013      0.644      0.520      -0.017       0.034\n",
      "State_Name_North Carolina           0.0062      0.026      0.235      0.814      -0.045       0.058\n",
      "State_Name_North Dakota             0.2622      0.102      2.582      0.010       0.063       0.461\n",
      "State_Name_Ohio                     0.0028      0.014      0.191      0.849      -0.026       0.031\n",
      "State_Name_Oklahoma                 0.2466      0.077      3.194      0.001       0.095       0.398\n",
      "State_Name_Oregon                   0.0484      0.023      2.097      0.036       0.003       0.094\n",
      "State_Name_Pennsylvania            -0.0088      0.014     -0.635      0.526      -0.036       0.018\n",
      "State_Name_Rhode Island             0.0224      0.026      0.874      0.382      -0.028       0.073\n",
      "State_Name_South Carolina           0.0217      0.035      0.615      0.538      -0.047       0.091\n",
      "State_Name_South Dakota             0.2558      0.090      2.838      0.005       0.079       0.433\n",
      "State_Name_Tennessee                0.0119      0.027      0.438      0.661      -0.041       0.065\n",
      "State_Name_Texas                    0.2431      0.075      3.248      0.001       0.096       0.390\n",
      "State_Name_Utah                    -0.0023      0.029     -0.078      0.938      -0.059       0.055\n",
      "State_Name_Vermont                  0.0164      0.055      0.296      0.767      -0.092       0.125\n",
      "State_Name_Virginia                -0.0097      0.027     -0.363      0.717      -0.062       0.043\n",
      "State_Name_Washington               0.0230      0.019      1.204      0.229      -0.014       0.060\n",
      "State_Name_West Virginia            0.0461      0.102      0.453      0.651      -0.153       0.246\n",
      "State_Name_Wisconsin                0.2702      0.076      3.533      0.000       0.120       0.420\n",
      "State_Name_Wyoming                  0.1313      0.163      0.807      0.420      -0.188       0.450\n",
      "Region_Name_East                    0.2453      0.070      3.483      0.000       0.107       0.383\n",
      "Region_Name_South                   0.2480      0.077      3.201      0.001       0.096       0.400\n",
      "Region_Name_West                    0.2348      0.070      3.351      0.001       0.097       0.372\n",
      "job_blue-collar                    -0.0260      0.007     -3.677      0.000      -0.040      -0.012\n",
      "job_entrepreneur                   -0.0153      0.011     -1.444      0.149      -0.036       0.005\n",
      "job_housemaid                      -0.0015      0.013     -0.110      0.912      -0.028       0.025\n",
      "job_management                     -0.0127      0.008     -1.639      0.101      -0.028       0.002\n",
      "job_retired                         0.0585      0.012      5.005      0.000       0.036       0.081\n",
      "job_self-employed                  -0.0147      0.010     -1.401      0.161      -0.035       0.006\n",
      "job_services                       -0.0232      0.007     -3.116      0.002      -0.038      -0.009\n",
      "job_student                         0.0680      0.014      4.752      0.000       0.040       0.096\n",
      "job_technician                     -0.0017      0.006     -0.262      0.793      -0.014       0.011\n",
      "job_unemployed                      0.0138      0.012      1.106      0.269      -0.011       0.038\n",
      "education_basic.6y                  0.0030      0.011      0.271      0.787      -0.019       0.025\n",
      "education_basic.9y                 -0.0076      0.009     -0.881      0.378      -0.024       0.009\n",
      "education_high.school               0.0038      0.009      0.430      0.667      -0.013       0.021\n",
      "education_illiterate                0.0348      0.103      0.339      0.735      -0.166       0.236\n",
      "education_professional.course       0.0075      0.010      0.779      0.436      -0.011       0.026\n",
      "education_university.degree         0.0205      0.009      2.309      0.021       0.003       0.038\n",
      "marital_married                     0.0037      0.006      0.612      0.540      -0.008       0.016\n",
      "marital_single                      0.0157      0.007      2.294      0.022       0.002       0.029\n",
      "default_yes                        -0.0353      0.217     -0.163      0.871      -0.461       0.390\n",
      "housing_yes                         0.0001      0.004      0.029      0.977      -0.007       0.007\n",
      "loan_yes                           -0.0027      0.005     -0.527      0.598      -0.013       0.007\n",
      "==============================================================================\n",
      "Omnibus:                     9213.139   Durbin-Watson:                   1.849\n",
      "Prob(Omnibus):                  0.000   Jarque-Bera (JB):            25247.821\n",
      "Skew:                           1.832   Prob(JB):                         0.00\n",
      "Kurtosis:                       5.940   Cond. No.                     1.00e+16\n",
      "==============================================================================\n",
      "\n",
      "Notes:\n",
      "[1] Standard Errors assume that the covariance matrix of the errors is correctly specified.\n",
      "[2] The smallest eigenvalue is 7.3e-21. This might indicate that there are\n",
      "strong multicollinearity problems or that the design matrix is singular.\n"
     ]
    },
    {
     "name": "stderr",
     "output_type": "stream",
     "text": [
      "C:\\Users\\kparashar\\Anaconda3\\lib\\site-packages\\statsmodels\\tsa\\tsatools.py:142: FutureWarning: In a future version of pandas all arguments of concat except for the argument 'objs' will be keyword-only\n",
      "  x = pd.concat(x[::order], 1)\n"
     ]
    }
   ],
   "source": [
    "import statsmodels.api as sm\n",
    "X = cust_outcome[['age', 'cons.price.idx', 'cons.conf.idx', 'euribor3m', 'nr.employed',\n",
    "       'State_Name_Arizona', 'State_Name_Arkansas',\n",
    "       'State_Name_California', 'State_Name_Colorado',\n",
    "       'State_Name_Connecticut', 'State_Name_Delaware',\n",
    "       'State_Name_District of Columbia', 'State_Name_Florida',\n",
    "       'State_Name_Georgia', 'State_Name_Idaho', 'State_Name_Illinois',\n",
    "       'State_Name_Indiana', 'State_Name_Iowa', 'State_Name_Kansas',\n",
    "       'State_Name_Kentucky', 'State_Name_Louisiana', 'State_Name_Maine',\n",
    "       'State_Name_Maryland', 'State_Name_Massachusetts',\n",
    "       'State_Name_Michigan', 'State_Name_Minnesota', 'State_Name_Mississippi',\n",
    "       'State_Name_Missouri', 'State_Name_Montana', 'State_Name_Nebraska',\n",
    "       'State_Name_Nevada', 'State_Name_New Hampshire',\n",
    "       'State_Name_New Jersey', 'State_Name_New Mexico', 'State_Name_New York',\n",
    "       'State_Name_North Carolina', 'State_Name_North Dakota',\n",
    "       'State_Name_Ohio', 'State_Name_Oklahoma', 'State_Name_Oregon',\n",
    "       'State_Name_Pennsylvania', 'State_Name_Rhode Island',\n",
    "       'State_Name_South Carolina', 'State_Name_South Dakota',\n",
    "       'State_Name_Tennessee', 'State_Name_Texas', 'State_Name_Utah',\n",
    "       'State_Name_Vermont', 'State_Name_Virginia', 'State_Name_Washington',\n",
    "       'State_Name_West Virginia', 'State_Name_Wisconsin',\n",
    "       'State_Name_Wyoming', 'Region_Name_East', 'Region_Name_South',\n",
    "       'Region_Name_West', 'job_blue-collar', 'job_entrepreneur',\n",
    "       'job_housemaid', 'job_management', 'job_retired', 'job_self-employed',\n",
    "       'job_services', 'job_student', 'job_technician', 'job_unemployed',\n",
    "       'education_basic.6y', 'education_basic.9y', 'education_high.school',\n",
    "       'education_illiterate', 'education_professional.course',\n",
    "       'education_university.degree', 'marital_married', 'marital_single',\n",
    "       'default_yes', 'housing_yes', 'loan_yes']]\n",
    "y = cust_outcome['y_yes']\n",
    "X = sm.add_constant(X)\n",
    "model = sm.OLS(y, X).fit()\n",
    "print(model.summary())"
   ]
  },
  {
   "cell_type": "markdown",
   "id": "90b98fdc",
   "metadata": {},
   "source": [
    "#### We see that most of the states have p>|t| values greater than 0.05. Hence, it does not impact the y_yes variable. The other variables support the alternate hypothesis. ie. it has significance with respect to y_yes. Hence for the final database, we shall not take into account the customer's state."
   ]
  },
  {
   "cell_type": "code",
   "execution_count": 147,
   "id": "cd425cd3",
   "metadata": {},
   "outputs": [
    {
     "name": "stdout",
     "output_type": "stream",
     "text": [
      "<class 'pandas.core.frame.DataFrame'>\n",
      "RangeIndex: 27452 entries, 0 to 27451\n",
      "Data columns (total 30 columns):\n",
      " #   Column                         Non-Null Count  Dtype  \n",
      "---  ------                         --------------  -----  \n",
      " 0   age                            27452 non-null  int64  \n",
      " 1   cons.price.idx                 27452 non-null  float64\n",
      " 2   cons.conf.idx                  27452 non-null  float64\n",
      " 3   euribor3m                      27452 non-null  float64\n",
      " 4   nr.employed                    27452 non-null  float64\n",
      " 5   y_yes                          27452 non-null  uint8  \n",
      " 6   Region_Name_East               27452 non-null  uint8  \n",
      " 7   Region_Name_South              27452 non-null  uint8  \n",
      " 8   Region_Name_West               27452 non-null  uint8  \n",
      " 9   job_blue-collar                27452 non-null  uint8  \n",
      " 10  job_entrepreneur               27452 non-null  uint8  \n",
      " 11  job_housemaid                  27452 non-null  uint8  \n",
      " 12  job_management                 27452 non-null  uint8  \n",
      " 13  job_retired                    27452 non-null  uint8  \n",
      " 14  job_self-employed              27452 non-null  uint8  \n",
      " 15  job_services                   27452 non-null  uint8  \n",
      " 16  job_student                    27452 non-null  uint8  \n",
      " 17  job_technician                 27452 non-null  uint8  \n",
      " 18  job_unemployed                 27452 non-null  uint8  \n",
      " 19  education_basic.6y             27452 non-null  uint8  \n",
      " 20  education_basic.9y             27452 non-null  uint8  \n",
      " 21  education_high.school          27452 non-null  uint8  \n",
      " 22  education_illiterate           27452 non-null  uint8  \n",
      " 23  education_professional.course  27452 non-null  uint8  \n",
      " 24  education_university.degree    27452 non-null  uint8  \n",
      " 25  marital_married                27452 non-null  uint8  \n",
      " 26  marital_single                 27452 non-null  uint8  \n",
      " 27  default_yes                    27452 non-null  uint8  \n",
      " 28  housing_yes                    27452 non-null  uint8  \n",
      " 29  loan_yes                       27452 non-null  uint8  \n",
      "dtypes: float64(4), int64(1), uint8(25)\n",
      "memory usage: 1.7 MB\n"
     ]
    }
   ],
   "source": [
    "cust_outcome.drop(['State_Name_Arizona', 'State_Name_Arkansas',\n",
    "       'State_Name_California', 'State_Name_Colorado',\n",
    "       'State_Name_Connecticut', 'State_Name_Delaware',\n",
    "       'State_Name_District of Columbia', 'State_Name_Florida',\n",
    "       'State_Name_Georgia', 'State_Name_Idaho', 'State_Name_Illinois',\n",
    "       'State_Name_Indiana', 'State_Name_Iowa', 'State_Name_Kansas',\n",
    "       'State_Name_Kentucky', 'State_Name_Louisiana', 'State_Name_Maine',\n",
    "       'State_Name_Maryland', 'State_Name_Massachusetts',\n",
    "       'State_Name_Michigan', 'State_Name_Minnesota', 'State_Name_Mississippi',\n",
    "       'State_Name_Missouri', 'State_Name_Montana', 'State_Name_Nebraska',\n",
    "       'State_Name_Nevada', 'State_Name_New Hampshire',\n",
    "       'State_Name_New Jersey', 'State_Name_New Mexico', 'State_Name_New York',\n",
    "       'State_Name_North Carolina', 'State_Name_North Dakota',\n",
    "       'State_Name_Ohio', 'State_Name_Oklahoma', 'State_Name_Oregon',\n",
    "       'State_Name_Pennsylvania', 'State_Name_Rhode Island',\n",
    "       'State_Name_South Carolina', 'State_Name_South Dakota',\n",
    "       'State_Name_Tennessee', 'State_Name_Texas', 'State_Name_Utah',\n",
    "       'State_Name_Vermont', 'State_Name_Virginia', 'State_Name_Washington',\n",
    "       'State_Name_West Virginia', 'State_Name_Wisconsin',\n",
    "       'State_Name_Wyoming'], axis=1, inplace=True)\n",
    "cust_outcome.info()"
   ]
  },
  {
   "cell_type": "code",
   "execution_count": 148,
   "id": "fcd7ade5",
   "metadata": {},
   "outputs": [
    {
     "name": "stdout",
     "output_type": "stream",
     "text": [
      "                                    age  cons.price.idx  cons.conf.idx  \\\n",
      "age                            1.000000       -0.032467       0.121913   \n",
      "cons.price.idx                -0.032467        1.000000       0.049351   \n",
      "cons.conf.idx                  0.121913        0.049351       1.000000   \n",
      "euribor3m                     -0.034822        0.666109       0.266251   \n",
      "nr.employed                   -0.063662        0.487012       0.096939   \n",
      "y_yes                          0.047782       -0.129453       0.054426   \n",
      "Region_Name_East              -0.005976        0.002255      -0.000506   \n",
      "Region_Name_South              0.005646        0.001979       0.005489   \n",
      "Region_Name_West              -0.000781        0.001485      -0.002562   \n",
      "job_blue-collar               -0.041473        0.052390      -0.105045   \n",
      "job_entrepreneur               0.034356        0.013749      -0.032099   \n",
      "job_housemaid                  0.082785        0.026634       0.037329   \n",
      "job_management                 0.071721       -0.023416      -0.001321   \n",
      "job_retired                    0.474579       -0.060499       0.084670   \n",
      "job_self-employed             -0.005100       -0.004061      -0.002010   \n",
      "job_services                  -0.071273        0.036467      -0.061177   \n",
      "job_student                   -0.186860       -0.057241       0.002985   \n",
      "job_technician                -0.064001        0.001445       0.056025   \n",
      "job_unemployed                -0.007813       -0.008962       0.023695   \n",
      "education_basic.6y             0.018176        0.017985      -0.025514   \n",
      "education_basic.9y            -0.031006        0.032201      -0.077838   \n",
      "education_high.school         -0.092670        0.025776      -0.051372   \n",
      "education_illiterate           0.011564       -0.007722      -0.000579   \n",
      "education_professional.course  0.010915        0.010100       0.032092   \n",
      "education_university.degree   -0.048200       -0.070958       0.085068   \n",
      "marital_married                0.262905        0.025235       0.055971   \n",
      "marital_single                -0.410086       -0.047909      -0.056440   \n",
      "default_yes                    0.007376       -0.001172       0.008316   \n",
      "housing_yes                    0.005804       -0.077611      -0.036000   \n",
      "loan_yes                      -0.010941       -0.001384      -0.018193   \n",
      "\n",
      "                               euribor3m  nr.employed     y_yes  \\\n",
      "age                            -0.034822    -0.063662  0.047782   \n",
      "cons.price.idx                  0.666109     0.487012 -0.129453   \n",
      "cons.conf.idx                   0.266251     0.096939  0.054426   \n",
      "euribor3m                       1.000000     0.944830 -0.319423   \n",
      "nr.employed                     0.944830     1.000000 -0.368001   \n",
      "y_yes                          -0.319423    -0.368001  1.000000   \n",
      "Region_Name_East                0.005484     0.007985 -0.005380   \n",
      "Region_Name_South              -0.000289    -0.002093  0.007036   \n",
      "Region_Name_West               -0.003743    -0.007022  0.007511   \n",
      "job_blue-collar                 0.027430     0.046384 -0.068091   \n",
      "job_entrepreneur                0.022445     0.027072 -0.018307   \n",
      "job_housemaid                   0.027710     0.016369 -0.002093   \n",
      "job_management                  0.005915     0.006960 -0.004702   \n",
      "job_retired                    -0.124952    -0.152896  0.103480   \n",
      "job_self-employed               0.006869     0.008480 -0.006189   \n",
      "job_services                    0.014859     0.020952 -0.032917   \n",
      "job_student                    -0.133944    -0.146812  0.085829   \n",
      "job_technician                  0.067208     0.068840 -0.015060   \n",
      "job_unemployed                 -0.024277    -0.033488  0.023026   \n",
      "education_basic.6y              0.011287     0.014536 -0.017931   \n",
      "education_basic.9y              0.017224     0.030209 -0.047946   \n",
      "education_high.school          -0.010231    -0.007490 -0.005889   \n",
      "education_illiterate            0.000567     0.003495 -0.000873   \n",
      "education_professional.course   0.029094     0.023595 -0.002412   \n",
      "education_university.degree    -0.017360    -0.021073  0.045099   \n",
      "marital_married                 0.062305     0.055364 -0.034079   \n",
      "marital_single                 -0.088578    -0.079342  0.045345   \n",
      "default_yes                     0.007213     0.007640 -0.003258   \n",
      "housing_yes                    -0.059342    -0.046263  0.011208   \n",
      "loan_yes                       -0.000786     0.004830 -0.006338   \n",
      "\n",
      "                               Region_Name_East  Region_Name_South  \\\n",
      "age                                   -0.005976           0.005646   \n",
      "cons.price.idx                         0.002255           0.001979   \n",
      "cons.conf.idx                         -0.000506           0.005489   \n",
      "euribor3m                              0.005484          -0.000289   \n",
      "nr.employed                            0.007985          -0.002093   \n",
      "y_yes                                 -0.005380           0.007036   \n",
      "Region_Name_East                       1.000000          -0.277860   \n",
      "Region_Name_South                     -0.277860           1.000000   \n",
      "Region_Name_West                      -0.435122          -0.303200   \n",
      "job_blue-collar                        0.002153           0.007810   \n",
      "job_entrepreneur                      -0.001723          -0.000617   \n",
      "job_housemaid                         -0.011187          -0.007545   \n",
      "job_management                         0.005188          -0.006164   \n",
      "job_retired                           -0.006686           0.006339   \n",
      "job_self-employed                      0.001700          -0.003625   \n",
      "job_services                           0.003547           0.007897   \n",
      "job_student                           -0.008791           0.005632   \n",
      "job_technician                         0.001979          -0.005364   \n",
      "job_unemployed                         0.003356          -0.001922   \n",
      "education_basic.6y                     0.005832           0.003748   \n",
      "education_basic.9y                    -0.002125          -0.003010   \n",
      "education_high.school                  0.001136           0.003121   \n",
      "education_illiterate                   0.001936          -0.002510   \n",
      "education_professional.course          0.003181          -0.002632   \n",
      "education_university.degree           -0.001856          -0.002032   \n",
      "marital_married                        0.005809           0.002365   \n",
      "marital_single                        -0.004798          -0.003538   \n",
      "default_yes                           -0.005390           0.007821   \n",
      "housing_yes                           -0.005224          -0.006029   \n",
      "loan_yes                               0.007147           0.008103   \n",
      "\n",
      "                               Region_Name_West  job_blue-collar  ...  \\\n",
      "age                                   -0.000781        -0.041473  ...   \n",
      "cons.price.idx                         0.001485         0.052390  ...   \n",
      "cons.conf.idx                         -0.002562        -0.105045  ...   \n",
      "euribor3m                             -0.003743         0.027430  ...   \n",
      "nr.employed                           -0.007022         0.046384  ...   \n",
      "y_yes                                  0.007511        -0.068091  ...   \n",
      "Region_Name_East                      -0.435122         0.002153  ...   \n",
      "Region_Name_South                     -0.303200         0.007810  ...   \n",
      "Region_Name_West                       1.000000        -0.004778  ...   \n",
      "job_blue-collar                       -0.004778         1.000000  ...   \n",
      "job_entrepreneur                       0.006363        -0.091729  ...   \n",
      "job_housemaid                          0.001569        -0.072181  ...   \n",
      "job_management                        -0.008501        -0.137115  ...   \n",
      "job_retired                           -0.004106        -0.097107  ...   \n",
      "job_self-employed                      0.000344        -0.091924  ...   \n",
      "job_services                          -0.000343        -0.152999  ...   \n",
      "job_student                            0.014140        -0.067520  ...   \n",
      "job_technician                         0.001725        -0.224530  ...   \n",
      "job_unemployed                        -0.003202        -0.075722  ...   \n",
      "education_basic.6y                    -0.004512         0.231153  ...   \n",
      "education_basic.9y                     0.005706         0.401736  ...   \n",
      "education_high.school                  0.001545        -0.145491  ...   \n",
      "education_illiterate                  -0.003865         0.012028  ...   \n",
      "education_professional.course          0.003588        -0.107558  ...   \n",
      "education_university.degree           -0.002843        -0.331437  ...   \n",
      "marital_married                       -0.013285         0.113512  ...   \n",
      "marital_single                         0.011460        -0.085760  ...   \n",
      "default_yes                           -0.005882        -0.004080  ...   \n",
      "housing_yes                            0.006752        -0.007712  ...   \n",
      "loan_yes                              -0.012211         0.001500  ...   \n",
      "\n",
      "                               education_basic.9y  education_high.school  \\\n",
      "age                                     -0.031006              -0.092670   \n",
      "cons.price.idx                           0.032201               0.025776   \n",
      "cons.conf.idx                           -0.077838              -0.051372   \n",
      "euribor3m                                0.017224              -0.010231   \n",
      "nr.employed                              0.030209              -0.007490   \n",
      "y_yes                                   -0.047946              -0.005889   \n",
      "Region_Name_East                        -0.002125               0.001136   \n",
      "Region_Name_South                       -0.003010               0.003121   \n",
      "Region_Name_West                         0.005706               0.001545   \n",
      "job_blue-collar                          0.401736              -0.145491   \n",
      "job_entrepreneur                         0.011174              -0.032241   \n",
      "job_housemaid                           -0.016053              -0.025283   \n",
      "job_management                          -0.065307              -0.104061   \n",
      "job_retired                             -0.040441              -0.032533   \n",
      "job_self-employed                       -0.005025              -0.073780   \n",
      "job_services                            -0.034244               0.336733   \n",
      "job_student                              0.003734               0.080176   \n",
      "job_technician                          -0.111297              -0.125028   \n",
      "job_unemployed                           0.016347               0.001267   \n",
      "education_basic.6y                      -0.088129              -0.127043   \n",
      "education_basic.9y                       1.000000              -0.234297   \n",
      "education_high.school                   -0.234297               1.000000   \n",
      "education_illiterate                    -0.007301              -0.010525   \n",
      "education_professional.course           -0.164005              -0.236422   \n",
      "education_university.degree             -0.290188              -0.418321   \n",
      "marital_married                          0.072333              -0.067481   \n",
      "marital_single                          -0.064468               0.055713   \n",
      "default_yes                             -0.003441              -0.004961   \n",
      "housing_yes                              0.004767              -0.014001   \n",
      "loan_yes                                 0.001095              -0.002106   \n",
      "\n",
      "                               education_illiterate  \\\n",
      "age                                        0.011564   \n",
      "cons.price.idx                            -0.007722   \n",
      "cons.conf.idx                             -0.000579   \n",
      "euribor3m                                  0.000567   \n",
      "nr.employed                                0.003495   \n",
      "y_yes                                     -0.000873   \n",
      "Region_Name_East                           0.001936   \n",
      "Region_Name_South                         -0.002510   \n",
      "Region_Name_West                          -0.003865   \n",
      "job_blue-collar                            0.012028   \n",
      "job_entrepreneur                           0.018268   \n",
      "job_housemaid                             -0.002735   \n",
      "job_management                            -0.005195   \n",
      "job_retired                                0.006635   \n",
      "job_self-employed                          0.018218   \n",
      "job_services                              -0.005796   \n",
      "job_student                               -0.002558   \n",
      "job_technician                            -0.008506   \n",
      "job_unemployed                            -0.002869   \n",
      "education_basic.6y                        -0.003959   \n",
      "education_basic.9y                        -0.007301   \n",
      "education_high.school                     -0.010525   \n",
      "education_illiterate                       1.000000   \n",
      "education_professional.course             -0.007367   \n",
      "education_university.degree               -0.013035   \n",
      "marital_married                            0.011501   \n",
      "marital_single                            -0.012107   \n",
      "default_yes                               -0.000155   \n",
      "housing_yes                                0.000453   \n",
      "loan_yes                                  -0.007789   \n",
      "\n",
      "                               education_professional.course  \\\n",
      "age                                                 0.010915   \n",
      "cons.price.idx                                      0.010100   \n",
      "cons.conf.idx                                       0.032092   \n",
      "euribor3m                                           0.029094   \n",
      "nr.employed                                         0.023595   \n",
      "y_yes                                              -0.002412   \n",
      "Region_Name_East                                    0.003181   \n",
      "Region_Name_South                                  -0.002632   \n",
      "Region_Name_West                                    0.003588   \n",
      "job_blue-collar                                    -0.107558   \n",
      "job_entrepreneur                                   -0.023369   \n",
      "job_housemaid                                      -0.031739   \n",
      "job_management                                     -0.091488   \n",
      "job_retired                                         0.010437   \n",
      "job_self-employed                                  -0.011262   \n",
      "job_services                                       -0.075928   \n",
      "job_student                                        -0.031840   \n",
      "job_technician                                      0.487743   \n",
      "job_unemployed                                      0.005795   \n",
      "education_basic.6y                                 -0.088928   \n",
      "education_basic.9y                                 -0.164005   \n",
      "education_high.school                              -0.236422   \n",
      "education_illiterate                               -0.007367   \n",
      "education_professional.course                       1.000000   \n",
      "education_university.degree                        -0.292819   \n",
      "marital_married                                     0.002516   \n",
      "marital_single                                     -0.015157   \n",
      "default_yes                                         0.020982   \n",
      "housing_yes                                         0.010270   \n",
      "loan_yes                                           -0.005056   \n",
      "\n",
      "                               education_university.degree  marital_married  \\\n",
      "age                                              -0.048200         0.262905   \n",
      "cons.price.idx                                   -0.070958         0.025235   \n",
      "cons.conf.idx                                     0.085068         0.055971   \n",
      "euribor3m                                        -0.017360         0.062305   \n",
      "nr.employed                                      -0.021073         0.055364   \n",
      "y_yes                                             0.045099        -0.034079   \n",
      "Region_Name_East                                 -0.001856         0.005809   \n",
      "Region_Name_South                                -0.002032         0.002365   \n",
      "Region_Name_West                                 -0.002843        -0.013285   \n",
      "job_blue-collar                                  -0.331437         0.113512   \n",
      "job_entrepreneur                                  0.036631         0.052729   \n",
      "job_housemaid                                    -0.055612         0.049982   \n",
      "job_management                                    0.258493         0.072042   \n",
      "job_retired                                      -0.065496         0.060611   \n",
      "job_self-employed                                 0.109736         0.008401   \n",
      "job_services                                     -0.194134        -0.021230   \n",
      "job_student                                      -0.033991        -0.148311   \n",
      "job_technician                                   -0.057392        -0.046877   \n",
      "job_unemployed                                   -0.012103         0.000308   \n",
      "education_basic.6y                               -0.157349         0.089070   \n",
      "education_basic.9y                               -0.290188         0.072333   \n",
      "education_high.school                            -0.418321        -0.067481   \n",
      "education_illiterate                             -0.013035         0.011501   \n",
      "education_professional.course                    -0.292819         0.002516   \n",
      "education_university.degree                       1.000000        -0.086956   \n",
      "marital_married                                  -0.086956         1.000000   \n",
      "marital_single                                    0.107897        -0.777534   \n",
      "default_yes                                      -0.006144         0.007339   \n",
      "housing_yes                                       0.010450        -0.009710   \n",
      "loan_yes                                          0.010847         0.002202   \n",
      "\n",
      "                               marital_single  default_yes  housing_yes  \\\n",
      "age                                 -0.410086     0.007376     0.005804   \n",
      "cons.price.idx                      -0.047909    -0.001172    -0.077611   \n",
      "cons.conf.idx                       -0.056440     0.008316    -0.036000   \n",
      "euribor3m                           -0.088578     0.007213    -0.059342   \n",
      "nr.employed                         -0.079342     0.007640    -0.046263   \n",
      "y_yes                                0.045345    -0.003258     0.011208   \n",
      "Region_Name_East                    -0.004798    -0.005390    -0.005224   \n",
      "Region_Name_South                   -0.003538     0.007821    -0.006029   \n",
      "Region_Name_West                     0.011460    -0.005882     0.006752   \n",
      "job_blue-collar                     -0.085760    -0.004080    -0.007712   \n",
      "job_entrepreneur                    -0.061843    -0.001638     0.003747   \n",
      "job_housemaid                       -0.061438    -0.001289    -0.004147   \n",
      "job_management                      -0.073677    -0.002448    -0.008122   \n",
      "job_retired                         -0.111569    -0.001734     0.001542   \n",
      "job_self-employed                   -0.002728    -0.001641    -0.000271   \n",
      "job_services                         0.004070    -0.002732    -0.012199   \n",
      "job_student                          0.190781    -0.001206    -0.000339   \n",
      "job_technician                       0.051880     0.018172     0.011434   \n",
      "job_unemployed                      -0.003869    -0.001352     0.008064   \n",
      "education_basic.6y                  -0.080017    -0.001866    -0.002087   \n",
      "education_basic.9y                  -0.064468    -0.003441     0.004767   \n",
      "education_high.school                0.055713    -0.004961    -0.014001   \n",
      "education_illiterate                -0.012107    -0.000155     0.000453   \n",
      "education_professional.course       -0.015157     0.020982     0.010270   \n",
      "education_university.degree          0.107897    -0.006144     0.010450   \n",
      "marital_married                     -0.777534     0.007339    -0.009710   \n",
      "marital_single                       1.000000    -0.005707     0.013543   \n",
      "default_yes                         -0.005707     1.000000    -0.000738   \n",
      "housing_yes                          0.013543    -0.000738     1.000000   \n",
      "loan_yes                            -0.001728    -0.003672     0.047002   \n",
      "\n",
      "                               loan_yes  \n",
      "age                           -0.010941  \n",
      "cons.price.idx                -0.001384  \n",
      "cons.conf.idx                 -0.018193  \n",
      "euribor3m                     -0.000786  \n",
      "nr.employed                    0.004830  \n",
      "y_yes                         -0.006338  \n",
      "Region_Name_East               0.007147  \n",
      "Region_Name_South              0.008103  \n",
      "Region_Name_West              -0.012211  \n",
      "job_blue-collar                0.001500  \n",
      "job_entrepreneur              -0.002833  \n",
      "job_housemaid                 -0.008531  \n",
      "job_management                -0.001453  \n",
      "job_retired                   -0.008162  \n",
      "job_self-employed             -0.009118  \n",
      "job_services                  -0.006319  \n",
      "job_student                    0.003739  \n",
      "job_technician                -0.012441  \n",
      "job_unemployed                 0.001353  \n",
      "education_basic.6y            -0.005518  \n",
      "education_basic.9y             0.001095  \n",
      "education_high.school         -0.002106  \n",
      "education_illiterate          -0.007789  \n",
      "education_professional.course -0.005056  \n",
      "education_university.degree    0.010847  \n",
      "marital_married                0.002202  \n",
      "marital_single                -0.001728  \n",
      "default_yes                   -0.003672  \n",
      "housing_yes                    0.047002  \n",
      "loan_yes                       1.000000  \n",
      "\n",
      "[30 rows x 30 columns]\n"
     ]
    },
    {
     "name": "stderr",
     "output_type": "stream",
     "text": [
      "C:\\Users\\KPARAS~1\\AppData\\Local\\Temp/ipykernel_14008/3988820143.py:3: DeprecationWarning: `np.bool` is a deprecated alias for the builtin `bool`. To silence this warning, use `bool` by itself. Doing this will not modify any behavior and is safe. If you specifically wanted the numpy scalar type, use `np.bool_` here.\n",
      "Deprecated in NumPy 1.20; for more details and guidance: https://numpy.org/devdocs/release/1.20.0-notes.html#deprecations\n",
      "  mask = np.zeros_like(corr, dtype=np.bool)\n"
     ]
    },
    {
     "data": {
      "image/png": "[encoded data removed]",
      "text/plain": [
       "<Figure size 1296x864 with 2 Axes>"
      ]
     },
     "metadata": {
      "needs_background": "light"
     },
     "output_type": "display_data"
    }
   ],
   "source": [
    "corr = cust_outcome.corr()\n",
    "print(corr)\n",
    "mask = np.zeros_like(corr, dtype=np.bool)\n",
    "mask[np.triu_indices_from(mask)] = True\n",
    "fig, ax = plt.subplots(figsize=(18,12))\n",
    "\n",
    "pl = sns.heatmap(corr, mask=mask, cmap='coolwarm', vmax=1.0, vmin=-1.0, center=0, square=True, linewidths=0.5)\n",
    "plt.show()"
   ]
  },
  {
   "cell_type": "code",
   "execution_count": 149,
   "id": "5a8a5000",
   "metadata": {},
   "outputs": [
    {
     "data": {
      "text/plain": [
       "<seaborn.matrix.ClusterGrid at 0x1de7f1d0f10>"
      ]
     },
     "execution_count": 149,
     "metadata": {},
     "output_type": "execute_result"
    },
    {
     "data": {
      "image/png": "[encoded data removed]",
      "text/plain": [
       "<Figure size 720x720 with 4 Axes>"
      ]
     },
     "metadata": {
      "needs_background": "light"
     },
     "output_type": "display_data"
    }
   ],
   "source": [
    "sns.clustermap(cust_outcome.corr())"
   ]
  },
  {
   "cell_type": "markdown",
   "id": "ca2078d0",
   "metadata": {},
   "source": [
    "This pre-processed dataframe is ready for machine learning."
   ]
  },
  {
   "cell_type": "code",
   "execution_count": 92,
   "id": "a9c26faa",
   "metadata": {},
   "outputs": [],
   "source": [
    "cust_outcome.to_csv('data.csv')"
   ]
  },
  {
   "cell_type": "code",
   "execution_count": null,
   "id": "6bc1c206",
   "metadata": {},
   "outputs": [],
   "source": []
  }
 ],
 "metadata": {
  "kernelspec": {
   "display_name": "Python 3 (ipykernel)",
   "language": "python",
   "name": "python3"
  },
  "language_info": {
   "codemirror_mode": {
    "name": "ipython",
    "version": 3
   },
   "file_extension": ".py",
   "mimetype": "text/x-python",
   "name": "python",
   "nbconvert_exporter": "python",
   "pygments_lexer": "ipython3",
   "version": "3.9.7"
  }
 },
 "nbformat": 4,
 "nbformat_minor": 5
}
