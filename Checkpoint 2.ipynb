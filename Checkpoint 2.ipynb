{
 "cells": [
  {
   "cell_type": "markdown",
   "id": "a4cb3b6b",
   "metadata": {},
   "source": [
    "# Task 2.1"
   ]
  },
  {
   "cell_type": "markdown",
   "id": "4a11f0ab",
   "metadata": {},
   "source": [
    "\n",
    "\n",
    "## Analysis of percentage turnout of marketing campaign\n",
    "\n"
   ]
  },
  {
   "cell_type": "code",
   "execution_count": 1,
   "id": "8707d5a2",
   "metadata": {},
   "outputs": [],
   "source": [
    "import numpy as np\n",
    "import pandas as pd\n",
    "import matplotlib.pyplot as plt\n",
    "import seaborn as sns\n",
    "%matplotlib inline"
   ]
  },
  {
   "cell_type": "code",
   "execution_count": 23,
   "id": "ad157457",
   "metadata": {},
   "outputs": [
    {
     "data": {
      "text/html": [
       "<div>\n",
       "<style scoped>\n",
       "    .dataframe tbody tr th:only-of-type {\n",
       "        vertical-align: middle;\n",
       "    }\n",
       "\n",
       "    .dataframe tbody tr th {\n",
       "        vertical-align: top;\n",
       "    }\n",
       "\n",
       "    .dataframe thead th {\n",
       "        text-align: right;\n",
       "    }\n",
       "</style>\n",
       "<table border=\"1\" class=\"dataframe\">\n",
       "  <thead>\n",
       "    <tr style=\"text-align: right;\">\n",
       "      <th></th>\n",
       "      <th>Customer_id</th>\n",
       "      <th>contact</th>\n",
       "      <th>month</th>\n",
       "      <th>day_of_week</th>\n",
       "      <th>duration</th>\n",
       "      <th>campaign</th>\n",
       "      <th>pdays</th>\n",
       "      <th>previous</th>\n",
       "      <th>poutcome</th>\n",
       "    </tr>\n",
       "  </thead>\n",
       "  <tbody>\n",
       "    <tr>\n",
       "      <th>37079</th>\n",
       "      <td>37080</td>\n",
       "      <td>cellular</td>\n",
       "      <td>nov</td>\n",
       "      <td>fri</td>\n",
       "      <td>334</td>\n",
       "      <td>1</td>\n",
       "      <td>999</td>\n",
       "      <td>0</td>\n",
       "      <td>nonexistent</td>\n",
       "    </tr>\n",
       "    <tr>\n",
       "      <th>37080</th>\n",
       "      <td>37081</td>\n",
       "      <td>cellular</td>\n",
       "      <td>nov</td>\n",
       "      <td>fri</td>\n",
       "      <td>383</td>\n",
       "      <td>1</td>\n",
       "      <td>999</td>\n",
       "      <td>0</td>\n",
       "      <td>nonexistent</td>\n",
       "    </tr>\n",
       "    <tr>\n",
       "      <th>37081</th>\n",
       "      <td>37082</td>\n",
       "      <td>cellular</td>\n",
       "      <td>nov</td>\n",
       "      <td>fri</td>\n",
       "      <td>189</td>\n",
       "      <td>2</td>\n",
       "      <td>999</td>\n",
       "      <td>0</td>\n",
       "      <td>nonexistent</td>\n",
       "    </tr>\n",
       "    <tr>\n",
       "      <th>37082</th>\n",
       "      <td>37083</td>\n",
       "      <td>cellular</td>\n",
       "      <td>nov</td>\n",
       "      <td>fri</td>\n",
       "      <td>442</td>\n",
       "      <td>1</td>\n",
       "      <td>999</td>\n",
       "      <td>0</td>\n",
       "      <td>nonexistent</td>\n",
       "    </tr>\n",
       "    <tr>\n",
       "      <th>37083</th>\n",
       "      <td>37084</td>\n",
       "      <td>cellular</td>\n",
       "      <td>nov</td>\n",
       "      <td>fri</td>\n",
       "      <td>239</td>\n",
       "      <td>3</td>\n",
       "      <td>999</td>\n",
       "      <td>1</td>\n",
       "      <td>failure</td>\n",
       "    </tr>\n",
       "  </tbody>\n",
       "</table>\n",
       "</div>"
      ],
      "text/plain": [
       "       Customer_id   contact month day_of_week  duration  campaign  pdays  \\\n",
       "37079        37080  cellular   nov         fri       334         1    999   \n",
       "37080        37081  cellular   nov         fri       383         1    999   \n",
       "37081        37082  cellular   nov         fri       189         2    999   \n",
       "37082        37083  cellular   nov         fri       442         1    999   \n",
       "37083        37084  cellular   nov         fri       239         3    999   \n",
       "\n",
       "       previous     poutcome  \n",
       "37079         0  nonexistent  \n",
       "37080         0  nonexistent  \n",
       "37081         0  nonexistent  \n",
       "37082         0  nonexistent  \n",
       "37083         1      failure  "
      ]
     },
     "execution_count": 23,
     "metadata": {},
     "output_type": "execute_result"
    }
   ],
   "source": [
    "campaign = pd.read_csv(\"Customer_campaign_details_p1.csv\")\n",
    "campaign.tail()"
   ]
  },
  {
   "cell_type": "code",
   "execution_count": 24,
   "id": "34d7a9ad",
   "metadata": {},
   "outputs": [
    {
     "data": {
      "text/html": [
       "<div>\n",
       "<style scoped>\n",
       "    .dataframe tbody tr th:only-of-type {\n",
       "        vertical-align: middle;\n",
       "    }\n",
       "\n",
       "    .dataframe tbody tr th {\n",
       "        vertical-align: top;\n",
       "    }\n",
       "\n",
       "    .dataframe thead th {\n",
       "        text-align: right;\n",
       "    }\n",
       "</style>\n",
       "<table border=\"1\" class=\"dataframe\">\n",
       "  <thead>\n",
       "    <tr style=\"text-align: right;\">\n",
       "      <th></th>\n",
       "      <th>Customer_id</th>\n",
       "      <th>y</th>\n",
       "    </tr>\n",
       "  </thead>\n",
       "  <tbody>\n",
       "    <tr>\n",
       "      <th>0</th>\n",
       "      <td>1</td>\n",
       "      <td>no</td>\n",
       "    </tr>\n",
       "    <tr>\n",
       "      <th>1</th>\n",
       "      <td>2</td>\n",
       "      <td>no</td>\n",
       "    </tr>\n",
       "    <tr>\n",
       "      <th>2</th>\n",
       "      <td>3</td>\n",
       "      <td>no</td>\n",
       "    </tr>\n",
       "    <tr>\n",
       "      <th>3</th>\n",
       "      <td>4</td>\n",
       "      <td>no</td>\n",
       "    </tr>\n",
       "    <tr>\n",
       "      <th>4</th>\n",
       "      <td>5</td>\n",
       "      <td>no</td>\n",
       "    </tr>\n",
       "  </tbody>\n",
       "</table>\n",
       "</div>"
      ],
      "text/plain": [
       "   Customer_id   y\n",
       "0            1  no\n",
       "1            2  no\n",
       "2            3  no\n",
       "3            4  no\n",
       "4            5  no"
      ]
     },
     "execution_count": 24,
     "metadata": {},
     "output_type": "execute_result"
    }
   ],
   "source": [
    "target = pd.read_csv(\"Customer_Response_data_P1.csv\")\n",
    "target.head()"
   ]
  },
  {
   "cell_type": "code",
   "execution_count": 5,
   "id": "be159492",
   "metadata": {},
   "outputs": [
    {
     "data": {
      "text/html": [
       "<div>\n",
       "<style scoped>\n",
       "    .dataframe tbody tr th:only-of-type {\n",
       "        vertical-align: middle;\n",
       "    }\n",
       "\n",
       "    .dataframe tbody tr th {\n",
       "        vertical-align: top;\n",
       "    }\n",
       "\n",
       "    .dataframe thead th {\n",
       "        text-align: right;\n",
       "    }\n",
       "</style>\n",
       "<table border=\"1\" class=\"dataframe\">\n",
       "  <thead>\n",
       "    <tr style=\"text-align: right;\">\n",
       "      <th></th>\n",
       "      <th>Customer_id</th>\n",
       "      <th>contact</th>\n",
       "      <th>month</th>\n",
       "      <th>day_of_week</th>\n",
       "      <th>duration</th>\n",
       "      <th>campaign</th>\n",
       "      <th>pdays</th>\n",
       "      <th>previous</th>\n",
       "      <th>poutcome</th>\n",
       "      <th>y</th>\n",
       "    </tr>\n",
       "  </thead>\n",
       "  <tbody>\n",
       "    <tr>\n",
       "      <th>37079</th>\n",
       "      <td>37080</td>\n",
       "      <td>cellular</td>\n",
       "      <td>nov</td>\n",
       "      <td>fri</td>\n",
       "      <td>334</td>\n",
       "      <td>1</td>\n",
       "      <td>999</td>\n",
       "      <td>0</td>\n",
       "      <td>nonexistent</td>\n",
       "      <td>yes</td>\n",
       "    </tr>\n",
       "    <tr>\n",
       "      <th>37080</th>\n",
       "      <td>37081</td>\n",
       "      <td>cellular</td>\n",
       "      <td>nov</td>\n",
       "      <td>fri</td>\n",
       "      <td>383</td>\n",
       "      <td>1</td>\n",
       "      <td>999</td>\n",
       "      <td>0</td>\n",
       "      <td>nonexistent</td>\n",
       "      <td>no</td>\n",
       "    </tr>\n",
       "    <tr>\n",
       "      <th>37081</th>\n",
       "      <td>37082</td>\n",
       "      <td>cellular</td>\n",
       "      <td>nov</td>\n",
       "      <td>fri</td>\n",
       "      <td>189</td>\n",
       "      <td>2</td>\n",
       "      <td>999</td>\n",
       "      <td>0</td>\n",
       "      <td>nonexistent</td>\n",
       "      <td>no</td>\n",
       "    </tr>\n",
       "    <tr>\n",
       "      <th>37082</th>\n",
       "      <td>37083</td>\n",
       "      <td>cellular</td>\n",
       "      <td>nov</td>\n",
       "      <td>fri</td>\n",
       "      <td>442</td>\n",
       "      <td>1</td>\n",
       "      <td>999</td>\n",
       "      <td>0</td>\n",
       "      <td>nonexistent</td>\n",
       "      <td>yes</td>\n",
       "    </tr>\n",
       "    <tr>\n",
       "      <th>37083</th>\n",
       "      <td>37084</td>\n",
       "      <td>cellular</td>\n",
       "      <td>nov</td>\n",
       "      <td>fri</td>\n",
       "      <td>239</td>\n",
       "      <td>3</td>\n",
       "      <td>999</td>\n",
       "      <td>1</td>\n",
       "      <td>failure</td>\n",
       "      <td>no</td>\n",
       "    </tr>\n",
       "  </tbody>\n",
       "</table>\n",
       "</div>"
      ],
      "text/plain": [
       "       Customer_id   contact month day_of_week  duration  campaign  pdays  \\\n",
       "37079        37080  cellular   nov         fri       334         1    999   \n",
       "37080        37081  cellular   nov         fri       383         1    999   \n",
       "37081        37082  cellular   nov         fri       189         2    999   \n",
       "37082        37083  cellular   nov         fri       442         1    999   \n",
       "37083        37084  cellular   nov         fri       239         3    999   \n",
       "\n",
       "       previous     poutcome    y  \n",
       "37079         0  nonexistent  yes  \n",
       "37080         0  nonexistent   no  \n",
       "37081         0  nonexistent   no  \n",
       "37082         0  nonexistent  yes  \n",
       "37083         1      failure   no  "
      ]
     },
     "execution_count": 5,
     "metadata": {},
     "output_type": "execute_result"
    }
   ],
   "source": [
    "campaign_outcome = pd.merge(campaign, target, on='Customer_id', how='inner')\n",
    "campaign_outcome.tail()"
   ]
  },
  {
   "cell_type": "code",
   "execution_count": 6,
   "id": "d2395835",
   "metadata": {},
   "outputs": [
    {
     "data": {
      "text/plain": [
       "(array([32876.,     0.,     0.,     0.,     0.,     0.,     0.,     0.,\n",
       "            0.,  4208.]),\n",
       " array([0. , 0.1, 0.2, 0.3, 0.4, 0.5, 0.6, 0.7, 0.8, 0.9, 1. ]),\n",
       " <BarContainer object of 10 artists>)"
      ]
     },
     "execution_count": 6,
     "metadata": {},
     "output_type": "execute_result"
    },
    {
     "data": {
      "image/png": "[encoded data removed]",
      "text/plain": [
       "<Figure size 432x288 with 1 Axes>"
      ]
     },
     "metadata": {
      "needs_background": "light"
     },
     "output_type": "display_data"
    }
   ],
   "source": [
    "plt.hist(campaign_outcome['y'])"
   ]
  },
  {
   "cell_type": "code",
   "execution_count": 7,
   "id": "10be3c29",
   "metadata": {},
   "outputs": [
    {
     "data": {
      "image/png": "[encoded data removed]",
      "text/plain": [
       "<Figure size 720x432 with 1 Axes>"
      ]
     },
     "metadata": {},
     "output_type": "display_data"
    }
   ],
   "source": [
    "plt.figure(figsize=(10,6))\n",
    "_, _, pie = plt.pie(campaign_outcome['y'].value_counts(), explode=[0,0.1], labels=campaign_outcome['y'].unique(), \n",
    "                    autopct='%.2f%%', colors=['grey','black'], textprops={'fontsize': 14})\n",
    "for p in pie:\n",
    "    p.set_color('white')"
   ]
  },
  {
   "cell_type": "markdown",
   "id": "659a771b",
   "metadata": {},
   "source": [
    "### The percentage turnout for Campaigns is:  11.35 %"
   ]
  },
  {
   "cell_type": "markdown",
   "id": "b7af3fce",
   "metadata": {},
   "source": [
    " \n",
    " \n",
    " \n",
    " \n",
    " "
   ]
  },
  {
   "cell_type": "markdown",
   "id": "f3ec773e",
   "metadata": {},
   "source": [
    "____________________________________"
   ]
  },
  {
   "cell_type": "markdown",
   "id": "e2896fb6",
   "metadata": {},
   "source": [
    "## Demographic analysis of the marketing campaign using the master files"
   ]
  },
  {
   "cell_type": "code",
   "execution_count": 8,
   "id": "5c937406",
   "metadata": {},
   "outputs": [
    {
     "data": {
      "text/html": [
       "<div>\n",
       "<style scoped>\n",
       "    .dataframe tbody tr th:only-of-type {\n",
       "        vertical-align: middle;\n",
       "    }\n",
       "\n",
       "    .dataframe tbody tr th {\n",
       "        vertical-align: top;\n",
       "    }\n",
       "\n",
       "    .dataframe thead th {\n",
       "        text-align: right;\n",
       "    }\n",
       "</style>\n",
       "<table border=\"1\" class=\"dataframe\">\n",
       "  <thead>\n",
       "    <tr style=\"text-align: right;\">\n",
       "      <th></th>\n",
       "      <th>Customer_id</th>\n",
       "      <th>age</th>\n",
       "      <th>job</th>\n",
       "      <th>marital</th>\n",
       "      <th>education</th>\n",
       "      <th>default</th>\n",
       "      <th>housing</th>\n",
       "      <th>loan</th>\n",
       "      <th>Region_Code</th>\n",
       "      <th>State_Code</th>\n",
       "      <th>City_Code</th>\n",
       "      <th>y</th>\n",
       "      <th>State_Name</th>\n",
       "      <th>Region_Name</th>\n",
       "    </tr>\n",
       "  </thead>\n",
       "  <tbody>\n",
       "    <tr>\n",
       "      <th>37019</th>\n",
       "      <td>19481</td>\n",
       "      <td>31</td>\n",
       "      <td>admin.</td>\n",
       "      <td>single</td>\n",
       "      <td>university.degree</td>\n",
       "      <td>no</td>\n",
       "      <td>yes</td>\n",
       "      <td>no</td>\n",
       "      <td>2</td>\n",
       "      <td>S49</td>\n",
       "      <td>C321</td>\n",
       "      <td>yes</td>\n",
       "      <td>West Virginia</td>\n",
       "      <td>East</td>\n",
       "    </tr>\n",
       "    <tr>\n",
       "      <th>37020</th>\n",
       "      <td>27883</td>\n",
       "      <td>32</td>\n",
       "      <td>admin.</td>\n",
       "      <td>single</td>\n",
       "      <td>university.degree</td>\n",
       "      <td>no</td>\n",
       "      <td>yes</td>\n",
       "      <td>no</td>\n",
       "      <td>2</td>\n",
       "      <td>S49</td>\n",
       "      <td>C321</td>\n",
       "      <td>no</td>\n",
       "      <td>West Virginia</td>\n",
       "      <td>East</td>\n",
       "    </tr>\n",
       "    <tr>\n",
       "      <th>37021</th>\n",
       "      <td>27884</td>\n",
       "      <td>44</td>\n",
       "      <td>management</td>\n",
       "      <td>married</td>\n",
       "      <td>university.degree</td>\n",
       "      <td>no</td>\n",
       "      <td>yes</td>\n",
       "      <td>no</td>\n",
       "      <td>2</td>\n",
       "      <td>S49</td>\n",
       "      <td>C321</td>\n",
       "      <td>no</td>\n",
       "      <td>West Virginia</td>\n",
       "      <td>East</td>\n",
       "    </tr>\n",
       "    <tr>\n",
       "      <th>37022</th>\n",
       "      <td>27885</td>\n",
       "      <td>34</td>\n",
       "      <td>services</td>\n",
       "      <td>unknown</td>\n",
       "      <td>high.school</td>\n",
       "      <td>no</td>\n",
       "      <td>yes</td>\n",
       "      <td>yes</td>\n",
       "      <td>2</td>\n",
       "      <td>S49</td>\n",
       "      <td>C321</td>\n",
       "      <td>no</td>\n",
       "      <td>West Virginia</td>\n",
       "      <td>East</td>\n",
       "    </tr>\n",
       "    <tr>\n",
       "      <th>37023</th>\n",
       "      <td>29475</td>\n",
       "      <td>52</td>\n",
       "      <td>blue-collar</td>\n",
       "      <td>married</td>\n",
       "      <td>basic.9y</td>\n",
       "      <td>unknown</td>\n",
       "      <td>yes</td>\n",
       "      <td>no</td>\n",
       "      <td>2</td>\n",
       "      <td>S49</td>\n",
       "      <td>C321</td>\n",
       "      <td>no</td>\n",
       "      <td>West Virginia</td>\n",
       "      <td>East</td>\n",
       "    </tr>\n",
       "  </tbody>\n",
       "</table>\n",
       "</div>"
      ],
      "text/plain": [
       "       Customer_id  age          job  marital          education  default  \\\n",
       "37019        19481   31       admin.   single  university.degree       no   \n",
       "37020        27883   32       admin.   single  university.degree       no   \n",
       "37021        27884   44   management  married  university.degree       no   \n",
       "37022        27885   34     services  unknown        high.school       no   \n",
       "37023        29475   52  blue-collar  married           basic.9y  unknown   \n",
       "\n",
       "      housing loan Region_Code State_Code City_Code    y     State_Name  \\\n",
       "37019     yes   no           2        S49      C321  yes  West Virginia   \n",
       "37020     yes   no           2        S49      C321   no  West Virginia   \n",
       "37021     yes   no           2        S49      C321   no  West Virginia   \n",
       "37022     yes  yes           2        S49      C321   no  West Virginia   \n",
       "37023     yes   no           2        S49      C321   no  West Virginia   \n",
       "\n",
       "      Region_Name  \n",
       "37019        East  \n",
       "37020        East  \n",
       "37021        East  \n",
       "37022        East  \n",
       "37023        East  "
      ]
     },
     "execution_count": 8,
     "metadata": {},
     "output_type": "execute_result"
    }
   ],
   "source": [
    "custDetails = pd.read_csv(\"Customer_and_bank details_p1.csv\")\n",
    "target = pd.read_csv(\"Customer_Response_data_P1.csv\")\n",
    "state = pd.read_csv(\"State_Master.csv\")\n",
    "region = pd.read_csv(\"Region_code_master.csv\")\n",
    "region['Region_Code'] = region['Region_Code'].astype(str)\n",
    "state.drop('Region_Code', axis=1, inplace=True)\n",
    "cust_outcome = pd.merge(custDetails, target, on='Customer_id', how='inner')\n",
    "cust_outcome = pd.merge(cust_outcome, state, on='State_Code', how='inner')\n",
    "cust_outcome = pd.merge(cust_outcome, region, on='Region_Code', how='inner')\n",
    "cust_outcome.reset_index(drop=True, inplace=True)\n",
    "cust_outcome.tail()"
   ]
  },
  {
   "cell_type": "markdown",
   "id": "38448af4",
   "metadata": {},
   "source": [
    "#### State-wise analysis"
   ]
  },
  {
   "cell_type": "code",
   "execution_count": 9,
   "id": "42d06381",
   "metadata": {},
   "outputs": [
    {
     "data": {
      "image/png": "[encoded data removed]",
      "text/plain": [
       "<Figure size 1872x720 with 1 Axes>"
      ]
     },
     "metadata": {
      "needs_background": "light"
     },
     "output_type": "display_data"
    }
   ],
   "source": [
    "plt.figure(figsize=(26,10))\n",
    "ax = sns.histplot(x='State_Name', hue='y', data=cust_outcome, alpha=0.4)\n",
    "locs, labels = plt.xticks()\n",
    "plt.setp(labels, rotation=30)\n",
    "plt.show()"
   ]
  },
  {
   "cell_type": "code",
   "execution_count": 10,
   "id": "d40d1daf",
   "metadata": {},
   "outputs": [
    {
     "data": {
      "text/html": [
       "<div>\n",
       "<style scoped>\n",
       "    .dataframe tbody tr th:only-of-type {\n",
       "        vertical-align: middle;\n",
       "    }\n",
       "\n",
       "    .dataframe tbody tr th {\n",
       "        vertical-align: top;\n",
       "    }\n",
       "\n",
       "    .dataframe thead tr th {\n",
       "        text-align: left;\n",
       "    }\n",
       "\n",
       "    .dataframe thead tr:last-of-type th {\n",
       "        text-align: right;\n",
       "    }\n",
       "</style>\n",
       "<table border=\"1\" class=\"dataframe\">\n",
       "  <thead>\n",
       "    <tr>\n",
       "      <th></th>\n",
       "      <th colspan=\"3\" halign=\"left\">Customer_id</th>\n",
       "      <th>Percentage</th>\n",
       "    </tr>\n",
       "    <tr>\n",
       "      <th>y</th>\n",
       "      <th>no</th>\n",
       "      <th>yes</th>\n",
       "      <th>Total</th>\n",
       "      <th></th>\n",
       "    </tr>\n",
       "    <tr>\n",
       "      <th>State_Name</th>\n",
       "      <th></th>\n",
       "      <th></th>\n",
       "      <th></th>\n",
       "      <th></th>\n",
       "    </tr>\n",
       "  </thead>\n",
       "  <tbody>\n",
       "    <tr>\n",
       "      <th>Wyoming</th>\n",
       "      <td>3</td>\n",
       "      <td>1</td>\n",
       "      <td>4</td>\n",
       "      <td>25.000000</td>\n",
       "    </tr>\n",
       "    <tr>\n",
       "      <th>Louisiana</th>\n",
       "      <td>132</td>\n",
       "      <td>30</td>\n",
       "      <td>162</td>\n",
       "      <td>18.518519</td>\n",
       "    </tr>\n",
       "    <tr>\n",
       "      <th>Oregon</th>\n",
       "      <td>388</td>\n",
       "      <td>72</td>\n",
       "      <td>460</td>\n",
       "      <td>15.652174</td>\n",
       "    </tr>\n",
       "    <tr>\n",
       "      <th>South Carolina</th>\n",
       "      <td>142</td>\n",
       "      <td>26</td>\n",
       "      <td>168</td>\n",
       "      <td>15.476190</td>\n",
       "    </tr>\n",
       "    <tr>\n",
       "      <th>North Dakota</th>\n",
       "      <td>22</td>\n",
       "      <td>4</td>\n",
       "      <td>26</td>\n",
       "      <td>15.384615</td>\n",
       "    </tr>\n",
       "  </tbody>\n",
       "</table>\n",
       "</div>"
      ],
      "text/plain": [
       "               Customer_id           Percentage\n",
       "y                       no yes Total           \n",
       "State_Name                                     \n",
       "Wyoming                  3   1     4  25.000000\n",
       "Louisiana              132  30   162  18.518519\n",
       "Oregon                 388  72   460  15.652174\n",
       "South Carolina         142  26   168  15.476190\n",
       "North Dakota            22   4    26  15.384615"
      ]
     },
     "execution_count": 10,
     "metadata": {},
     "output_type": "execute_result"
    }
   ],
   "source": [
    "analysis_state = pd.pivot_table(cust_outcome, index =['State_Name'],values=['Customer_id'], columns=['y'], aggfunc='count',margins=True, margins_name='Total')\n",
    "analysis_state[\"Percentage\"] = analysis_state['Customer_id']['yes']/analysis_state['Customer_id']['Total']*100\n",
    "analysis_state.sort_values(by='Percentage',ascending=False).head()"
   ]
  },
  {
   "cell_type": "code",
   "execution_count": 11,
   "id": "b779ec7b",
   "metadata": {},
   "outputs": [
    {
     "data": {
      "image/png": "[encoded data removed]",
      "text/plain": [
       "<Figure size 864x360 with 2 Axes>"
      ]
     },
     "metadata": {
      "needs_background": "light"
     },
     "output_type": "display_data"
    }
   ],
   "source": [
    "plt.figure(figsize=(12,5))\n",
    "plt.subplot(1, 2, 1)\n",
    "plt.bar(analysis_state.sort_values(by='Percentage',ascending=False).index[:5], \n",
    "        analysis_state.sort_values(by='Percentage',ascending=False)['Percentage'][:5])\n",
    "plt.subplot(1, 2, 2)\n",
    "plt.bar(analysis_state.sort_values(by='Percentage',ascending=False).index[-5:], \n",
    "        analysis_state.sort_values(by='Percentage',ascending=False)['Percentage'][-5:])\n",
    "plt.tight_layout()\n"
   ]
  },
  {
   "cell_type": "markdown",
   "id": "c971b748",
   "metadata": {},
   "source": [
    "#### INFERENCE- We have observed that the state-wise success percentage is highest in Wyoming at 25% and lowest in Montana at 3.6%."
   ]
  },
  {
   "cell_type": "markdown",
   "id": "c1c23bc7",
   "metadata": {},
   "source": [
    " \n",
    " \n",
    "#### Region-wise analysis"
   ]
  },
  {
   "cell_type": "code",
   "execution_count": 12,
   "id": "fbc1e5f9",
   "metadata": {},
   "outputs": [
    {
     "data": {
      "text/html": [
       "<div>\n",
       "<style scoped>\n",
       "    .dataframe tbody tr th:only-of-type {\n",
       "        vertical-align: middle;\n",
       "    }\n",
       "\n",
       "    .dataframe tbody tr th {\n",
       "        vertical-align: top;\n",
       "    }\n",
       "\n",
       "    .dataframe thead tr th {\n",
       "        text-align: left;\n",
       "    }\n",
       "\n",
       "    .dataframe thead tr:last-of-type th {\n",
       "        text-align: right;\n",
       "    }\n",
       "</style>\n",
       "<table border=\"1\" class=\"dataframe\">\n",
       "  <thead>\n",
       "    <tr>\n",
       "      <th></th>\n",
       "      <th colspan=\"3\" halign=\"left\">Customer_id</th>\n",
       "      <th>Percentage</th>\n",
       "    </tr>\n",
       "    <tr>\n",
       "      <th>y</th>\n",
       "      <th>no</th>\n",
       "      <th>yes</th>\n",
       "      <th>Total</th>\n",
       "      <th></th>\n",
       "    </tr>\n",
       "    <tr>\n",
       "      <th>Region_Name</th>\n",
       "      <th></th>\n",
       "      <th></th>\n",
       "      <th></th>\n",
       "      <th></th>\n",
       "    </tr>\n",
       "  </thead>\n",
       "  <tbody>\n",
       "    <tr>\n",
       "      <th>West</th>\n",
       "      <td>10491</td>\n",
       "      <td>1393</td>\n",
       "      <td>11884</td>\n",
       "      <td>11.721643</td>\n",
       "    </tr>\n",
       "    <tr>\n",
       "      <th>South</th>\n",
       "      <td>5292</td>\n",
       "      <td>700</td>\n",
       "      <td>5992</td>\n",
       "      <td>11.682243</td>\n",
       "    </tr>\n",
       "    <tr>\n",
       "      <th>Total</th>\n",
       "      <td>32824</td>\n",
       "      <td>4200</td>\n",
       "      <td>37024</td>\n",
       "      <td>11.343993</td>\n",
       "    </tr>\n",
       "    <tr>\n",
       "      <th>East</th>\n",
       "      <td>9390</td>\n",
       "      <td>1168</td>\n",
       "      <td>10558</td>\n",
       "      <td>11.062701</td>\n",
       "    </tr>\n",
       "    <tr>\n",
       "      <th>Central</th>\n",
       "      <td>7651</td>\n",
       "      <td>939</td>\n",
       "      <td>8590</td>\n",
       "      <td>10.931315</td>\n",
       "    </tr>\n",
       "  </tbody>\n",
       "</table>\n",
       "</div>"
      ],
      "text/plain": [
       "            Customer_id              Percentage\n",
       "y                    no   yes  Total           \n",
       "Region_Name                                    \n",
       "West              10491  1393  11884  11.721643\n",
       "South              5292   700   5992  11.682243\n",
       "Total             32824  4200  37024  11.343993\n",
       "East               9390  1168  10558  11.062701\n",
       "Central            7651   939   8590  10.931315"
      ]
     },
     "execution_count": 12,
     "metadata": {},
     "output_type": "execute_result"
    }
   ],
   "source": [
    "analysis_region = pd.pivot_table(cust_outcome, index =['Region_Name'],values=['Customer_id'], columns=['y'], aggfunc='count',margins=True, margins_name='Total')\n",
    "analysis_region[\"Percentage\"] = analysis_region['Customer_id']['yes']/analysis_region['Customer_id']['Total']*100\n",
    "analysis_region.sort_values(by='Percentage',ascending=False)"
   ]
  },
  {
   "cell_type": "code",
   "execution_count": 13,
   "id": "f4a4e35b",
   "metadata": {},
   "outputs": [
    {
     "data": {
      "image/png": "[encoded data removed]",
      "text/plain": [
       "<Figure size 576x360 with 1 Axes>"
      ]
     },
     "metadata": {
      "needs_background": "light"
     },
     "output_type": "display_data"
    }
   ],
   "source": [
    "fig, ax = plt.subplots(figsize=(8,5))\n",
    "bars = ax.bar(analysis_region.index, analysis_region['Percentage'])\n",
    "for bar in bars:\n",
    "    height = bar.get_height().round(2)\n",
    "    label_x_pos = bar.get_x() + bar.get_width() / 2\n",
    "    ax.text(label_x_pos, height, s=f'{height}', ha='center',\n",
    "    va='bottom')"
   ]
  },
  {
   "cell_type": "markdown",
   "id": "e0ab669b",
   "metadata": {},
   "source": [
    "#### INFERENCE- We have observed that the regional percentage is almost the same as average percentage for the success rate of the campaign. There is no data of North so we can target the North region"
   ]
  },
  {
   "cell_type": "markdown",
   "id": "ecd0041a",
   "metadata": {},
   "source": [
    " \n",
    " "
   ]
  },
  {
   "cell_type": "markdown",
   "id": "fdc5e476",
   "metadata": {},
   "source": [
    "#### Job-wise analysis"
   ]
  },
  {
   "cell_type": "code",
   "execution_count": 14,
   "id": "0f3805c0",
   "metadata": {},
   "outputs": [
    {
     "data": {
      "text/html": [
       "<div>\n",
       "<style scoped>\n",
       "    .dataframe tbody tr th:only-of-type {\n",
       "        vertical-align: middle;\n",
       "    }\n",
       "\n",
       "    .dataframe tbody tr th {\n",
       "        vertical-align: top;\n",
       "    }\n",
       "\n",
       "    .dataframe thead tr th {\n",
       "        text-align: left;\n",
       "    }\n",
       "\n",
       "    .dataframe thead tr:last-of-type th {\n",
       "        text-align: right;\n",
       "    }\n",
       "</style>\n",
       "<table border=\"1\" class=\"dataframe\">\n",
       "  <thead>\n",
       "    <tr>\n",
       "      <th></th>\n",
       "      <th colspan=\"3\" halign=\"left\">Customer_id</th>\n",
       "      <th>Percentage</th>\n",
       "    </tr>\n",
       "    <tr>\n",
       "      <th>y</th>\n",
       "      <th>no</th>\n",
       "      <th>yes</th>\n",
       "      <th>Total</th>\n",
       "      <th></th>\n",
       "    </tr>\n",
       "    <tr>\n",
       "      <th>job</th>\n",
       "      <th></th>\n",
       "      <th></th>\n",
       "      <th></th>\n",
       "      <th></th>\n",
       "    </tr>\n",
       "  </thead>\n",
       "  <tbody>\n",
       "    <tr>\n",
       "      <th>student</th>\n",
       "      <td>527</td>\n",
       "      <td>240</td>\n",
       "      <td>767</td>\n",
       "      <td>31.290743</td>\n",
       "    </tr>\n",
       "    <tr>\n",
       "      <th>retired</th>\n",
       "      <td>1144</td>\n",
       "      <td>395</td>\n",
       "      <td>1539</td>\n",
       "      <td>25.666017</td>\n",
       "    </tr>\n",
       "    <tr>\n",
       "      <th>unemployed</th>\n",
       "      <td>791</td>\n",
       "      <td>134</td>\n",
       "      <td>925</td>\n",
       "      <td>14.486486</td>\n",
       "    </tr>\n",
       "    <tr>\n",
       "      <th>admin.</th>\n",
       "      <td>8163</td>\n",
       "      <td>1240</td>\n",
       "      <td>9403</td>\n",
       "      <td>13.187281</td>\n",
       "    </tr>\n",
       "    <tr>\n",
       "      <th>unknown</th>\n",
       "      <td>271</td>\n",
       "      <td>35</td>\n",
       "      <td>306</td>\n",
       "      <td>11.437908</td>\n",
       "    </tr>\n",
       "    <tr>\n",
       "      <th>Total</th>\n",
       "      <td>32824</td>\n",
       "      <td>4200</td>\n",
       "      <td>37024</td>\n",
       "      <td>11.343993</td>\n",
       "    </tr>\n",
       "    <tr>\n",
       "      <th>management</th>\n",
       "      <td>2343</td>\n",
       "      <td>292</td>\n",
       "      <td>2635</td>\n",
       "      <td>11.081594</td>\n",
       "    </tr>\n",
       "    <tr>\n",
       "      <th>technician</th>\n",
       "      <td>5430</td>\n",
       "      <td>657</td>\n",
       "      <td>6087</td>\n",
       "      <td>10.793494</td>\n",
       "    </tr>\n",
       "    <tr>\n",
       "      <th>self-employed</th>\n",
       "      <td>1144</td>\n",
       "      <td>130</td>\n",
       "      <td>1274</td>\n",
       "      <td>10.204082</td>\n",
       "    </tr>\n",
       "    <tr>\n",
       "      <th>housemaid</th>\n",
       "      <td>849</td>\n",
       "      <td>93</td>\n",
       "      <td>942</td>\n",
       "      <td>9.872611</td>\n",
       "    </tr>\n",
       "    <tr>\n",
       "      <th>entrepreneur</th>\n",
       "      <td>1196</td>\n",
       "      <td>111</td>\n",
       "      <td>1307</td>\n",
       "      <td>8.492731</td>\n",
       "    </tr>\n",
       "    <tr>\n",
       "      <th>services</th>\n",
       "      <td>3245</td>\n",
       "      <td>297</td>\n",
       "      <td>3542</td>\n",
       "      <td>8.385093</td>\n",
       "    </tr>\n",
       "    <tr>\n",
       "      <th>blue-collar</th>\n",
       "      <td>7721</td>\n",
       "      <td>576</td>\n",
       "      <td>8297</td>\n",
       "      <td>6.942268</td>\n",
       "    </tr>\n",
       "  </tbody>\n",
       "</table>\n",
       "</div>"
      ],
      "text/plain": [
       "              Customer_id              Percentage\n",
       "y                      no   yes  Total           \n",
       "job                                              \n",
       "student               527   240    767  31.290743\n",
       "retired              1144   395   1539  25.666017\n",
       "unemployed            791   134    925  14.486486\n",
       "admin.               8163  1240   9403  13.187281\n",
       "unknown               271    35    306  11.437908\n",
       "Total               32824  4200  37024  11.343993\n",
       "management           2343   292   2635  11.081594\n",
       "technician           5430   657   6087  10.793494\n",
       "self-employed        1144   130   1274  10.204082\n",
       "housemaid             849    93    942   9.872611\n",
       "entrepreneur         1196   111   1307   8.492731\n",
       "services             3245   297   3542   8.385093\n",
       "blue-collar          7721   576   8297   6.942268"
      ]
     },
     "execution_count": 14,
     "metadata": {},
     "output_type": "execute_result"
    }
   ],
   "source": [
    "analysis_job = pd.pivot_table(cust_outcome, index =['job'],values=['Customer_id'], columns=['y'], aggfunc='count',margins=True, margins_name='Total')\n",
    "analysis_job[\"Percentage\"] = analysis_job['Customer_id']['yes']/analysis_job['Customer_id']['Total']*100\n",
    "analysis_job.sort_values(by='Percentage',ascending=False)"
   ]
  },
  {
   "cell_type": "code",
   "execution_count": 15,
   "id": "69cd5cb7",
   "metadata": {},
   "outputs": [
    {
     "data": {
      "image/png": "[encoded data removed]",
      "text/plain": [
       "<Figure size 1152x360 with 1 Axes>"
      ]
     },
     "metadata": {
      "needs_background": "light"
     },
     "output_type": "display_data"
    }
   ],
   "source": [
    "fig, ax = plt.subplots(figsize=(16,5))\n",
    "bars = ax.bar(analysis_job.index, analysis_job['Percentage'])\n",
    "for bar in bars:\n",
    "    height = bar.get_height().round(2)\n",
    "    label_x_pos = bar.get_x() + bar.get_width() / 2\n",
    "    ax.text(label_x_pos, height, s=f'{height}', ha='center',\n",
    "    va='bottom')"
   ]
  },
  {
   "cell_type": "markdown",
   "id": "656ea0e7",
   "metadata": {},
   "source": [
    "#### INFERENCE- We have observed that the students and retired people have the highest success rates, so these are the ideal target market. Blue-collar having the lowest success should be focused on more."
   ]
  },
  {
   "cell_type": "markdown",
   "id": "9fbdbf52",
   "metadata": {},
   "source": [
    " "
   ]
  },
  {
   "cell_type": "markdown",
   "id": "7384519f",
   "metadata": {},
   "source": [
    " "
   ]
  },
  {
   "cell_type": "markdown",
   "id": "81f349a2",
   "metadata": {},
   "source": [
    " "
   ]
  },
  {
   "cell_type": "markdown",
   "id": "a0587413",
   "metadata": {},
   "source": [
    " "
   ]
  },
  {
   "cell_type": "markdown",
   "id": "632653ba",
   "metadata": {},
   "source": [
    " "
   ]
  },
  {
   "cell_type": "markdown",
   "id": "8fd77d74",
   "metadata": {},
   "source": [
    "____________________"
   ]
  },
  {
   "cell_type": "markdown",
   "id": "b49b9b7b",
   "metadata": {},
   "source": [
    " "
   ]
  },
  {
   "cell_type": "markdown",
   "id": "7763ec57",
   "metadata": {},
   "source": [
    "# Task 2.2\n",
    "## Exploratory Data Analysis"
   ]
  },
  {
   "cell_type": "markdown",
   "id": "091d5928",
   "metadata": {},
   "source": [
    " "
   ]
  },
  {
   "cell_type": "markdown",
   "id": "e023e17d",
   "metadata": {},
   "source": [
    "### Outlier analysis and treatment "
   ]
  },
  {
   "cell_type": "code",
   "execution_count": 2,
   "id": "9511e3fb",
   "metadata": {},
   "outputs": [],
   "source": [
    "custDetails = pd.read_csv(\"Customer_and_bank details_p1.csv\")\n",
    "target = pd.read_csv(\"Customer_Response_data_P1.csv\")\n",
    "state = pd.read_csv(\"State_Master.csv\")\n",
    "region = pd.read_csv(\"Region_code_master.csv\")\n",
    "socio_economic = pd.read_csv(\"Customer_social_economic_data_p1.csv\")\n",
    "\n",
    "region['Region_Code'] = region['Region_Code'].astype(str)\n",
    "state.drop('Region_Code', axis=1, inplace=True)\n",
    "\n",
    "cust_outcome = pd.merge(custDetails, target, on='Customer_id', how='inner')\n",
    "cust_outcome = pd.merge(cust_outcome, state, on='State_Code', how='inner')\n",
    "cust_outcome = pd.merge(cust_outcome, region, on='Region_Code', how='inner')\n",
    "cust_outcome = pd.merge(cust_outcome, socio_economic, on='Customer_id', how='inner')\n",
    "\n",
    "cust_outcome.reset_index(drop=True, inplace=True)"
   ]
  },
  {
   "cell_type": "code",
   "execution_count": 21,
   "id": "1a1e87a7",
   "metadata": {},
   "outputs": [
    {
     "data": {
      "text/html": [
       "<div>\n",
       "<style scoped>\n",
       "    .dataframe tbody tr th:only-of-type {\n",
       "        vertical-align: middle;\n",
       "    }\n",
       "\n",
       "    .dataframe tbody tr th {\n",
       "        vertical-align: top;\n",
       "    }\n",
       "\n",
       "    .dataframe thead th {\n",
       "        text-align: right;\n",
       "    }\n",
       "</style>\n",
       "<table border=\"1\" class=\"dataframe\">\n",
       "  <thead>\n",
       "    <tr style=\"text-align: right;\">\n",
       "      <th></th>\n",
       "      <th>Customer_id</th>\n",
       "      <th>age</th>\n",
       "      <th>job</th>\n",
       "      <th>marital</th>\n",
       "      <th>education</th>\n",
       "      <th>default</th>\n",
       "      <th>housing</th>\n",
       "      <th>loan</th>\n",
       "      <th>Region_Code</th>\n",
       "      <th>State_Code</th>\n",
       "      <th>City_Code</th>\n",
       "      <th>y</th>\n",
       "      <th>State_Name</th>\n",
       "      <th>Region_Name</th>\n",
       "      <th>emp.var.rate</th>\n",
       "      <th>cons.price.idx</th>\n",
       "      <th>cons.conf.idx</th>\n",
       "      <th>euribor3m</th>\n",
       "      <th>nr.employed</th>\n",
       "    </tr>\n",
       "  </thead>\n",
       "  <tbody>\n",
       "    <tr>\n",
       "      <th>0</th>\n",
       "      <td>1</td>\n",
       "      <td>56</td>\n",
       "      <td>services</td>\n",
       "      <td>married</td>\n",
       "      <td>high.school</td>\n",
       "      <td>no</td>\n",
       "      <td>no</td>\n",
       "      <td>yes</td>\n",
       "      <td>3</td>\n",
       "      <td>S1</td>\n",
       "      <td>C1</td>\n",
       "      <td>no</td>\n",
       "      <td>Kentucky</td>\n",
       "      <td>South</td>\n",
       "      <td>1.1</td>\n",
       "      <td>93.994</td>\n",
       "      <td>-36.4</td>\n",
       "      <td>4.857</td>\n",
       "      <td>5191.0</td>\n",
       "    </tr>\n",
       "    <tr>\n",
       "      <th>1</th>\n",
       "      <td>2</td>\n",
       "      <td>45</td>\n",
       "      <td>services</td>\n",
       "      <td>married</td>\n",
       "      <td>basic.9y</td>\n",
       "      <td>unknown</td>\n",
       "      <td>no</td>\n",
       "      <td>no</td>\n",
       "      <td>3</td>\n",
       "      <td>S1</td>\n",
       "      <td>C1</td>\n",
       "      <td>no</td>\n",
       "      <td>Kentucky</td>\n",
       "      <td>South</td>\n",
       "      <td>1.1</td>\n",
       "      <td>93.994</td>\n",
       "      <td>-36.4</td>\n",
       "      <td>4.857</td>\n",
       "      <td>5191.0</td>\n",
       "    </tr>\n",
       "    <tr>\n",
       "      <th>2</th>\n",
       "      <td>419</td>\n",
       "      <td>52</td>\n",
       "      <td>admin.</td>\n",
       "      <td>married</td>\n",
       "      <td>basic.4y</td>\n",
       "      <td>no</td>\n",
       "      <td>yes</td>\n",
       "      <td>no</td>\n",
       "      <td>3</td>\n",
       "      <td>S1</td>\n",
       "      <td>C103</td>\n",
       "      <td>no</td>\n",
       "      <td>Kentucky</td>\n",
       "      <td>South</td>\n",
       "      <td>1.1</td>\n",
       "      <td>93.994</td>\n",
       "      <td>-36.4</td>\n",
       "      <td>4.857</td>\n",
       "      <td>5191.0</td>\n",
       "    </tr>\n",
       "    <tr>\n",
       "      <th>3</th>\n",
       "      <td>539</td>\n",
       "      <td>32</td>\n",
       "      <td>admin.</td>\n",
       "      <td>single</td>\n",
       "      <td>university.degree</td>\n",
       "      <td>no</td>\n",
       "      <td>no</td>\n",
       "      <td>no</td>\n",
       "      <td>3</td>\n",
       "      <td>S1</td>\n",
       "      <td>C1</td>\n",
       "      <td>no</td>\n",
       "      <td>Kentucky</td>\n",
       "      <td>South</td>\n",
       "      <td>1.1</td>\n",
       "      <td>93.994</td>\n",
       "      <td>-36.4</td>\n",
       "      <td>4.857</td>\n",
       "      <td>5191.0</td>\n",
       "    </tr>\n",
       "    <tr>\n",
       "      <th>4</th>\n",
       "      <td>540</td>\n",
       "      <td>36</td>\n",
       "      <td>services</td>\n",
       "      <td>married</td>\n",
       "      <td>high.school</td>\n",
       "      <td>no</td>\n",
       "      <td>no</td>\n",
       "      <td>no</td>\n",
       "      <td>3</td>\n",
       "      <td>S1</td>\n",
       "      <td>C1</td>\n",
       "      <td>no</td>\n",
       "      <td>Kentucky</td>\n",
       "      <td>South</td>\n",
       "      <td>1.1</td>\n",
       "      <td>93.994</td>\n",
       "      <td>-36.4</td>\n",
       "      <td>4.857</td>\n",
       "      <td>5191.0</td>\n",
       "    </tr>\n",
       "  </tbody>\n",
       "</table>\n",
       "</div>"
      ],
      "text/plain": [
       "   Customer_id  age       job  marital          education  default housing  \\\n",
       "0            1   56  services  married        high.school       no      no   \n",
       "1            2   45  services  married           basic.9y  unknown      no   \n",
       "2          419   52    admin.  married           basic.4y       no     yes   \n",
       "3          539   32    admin.   single  university.degree       no      no   \n",
       "4          540   36  services  married        high.school       no      no   \n",
       "\n",
       "  loan Region_Code State_Code City_Code   y State_Name Region_Name  \\\n",
       "0  yes           3         S1        C1  no   Kentucky       South   \n",
       "1   no           3         S1        C1  no   Kentucky       South   \n",
       "2   no           3         S1      C103  no   Kentucky       South   \n",
       "3   no           3         S1        C1  no   Kentucky       South   \n",
       "4   no           3         S1        C1  no   Kentucky       South   \n",
       "\n",
       "   emp.var.rate  cons.price.idx  cons.conf.idx  euribor3m  nr.employed  \n",
       "0           1.1          93.994          -36.4      4.857       5191.0  \n",
       "1           1.1          93.994          -36.4      4.857       5191.0  \n",
       "2           1.1          93.994          -36.4      4.857       5191.0  \n",
       "3           1.1          93.994          -36.4      4.857       5191.0  \n",
       "4           1.1          93.994          -36.4      4.857       5191.0  "
      ]
     },
     "execution_count": 21,
     "metadata": {},
     "output_type": "execute_result"
    }
   ],
   "source": [
    "cust_outcome.head()"
   ]
  },
  {
   "cell_type": "code",
   "execution_count": 22,
   "id": "0d932c23",
   "metadata": {},
   "outputs": [
    {
     "name": "stdout",
     "output_type": "stream",
     "text": [
      "<class 'pandas.core.frame.DataFrame'>\n",
      "RangeIndex: 37024 entries, 0 to 37023\n",
      "Data columns (total 19 columns):\n",
      " #   Column          Non-Null Count  Dtype  \n",
      "---  ------          --------------  -----  \n",
      " 0   Customer_id     37024 non-null  int64  \n",
      " 1   age             37024 non-null  int64  \n",
      " 2   job             37024 non-null  object \n",
      " 3   marital         37024 non-null  object \n",
      " 4   education       37024 non-null  object \n",
      " 5   default         37024 non-null  object \n",
      " 6   housing         37024 non-null  object \n",
      " 7   loan            37024 non-null  object \n",
      " 8   Region_Code     37024 non-null  object \n",
      " 9   State_Code      37024 non-null  object \n",
      " 10  City_Code       37024 non-null  object \n",
      " 11  y               37024 non-null  object \n",
      " 12  State_Name      37024 non-null  object \n",
      " 13  Region_Name     37024 non-null  object \n",
      " 14  emp.var.rate    37024 non-null  float64\n",
      " 15  cons.price.idx  37024 non-null  float64\n",
      " 16  cons.conf.idx   37024 non-null  float64\n",
      " 17  euribor3m       37024 non-null  float64\n",
      " 18  nr.employed     37024 non-null  float64\n",
      "dtypes: float64(5), int64(2), object(12)\n",
      "memory usage: 5.4+ MB\n"
     ]
    }
   ],
   "source": [
    "cust_outcome.info()"
   ]
  },
  {
   "cell_type": "markdown",
   "id": "bfa847c4",
   "metadata": {},
   "source": [
    "#### No null values"
   ]
  },
  {
   "cell_type": "code",
   "execution_count": 23,
   "id": "7260d7be",
   "metadata": {},
   "outputs": [
    {
     "data": {
      "text/html": [
       "<div>\n",
       "<style scoped>\n",
       "    .dataframe tbody tr th:only-of-type {\n",
       "        vertical-align: middle;\n",
       "    }\n",
       "\n",
       "    .dataframe tbody tr th {\n",
       "        vertical-align: top;\n",
       "    }\n",
       "\n",
       "    .dataframe thead th {\n",
       "        text-align: right;\n",
       "    }\n",
       "</style>\n",
       "<table border=\"1\" class=\"dataframe\">\n",
       "  <thead>\n",
       "    <tr style=\"text-align: right;\">\n",
       "      <th></th>\n",
       "      <th>Customer_id</th>\n",
       "      <th>age</th>\n",
       "      <th>emp.var.rate</th>\n",
       "      <th>cons.price.idx</th>\n",
       "      <th>cons.conf.idx</th>\n",
       "      <th>euribor3m</th>\n",
       "      <th>nr.employed</th>\n",
       "    </tr>\n",
       "  </thead>\n",
       "  <tbody>\n",
       "    <tr>\n",
       "      <th>count</th>\n",
       "      <td>37024.000000</td>\n",
       "      <td>37024.000000</td>\n",
       "      <td>37024.000000</td>\n",
       "      <td>37024.000000</td>\n",
       "      <td>37024.000000</td>\n",
       "      <td>37024.000000</td>\n",
       "      <td>37024.000000</td>\n",
       "    </tr>\n",
       "    <tr>\n",
       "      <th>mean</th>\n",
       "      <td>18546.444495</td>\n",
       "      <td>40.043593</td>\n",
       "      <td>0.082014</td>\n",
       "      <td>93.575909</td>\n",
       "      <td>-40.505396</td>\n",
       "      <td>3.621118</td>\n",
       "      <td>5167.027515</td>\n",
       "    </tr>\n",
       "    <tr>\n",
       "      <th>std</th>\n",
       "      <td>10704.860914</td>\n",
       "      <td>10.434720</td>\n",
       "      <td>1.569195</td>\n",
       "      <td>0.578436</td>\n",
       "      <td>4.622698</td>\n",
       "      <td>1.734113</td>\n",
       "      <td>72.217683</td>\n",
       "    </tr>\n",
       "    <tr>\n",
       "      <th>min</th>\n",
       "      <td>1.000000</td>\n",
       "      <td>17.000000</td>\n",
       "      <td>-3.400000</td>\n",
       "      <td>92.201000</td>\n",
       "      <td>-50.800000</td>\n",
       "      <td>0.634000</td>\n",
       "      <td>4963.600000</td>\n",
       "    </tr>\n",
       "    <tr>\n",
       "      <th>25%</th>\n",
       "      <td>9271.750000</td>\n",
       "      <td>32.000000</td>\n",
       "      <td>-1.800000</td>\n",
       "      <td>93.075000</td>\n",
       "      <td>-42.700000</td>\n",
       "      <td>1.344000</td>\n",
       "      <td>5099.100000</td>\n",
       "    </tr>\n",
       "    <tr>\n",
       "      <th>50%</th>\n",
       "      <td>18541.500000</td>\n",
       "      <td>38.000000</td>\n",
       "      <td>1.100000</td>\n",
       "      <td>93.749000</td>\n",
       "      <td>-41.800000</td>\n",
       "      <td>4.857000</td>\n",
       "      <td>5191.000000</td>\n",
       "    </tr>\n",
       "    <tr>\n",
       "      <th>75%</th>\n",
       "      <td>27813.250000</td>\n",
       "      <td>47.000000</td>\n",
       "      <td>1.400000</td>\n",
       "      <td>93.994000</td>\n",
       "      <td>-36.400000</td>\n",
       "      <td>4.961000</td>\n",
       "      <td>5228.100000</td>\n",
       "    </tr>\n",
       "    <tr>\n",
       "      <th>max</th>\n",
       "      <td>37084.000000</td>\n",
       "      <td>98.000000</td>\n",
       "      <td>1.400000</td>\n",
       "      <td>94.767000</td>\n",
       "      <td>-26.900000</td>\n",
       "      <td>5.045000</td>\n",
       "      <td>5228.100000</td>\n",
       "    </tr>\n",
       "  </tbody>\n",
       "</table>\n",
       "</div>"
      ],
      "text/plain": [
       "        Customer_id           age  emp.var.rate  cons.price.idx  \\\n",
       "count  37024.000000  37024.000000  37024.000000    37024.000000   \n",
       "mean   18546.444495     40.043593      0.082014       93.575909   \n",
       "std    10704.860914     10.434720      1.569195        0.578436   \n",
       "min        1.000000     17.000000     -3.400000       92.201000   \n",
       "25%     9271.750000     32.000000     -1.800000       93.075000   \n",
       "50%    18541.500000     38.000000      1.100000       93.749000   \n",
       "75%    27813.250000     47.000000      1.400000       93.994000   \n",
       "max    37084.000000     98.000000      1.400000       94.767000   \n",
       "\n",
       "       cons.conf.idx     euribor3m   nr.employed  \n",
       "count   37024.000000  37024.000000  37024.000000  \n",
       "mean      -40.505396      3.621118   5167.027515  \n",
       "std         4.622698      1.734113     72.217683  \n",
       "min       -50.800000      0.634000   4963.600000  \n",
       "25%       -42.700000      1.344000   5099.100000  \n",
       "50%       -41.800000      4.857000   5191.000000  \n",
       "75%       -36.400000      4.961000   5228.100000  \n",
       "max       -26.900000      5.045000   5228.100000  "
      ]
     },
     "execution_count": 23,
     "metadata": {},
     "output_type": "execute_result"
    }
   ],
   "source": [
    "cust_outcome.describe()"
   ]
  },
  {
   "cell_type": "code",
   "execution_count": 28,
   "id": "47890abc",
   "metadata": {},
   "outputs": [
    {
     "data": {
      "text/plain": [
       "<AxesSubplot:xlabel='age'>"
      ]
     },
     "execution_count": 28,
     "metadata": {},
     "output_type": "execute_result"
    },
    {
     "data": {
      "image/png": "[encoded data removed]",
      "text/plain": [
       "<Figure size 432x288 with 1 Axes>"
      ]
     },
     "metadata": {
      "needs_background": "light"
     },
     "output_type": "display_data"
    }
   ],
   "source": [
    "sns.boxplot(x='age', data=cust_outcome)"
   ]
  },
  {
   "cell_type": "code",
   "execution_count": null,
   "id": "aed01e53",
   "metadata": {},
   "outputs": [],
   "source": [
    "# Create category for above 70"
   ]
  },
  {
   "cell_type": "markdown",
   "id": "f8747f08",
   "metadata": {},
   "source": [
    "#### Most of the customers are within the ages 17 to 70 with the highest frequency being in the range of 32 to 47. A few customers are aged between 70 to 100. Since it's a well spread population, the outliers do not require treatment"
   ]
  },
  {
   "cell_type": "code",
   "execution_count": 30,
   "id": "4cfc58ce",
   "metadata": {},
   "outputs": [
    {
     "data": {
      "text/plain": [
       "<AxesSubplot:xlabel='emp.var.rate'>"
      ]
     },
     "execution_count": 30,
     "metadata": {},
     "output_type": "execute_result"
    },
    {
     "data": {
      "image/png": "[encoded data removed]",
      "text/plain": [
       "<Figure size 432x288 with 1 Axes>"
      ]
     },
     "metadata": {
      "needs_background": "light"
     },
     "output_type": "display_data"
    }
   ],
   "source": [
    "sns.boxplot(x='emp.var.rate', data=cust_outcome)"
   ]
  },
  {
   "cell_type": "markdown",
   "id": "e38f5333",
   "metadata": {},
   "source": [
    "#### There are no outliers in employment variation rate "
   ]
  },
  {
   "cell_type": "code",
   "execution_count": 32,
   "id": "8dd14dff",
   "metadata": {},
   "outputs": [
    {
     "data": {
      "text/plain": [
       "<AxesSubplot:xlabel='cons.price.idx'>"
      ]
     },
     "execution_count": 32,
     "metadata": {},
     "output_type": "execute_result"
    },
    {
     "data": {
      "image/png": "[encoded data removed]",
      "text/plain": [
       "<Figure size 432x288 with 1 Axes>"
      ]
     },
     "metadata": {
      "needs_background": "light"
     },
     "output_type": "display_data"
    }
   ],
   "source": [
    "sns.boxplot(x='cons.price.idx', data=cust_outcome)"
   ]
  },
  {
   "cell_type": "markdown",
   "id": "8a30bc6b",
   "metadata": {},
   "source": [
    "#### There are no outliers in consumer price index "
   ]
  },
  {
   "cell_type": "code",
   "execution_count": 34,
   "id": "43e288d9",
   "metadata": {},
   "outputs": [
    {
     "data": {
      "text/plain": [
       "<AxesSubplot:xlabel='cons.conf.idx'>"
      ]
     },
     "execution_count": 34,
     "metadata": {},
     "output_type": "execute_result"
    },
    {
     "data": {
      "image/png": "[encoded data removed]",
      "text/plain": [
       "<Figure size 432x288 with 1 Axes>"
      ]
     },
     "metadata": {
      "needs_background": "light"
     },
     "output_type": "display_data"
    }
   ],
   "source": [
    "sns.boxplot(x='cons.conf.idx', data=cust_outcome)"
   ]
  },
  {
   "cell_type": "markdown",
   "id": "9b4aba41",
   "metadata": {},
   "source": [
    "There seems to be an outlier with data point much greater than the 95 percentile value."
   ]
  },
  {
   "cell_type": "code",
   "execution_count": 3,
   "id": "821db299",
   "metadata": {},
   "outputs": [
    {
     "data": {
      "text/plain": [
       "<AxesSubplot:xlabel='cons.conf.idx'>"
      ]
     },
     "execution_count": 3,
     "metadata": {},
     "output_type": "execute_result"
    },
    {
     "data": {
      "image/png": "[encoded data removed]",
      "text/plain": [
       "<Figure size 432x288 with 1 Axes>"
      ]
     },
     "metadata": {
      "needs_background": "light"
     },
     "output_type": "display_data"
    }
   ],
   "source": [
    "cust_outcome[\"cons.conf.idx\"] = np.where(cust_outcome[\"cons.conf.idx\"] > cust_outcome['cons.conf.idx'].quantile(0.975), \n",
    "                                         cust_outcome['cons.conf.idx'].quantile(0.975), cust_outcome['cons.conf.idx'])\n",
    "sns.boxplot(x='cons.conf.idx', data=cust_outcome)"
   ]
  },
  {
   "cell_type": "markdown",
   "id": "c40186e2",
   "metadata": {},
   "source": [
    "#### Outlier in consumer confidence index is treated"
   ]
  },
  {
   "cell_type": "code",
   "execution_count": 81,
   "id": "028d2be2",
   "metadata": {},
   "outputs": [
    {
     "data": {
      "text/plain": [
       "<AxesSubplot:xlabel='euribor3m'>"
      ]
     },
     "execution_count": 81,
     "metadata": {},
     "output_type": "execute_result"
    },
    {
     "data": {
      "image/png": "[encoded data removed]",
      "text/plain": [
       "<Figure size 432x288 with 1 Axes>"
      ]
     },
     "metadata": {
      "needs_background": "light"
     },
     "output_type": "display_data"
    }
   ],
   "source": [
    "sns.boxplot(x='euribor3m', data=cust_outcome)"
   ]
  },
  {
   "cell_type": "markdown",
   "id": "215e1458",
   "metadata": {},
   "source": [
    "#### There are no outliers in euribor 3 month rate, but the data seems to be skewed rightward"
   ]
  },
  {
   "cell_type": "code",
   "execution_count": 82,
   "id": "aa4343f2",
   "metadata": {},
   "outputs": [
    {
     "data": {
      "text/plain": [
       "<AxesSubplot:xlabel='nr.employed'>"
      ]
     },
     "execution_count": 82,
     "metadata": {},
     "output_type": "execute_result"
    },
    {
     "data": {
      "image/png": "[encoded data removed]",
      "text/plain": [
       "<Figure size 432x288 with 1 Axes>"
      ]
     },
     "metadata": {
      "needs_background": "light"
     },
     "output_type": "display_data"
    }
   ],
   "source": [
    "sns.boxplot(x='nr.employed', data=cust_outcome)"
   ]
  },
  {
   "cell_type": "markdown",
   "id": "6b72bd32",
   "metadata": {},
   "source": [
    "#### There are no outliers in number of employees, but the data seems to be skewed rightward"
   ]
  },
  {
   "cell_type": "markdown",
   "id": "36c57e04",
   "metadata": {},
   "source": [
    " "
   ]
  },
  {
   "cell_type": "markdown",
   "id": "aad87692",
   "metadata": {},
   "source": [
    "\n",
    "_____________________________\n"
   ]
  },
  {
   "cell_type": "markdown",
   "id": "a52f6d3e",
   "metadata": {},
   "source": [
    "### Feature Engineering\n",
    "Feature engineering is the process of using domain knowledge to select and transform the most relevant variables from the given data while creating a predictive model using machine learning. The goal of feature engineering and selection is to enhance the performance of machine learning algorithms."
   ]
  },
  {
   "cell_type": "code",
   "execution_count": 14,
   "id": "3e141e37",
   "metadata": {},
   "outputs": [
    {
     "data": {
      "text/html": [
       "<div>\n",
       "<style scoped>\n",
       "    .dataframe tbody tr th:only-of-type {\n",
       "        vertical-align: middle;\n",
       "    }\n",
       "\n",
       "    .dataframe tbody tr th {\n",
       "        vertical-align: top;\n",
       "    }\n",
       "\n",
       "    .dataframe thead th {\n",
       "        text-align: right;\n",
       "    }\n",
       "</style>\n",
       "<table border=\"1\" class=\"dataframe\">\n",
       "  <thead>\n",
       "    <tr style=\"text-align: right;\">\n",
       "      <th></th>\n",
       "      <th>Customer_id</th>\n",
       "      <th>age</th>\n",
       "      <th>job</th>\n",
       "      <th>marital</th>\n",
       "      <th>education</th>\n",
       "      <th>default</th>\n",
       "      <th>housing</th>\n",
       "      <th>loan</th>\n",
       "      <th>Region_Code</th>\n",
       "      <th>State_Code</th>\n",
       "      <th>City_Code</th>\n",
       "      <th>y</th>\n",
       "      <th>emp.var.rate</th>\n",
       "      <th>cons.price.idx</th>\n",
       "      <th>cons.conf.idx</th>\n",
       "      <th>euribor3m</th>\n",
       "      <th>nr.employed</th>\n",
       "    </tr>\n",
       "  </thead>\n",
       "  <tbody>\n",
       "    <tr>\n",
       "      <th>0</th>\n",
       "      <td>1</td>\n",
       "      <td>56</td>\n",
       "      <td>services</td>\n",
       "      <td>married</td>\n",
       "      <td>high.school</td>\n",
       "      <td>no</td>\n",
       "      <td>no</td>\n",
       "      <td>yes</td>\n",
       "      <td>3</td>\n",
       "      <td>S1</td>\n",
       "      <td>C1</td>\n",
       "      <td>no</td>\n",
       "      <td>1.1</td>\n",
       "      <td>93.994</td>\n",
       "      <td>-36.4</td>\n",
       "      <td>4.857</td>\n",
       "      <td>5191.0</td>\n",
       "    </tr>\n",
       "    <tr>\n",
       "      <th>1</th>\n",
       "      <td>2</td>\n",
       "      <td>45</td>\n",
       "      <td>services</td>\n",
       "      <td>married</td>\n",
       "      <td>basic.9y</td>\n",
       "      <td>unknown</td>\n",
       "      <td>no</td>\n",
       "      <td>no</td>\n",
       "      <td>3</td>\n",
       "      <td>S1</td>\n",
       "      <td>C1</td>\n",
       "      <td>no</td>\n",
       "      <td>1.1</td>\n",
       "      <td>93.994</td>\n",
       "      <td>-36.4</td>\n",
       "      <td>4.857</td>\n",
       "      <td>5191.0</td>\n",
       "    </tr>\n",
       "    <tr>\n",
       "      <th>2</th>\n",
       "      <td>3</td>\n",
       "      <td>59</td>\n",
       "      <td>admin.</td>\n",
       "      <td>married</td>\n",
       "      <td>professional.course</td>\n",
       "      <td>no</td>\n",
       "      <td>no</td>\n",
       "      <td>no</td>\n",
       "      <td>4</td>\n",
       "      <td>S2</td>\n",
       "      <td>C2</td>\n",
       "      <td>no</td>\n",
       "      <td>1.1</td>\n",
       "      <td>93.994</td>\n",
       "      <td>-36.4</td>\n",
       "      <td>4.857</td>\n",
       "      <td>5191.0</td>\n",
       "    </tr>\n",
       "    <tr>\n",
       "      <th>3</th>\n",
       "      <td>4</td>\n",
       "      <td>41</td>\n",
       "      <td>blue-collar</td>\n",
       "      <td>married</td>\n",
       "      <td>unknown</td>\n",
       "      <td>unknown</td>\n",
       "      <td>no</td>\n",
       "      <td>no</td>\n",
       "      <td>3</td>\n",
       "      <td>S3</td>\n",
       "      <td>C3</td>\n",
       "      <td>no</td>\n",
       "      <td>1.1</td>\n",
       "      <td>93.994</td>\n",
       "      <td>-36.4</td>\n",
       "      <td>4.857</td>\n",
       "      <td>5191.0</td>\n",
       "    </tr>\n",
       "    <tr>\n",
       "      <th>4</th>\n",
       "      <td>5</td>\n",
       "      <td>24</td>\n",
       "      <td>technician</td>\n",
       "      <td>single</td>\n",
       "      <td>professional.course</td>\n",
       "      <td>no</td>\n",
       "      <td>yes</td>\n",
       "      <td>no</td>\n",
       "      <td>3</td>\n",
       "      <td>S3</td>\n",
       "      <td>C3</td>\n",
       "      <td>no</td>\n",
       "      <td>1.1</td>\n",
       "      <td>93.994</td>\n",
       "      <td>-36.4</td>\n",
       "      <td>4.857</td>\n",
       "      <td>5191.0</td>\n",
       "    </tr>\n",
       "  </tbody>\n",
       "</table>\n",
       "</div>"
      ],
      "text/plain": [
       "   Customer_id  age          job  marital            education  default  \\\n",
       "0            1   56     services  married          high.school       no   \n",
       "1            2   45     services  married             basic.9y  unknown   \n",
       "2            3   59       admin.  married  professional.course       no   \n",
       "3            4   41  blue-collar  married              unknown  unknown   \n",
       "4            5   24   technician   single  professional.course       no   \n",
       "\n",
       "  housing loan Region_Code State_Code City_Code   y  emp.var.rate  \\\n",
       "0      no  yes           3         S1        C1  no           1.1   \n",
       "1      no   no           3         S1        C1  no           1.1   \n",
       "2      no   no           4         S2        C2  no           1.1   \n",
       "3      no   no           3         S3        C3  no           1.1   \n",
       "4     yes   no           3         S3        C3  no           1.1   \n",
       "\n",
       "   cons.price.idx  cons.conf.idx  euribor3m  nr.employed  \n",
       "0          93.994          -36.4      4.857       5191.0  \n",
       "1          93.994          -36.4      4.857       5191.0  \n",
       "2          93.994          -36.4      4.857       5191.0  \n",
       "3          93.994          -36.4      4.857       5191.0  \n",
       "4          93.994          -36.4      4.857       5191.0  "
      ]
     },
     "execution_count": 14,
     "metadata": {},
     "output_type": "execute_result"
    }
   ],
   "source": [
    "custDetails = pd.read_csv(\"Customer_and_bank details_p1.csv\")\n",
    "target = pd.read_csv(\"Customer_Response_data_P1.csv\")\n",
    "socio_economic = pd.read_csv(\"Customer_social_economic_data_p1.csv\")\n",
    "\n",
    "cust_outcome = pd.merge(custDetails, target, on='Customer_id', how='inner')\n",
    "cust_outcome = pd.merge(cust_outcome, socio_economic, on='Customer_id', how='inner')\n",
    "\n",
    "cust_outcome.reset_index(drop=True, inplace=True)\n",
    "cust_outcome.head()"
   ]
  },
  {
   "cell_type": "markdown",
   "id": "80b8342b",
   "metadata": {},
   "source": [
    "From domain knowledge, we know that Customer_id is just a number assigned to each customer, having no statistical significance."
   ]
  },
  {
   "cell_type": "code",
   "execution_count": 15,
   "id": "ce775da7",
   "metadata": {},
   "outputs": [
    {
     "data": {
      "text/html": [
       "<div>\n",
       "<style scoped>\n",
       "    .dataframe tbody tr th:only-of-type {\n",
       "        vertical-align: middle;\n",
       "    }\n",
       "\n",
       "    .dataframe tbody tr th {\n",
       "        vertical-align: top;\n",
       "    }\n",
       "\n",
       "    .dataframe thead th {\n",
       "        text-align: right;\n",
       "    }\n",
       "</style>\n",
       "<table border=\"1\" class=\"dataframe\">\n",
       "  <thead>\n",
       "    <tr style=\"text-align: right;\">\n",
       "      <th></th>\n",
       "      <th>age</th>\n",
       "      <th>job</th>\n",
       "      <th>marital</th>\n",
       "      <th>education</th>\n",
       "      <th>default</th>\n",
       "      <th>housing</th>\n",
       "      <th>loan</th>\n",
       "      <th>Region_Code</th>\n",
       "      <th>State_Code</th>\n",
       "      <th>City_Code</th>\n",
       "      <th>y</th>\n",
       "      <th>emp.var.rate</th>\n",
       "      <th>cons.price.idx</th>\n",
       "      <th>cons.conf.idx</th>\n",
       "      <th>euribor3m</th>\n",
       "      <th>nr.employed</th>\n",
       "    </tr>\n",
       "  </thead>\n",
       "  <tbody>\n",
       "    <tr>\n",
       "      <th>0</th>\n",
       "      <td>56</td>\n",
       "      <td>services</td>\n",
       "      <td>married</td>\n",
       "      <td>high.school</td>\n",
       "      <td>no</td>\n",
       "      <td>no</td>\n",
       "      <td>yes</td>\n",
       "      <td>3</td>\n",
       "      <td>S1</td>\n",
       "      <td>C1</td>\n",
       "      <td>no</td>\n",
       "      <td>1.1</td>\n",
       "      <td>93.994</td>\n",
       "      <td>-36.4</td>\n",
       "      <td>4.857</td>\n",
       "      <td>5191.0</td>\n",
       "    </tr>\n",
       "    <tr>\n",
       "      <th>1</th>\n",
       "      <td>45</td>\n",
       "      <td>services</td>\n",
       "      <td>married</td>\n",
       "      <td>basic.9y</td>\n",
       "      <td>unknown</td>\n",
       "      <td>no</td>\n",
       "      <td>no</td>\n",
       "      <td>3</td>\n",
       "      <td>S1</td>\n",
       "      <td>C1</td>\n",
       "      <td>no</td>\n",
       "      <td>1.1</td>\n",
       "      <td>93.994</td>\n",
       "      <td>-36.4</td>\n",
       "      <td>4.857</td>\n",
       "      <td>5191.0</td>\n",
       "    </tr>\n",
       "    <tr>\n",
       "      <th>2</th>\n",
       "      <td>59</td>\n",
       "      <td>admin.</td>\n",
       "      <td>married</td>\n",
       "      <td>professional.course</td>\n",
       "      <td>no</td>\n",
       "      <td>no</td>\n",
       "      <td>no</td>\n",
       "      <td>4</td>\n",
       "      <td>S2</td>\n",
       "      <td>C2</td>\n",
       "      <td>no</td>\n",
       "      <td>1.1</td>\n",
       "      <td>93.994</td>\n",
       "      <td>-36.4</td>\n",
       "      <td>4.857</td>\n",
       "      <td>5191.0</td>\n",
       "    </tr>\n",
       "  </tbody>\n",
       "</table>\n",
       "</div>"
      ],
      "text/plain": [
       "   age       job  marital            education  default housing loan  \\\n",
       "0   56  services  married          high.school       no      no  yes   \n",
       "1   45  services  married             basic.9y  unknown      no   no   \n",
       "2   59    admin.  married  professional.course       no      no   no   \n",
       "\n",
       "  Region_Code State_Code City_Code   y  emp.var.rate  cons.price.idx  \\\n",
       "0           3         S1        C1  no           1.1          93.994   \n",
       "1           3         S1        C1  no           1.1          93.994   \n",
       "2           4         S2        C2  no           1.1          93.994   \n",
       "\n",
       "   cons.conf.idx  euribor3m  nr.employed  \n",
       "0          -36.4      4.857       5191.0  \n",
       "1          -36.4      4.857       5191.0  \n",
       "2          -36.4      4.857       5191.0  "
      ]
     },
     "execution_count": 15,
     "metadata": {},
     "output_type": "execute_result"
    }
   ],
   "source": [
    "cust_outcome.drop('Customer_id', axis=1, inplace=True)\n",
    "cust_outcome.head(3)"
   ]
  },
  {
   "cell_type": "code",
   "execution_count": 110,
   "id": "212c731e",
   "metadata": {},
   "outputs": [
    {
     "data": {
      "text/plain": [
       "array(['no', 'yes'], dtype=object)"
      ]
     },
     "execution_count": 110,
     "metadata": {},
     "output_type": "execute_result"
    }
   ],
   "source": [
    "cust_outcome['y'].unique()"
   ]
  },
  {
   "cell_type": "markdown",
   "id": "7a2fb8c6",
   "metadata": {},
   "source": [
    "We see that variable y is a binary variable with yes or no outcomes so we take the yes as 1 and no as 0."
   ]
  },
  {
   "cell_type": "code",
   "execution_count": 16,
   "id": "b121aac7",
   "metadata": {},
   "outputs": [
    {
     "data": {
      "text/html": [
       "<div>\n",
       "<style scoped>\n",
       "    .dataframe tbody tr th:only-of-type {\n",
       "        vertical-align: middle;\n",
       "    }\n",
       "\n",
       "    .dataframe tbody tr th {\n",
       "        vertical-align: top;\n",
       "    }\n",
       "\n",
       "    .dataframe thead th {\n",
       "        text-align: right;\n",
       "    }\n",
       "</style>\n",
       "<table border=\"1\" class=\"dataframe\">\n",
       "  <thead>\n",
       "    <tr style=\"text-align: right;\">\n",
       "      <th></th>\n",
       "      <th>age</th>\n",
       "      <th>job</th>\n",
       "      <th>marital</th>\n",
       "      <th>education</th>\n",
       "      <th>default</th>\n",
       "      <th>housing</th>\n",
       "      <th>loan</th>\n",
       "      <th>Region_Code</th>\n",
       "      <th>State_Code</th>\n",
       "      <th>City_Code</th>\n",
       "      <th>emp.var.rate</th>\n",
       "      <th>cons.price.idx</th>\n",
       "      <th>cons.conf.idx</th>\n",
       "      <th>euribor3m</th>\n",
       "      <th>nr.employed</th>\n",
       "      <th>y_yes</th>\n",
       "    </tr>\n",
       "  </thead>\n",
       "  <tbody>\n",
       "    <tr>\n",
       "      <th>0</th>\n",
       "      <td>56</td>\n",
       "      <td>services</td>\n",
       "      <td>married</td>\n",
       "      <td>high.school</td>\n",
       "      <td>no</td>\n",
       "      <td>no</td>\n",
       "      <td>yes</td>\n",
       "      <td>3</td>\n",
       "      <td>S1</td>\n",
       "      <td>C1</td>\n",
       "      <td>1.1</td>\n",
       "      <td>93.994</td>\n",
       "      <td>-36.4</td>\n",
       "      <td>4.857</td>\n",
       "      <td>5191.0</td>\n",
       "      <td>0</td>\n",
       "    </tr>\n",
       "    <tr>\n",
       "      <th>1</th>\n",
       "      <td>45</td>\n",
       "      <td>services</td>\n",
       "      <td>married</td>\n",
       "      <td>basic.9y</td>\n",
       "      <td>unknown</td>\n",
       "      <td>no</td>\n",
       "      <td>no</td>\n",
       "      <td>3</td>\n",
       "      <td>S1</td>\n",
       "      <td>C1</td>\n",
       "      <td>1.1</td>\n",
       "      <td>93.994</td>\n",
       "      <td>-36.4</td>\n",
       "      <td>4.857</td>\n",
       "      <td>5191.0</td>\n",
       "      <td>0</td>\n",
       "    </tr>\n",
       "    <tr>\n",
       "      <th>2</th>\n",
       "      <td>59</td>\n",
       "      <td>admin.</td>\n",
       "      <td>married</td>\n",
       "      <td>professional.course</td>\n",
       "      <td>no</td>\n",
       "      <td>no</td>\n",
       "      <td>no</td>\n",
       "      <td>4</td>\n",
       "      <td>S2</td>\n",
       "      <td>C2</td>\n",
       "      <td>1.1</td>\n",
       "      <td>93.994</td>\n",
       "      <td>-36.4</td>\n",
       "      <td>4.857</td>\n",
       "      <td>5191.0</td>\n",
       "      <td>0</td>\n",
       "    </tr>\n",
       "  </tbody>\n",
       "</table>\n",
       "</div>"
      ],
      "text/plain": [
       "   age       job  marital            education  default housing loan  \\\n",
       "0   56  services  married          high.school       no      no  yes   \n",
       "1   45  services  married             basic.9y  unknown      no   no   \n",
       "2   59    admin.  married  professional.course       no      no   no   \n",
       "\n",
       "  Region_Code State_Code City_Code  emp.var.rate  cons.price.idx  \\\n",
       "0           3         S1        C1           1.1          93.994   \n",
       "1           3         S1        C1           1.1          93.994   \n",
       "2           4         S2        C2           1.1          93.994   \n",
       "\n",
       "   cons.conf.idx  euribor3m  nr.employed  y_yes  \n",
       "0          -36.4      4.857       5191.0      0  \n",
       "1          -36.4      4.857       5191.0      0  \n",
       "2          -36.4      4.857       5191.0      0  "
      ]
     },
     "execution_count": 16,
     "metadata": {},
     "output_type": "execute_result"
    }
   ],
   "source": [
    "cust_outcome = pd.get_dummies(cust_outcome, columns = ['y'], drop_first=True)\n",
    "cust_outcome.head(3)"
   ]
  },
  {
   "cell_type": "markdown",
   "id": "3a8631d5",
   "metadata": {},
   "source": [
    "When building an ML model, we require the values to be numeric. So we analyze the categorical values and encode them."
   ]
  },
  {
   "cell_type": "code",
   "execution_count": 72,
   "id": "cc0a7e39",
   "metadata": {},
   "outputs": [
    {
     "data": {
      "text/plain": [
       "array(['services', 'admin.', 'blue-collar', 'technician', 'housemaid',\n",
       "       'retired', 'management', 'unknown', 'entrepreneur', 'unemployed',\n",
       "       'student', 'self-employed'], dtype=object)"
      ]
     },
     "execution_count": 72,
     "metadata": {},
     "output_type": "execute_result"
    }
   ],
   "source": [
    "cust_outcome['job'].unique()"
   ]
  },
  {
   "cell_type": "code",
   "execution_count": 73,
   "id": "ac44af4e",
   "metadata": {},
   "outputs": [
    {
     "data": {
      "text/plain": [
       "array(['married', 'single', 'divorced', 'unknown'], dtype=object)"
      ]
     },
     "execution_count": 73,
     "metadata": {},
     "output_type": "execute_result"
    }
   ],
   "source": [
    "cust_outcome['marital'].unique()"
   ]
  },
  {
   "cell_type": "code",
   "execution_count": 74,
   "id": "bdb9a6f1",
   "metadata": {},
   "outputs": [
    {
     "data": {
      "text/plain": [
       "array(['high.school', 'basic.9y', 'professional.course', 'unknown',\n",
       "       'basic.4y', 'basic.6y', 'university.degree', 'illiterate'],\n",
       "      dtype=object)"
      ]
     },
     "execution_count": 74,
     "metadata": {},
     "output_type": "execute_result"
    }
   ],
   "source": [
    "cust_outcome['education'].unique()"
   ]
  },
  {
   "cell_type": "code",
   "execution_count": 75,
   "id": "56f6a4f8",
   "metadata": {},
   "outputs": [
    {
     "data": {
      "text/plain": [
       "array(['no', 'unknown', 'yes'], dtype=object)"
      ]
     },
     "execution_count": 75,
     "metadata": {},
     "output_type": "execute_result"
    }
   ],
   "source": [
    "cust_outcome['default'].unique()"
   ]
  },
  {
   "cell_type": "code",
   "execution_count": 76,
   "id": "1807b907",
   "metadata": {},
   "outputs": [
    {
     "data": {
      "text/plain": [
       "array(['no', 'yes', 'unknown'], dtype=object)"
      ]
     },
     "execution_count": 76,
     "metadata": {},
     "output_type": "execute_result"
    }
   ],
   "source": [
    "cust_outcome['housing'].unique()"
   ]
  },
  {
   "cell_type": "code",
   "execution_count": 77,
   "id": "2ca08687",
   "metadata": {},
   "outputs": [
    {
     "data": {
      "text/plain": [
       "array(['yes', 'no', 'unknown'], dtype=object)"
      ]
     },
     "execution_count": 77,
     "metadata": {},
     "output_type": "execute_result"
    }
   ],
   "source": [
    "cust_outcome['loan'].unique()"
   ]
  },
  {
   "cell_type": "code",
   "execution_count": 127,
   "id": "d1d3c2cf",
   "metadata": {},
   "outputs": [
    {
     "data": {
      "text/plain": [
       "array(['S1', 'S2', 'S3', 'S4', 'S5'], dtype=object)"
      ]
     },
     "execution_count": 127,
     "metadata": {},
     "output_type": "execute_result"
    }
   ],
   "source": [
    "cust_outcome['State_Code'].unique()[:5]"
   ]
  },
  {
   "cell_type": "code",
   "execution_count": 128,
   "id": "200c3395",
   "metadata": {},
   "outputs": [
    {
     "data": {
      "text/plain": [
       "array(['C1', 'C2', 'C3', 'C4', 'C5'], dtype=object)"
      ]
     },
     "execution_count": 128,
     "metadata": {},
     "output_type": "execute_result"
    }
   ],
   "source": [
    "cust_outcome['City_Code'].unique()[:5]"
   ]
  },
  {
   "cell_type": "markdown",
   "id": "0f538fd7",
   "metadata": {},
   "source": [
    "Though Region_Code has numeric values, it refers to certain regions that are not ordinal. So we consider Region_Code as categorical variable too."
   ]
  },
  {
   "cell_type": "code",
   "execution_count": 129,
   "id": "7a621f79",
   "metadata": {},
   "outputs": [
    {
     "data": {
      "text/plain": [
       "array(['3', '4', 'Na', '1', '2'], dtype=object)"
      ]
     },
     "execution_count": 129,
     "metadata": {},
     "output_type": "execute_result"
    }
   ],
   "source": [
    "cust_outcome['Region_Code'].unique()"
   ]
  },
  {
   "cell_type": "code",
   "execution_count": 130,
   "id": "26138097",
   "metadata": {},
   "outputs": [
    {
     "data": {
      "text/plain": [
       "(37084, 16)"
      ]
     },
     "execution_count": 130,
     "metadata": {},
     "output_type": "execute_result"
    }
   ],
   "source": [
    "cust_outcome.shape"
   ]
  },
  {
   "cell_type": "markdown",
   "id": "ba1bcef3",
   "metadata": {},
   "source": [
    "For ease of interpretation, we drop unknown values."
   ]
  },
  {
   "cell_type": "code",
   "execution_count": 17,
   "id": "8a659a50",
   "metadata": {},
   "outputs": [],
   "source": [
    "cust_outcome.drop(cust_outcome[cust_outcome['Region_Code'] == 'Na'].index, inplace = True)\n",
    "cust_outcome.drop(cust_outcome[cust_outcome['job'] == 'unknown'].index, inplace = True)\n",
    "cust_outcome.drop(cust_outcome[cust_outcome['education'] == 'unknown'].index, inplace = True)\n",
    "cust_outcome.drop(cust_outcome[cust_outcome['marital'] == 'unknown'].index, inplace = True)\n",
    "cust_outcome.drop(cust_outcome[cust_outcome['default'] == 'unknown'].index, inplace = True)\n",
    "cust_outcome.drop(cust_outcome[cust_outcome['housing'] == 'unknown'].index, inplace = True)\n",
    "cust_outcome.drop(cust_outcome[cust_outcome['loan'] == 'unknown'].index, inplace = True)"
   ]
  },
  {
   "cell_type": "code",
   "execution_count": 7,
   "id": "fd21258f",
   "metadata": {},
   "outputs": [
    {
     "name": "stdout",
     "output_type": "stream",
     "text": [
      "['3' '4' '1' '2'] ['services' 'admin.' 'technician' 'blue-collar' 'retired' 'entrepreneur'\n",
      " 'housemaid' 'management' 'unemployed' 'self-employed' 'student'] ['high.school' 'professional.course' 'basic.6y' 'basic.9y'\n",
      " 'university.degree' 'basic.4y' 'illiterate'] ['married' 'single' 'divorced'] ['no' 'yes'] ['no' 'yes'] ['yes' 'no']\n"
     ]
    }
   ],
   "source": [
    "print(cust_outcome['Region_Code'].unique(),\n",
    "    cust_outcome['job'].unique(),\n",
    "    cust_outcome['education'].unique(),\n",
    "    cust_outcome['marital'].unique(),\n",
    "    cust_outcome['default'].unique(),\n",
    "    cust_outcome['housing'].unique(),\n",
    "    cust_outcome['loan'].unique()\n",
    "     )"
   ]
  },
  {
   "cell_type": "code",
   "execution_count": 18,
   "id": "7b92e2be",
   "metadata": {},
   "outputs": [
    {
     "data": {
      "text/plain": [
       "(27452, 16)"
      ]
     },
     "execution_count": 18,
     "metadata": {},
     "output_type": "execute_result"
    }
   ],
   "source": [
    "cust_outcome.reset_index(drop=True, inplace=True)\n",
    "cust_outcome.shape"
   ]
  },
  {
   "cell_type": "markdown",
   "id": "510124c7",
   "metadata": {},
   "source": [
    "Now, for these we encode these categorical variables into binary numerics.\n",
    "#### NOTE: We are only taking into account the region, to understand demographics of state and city."
   ]
  },
  {
   "cell_type": "code",
   "execution_count": 19,
   "id": "a1e0371d",
   "metadata": {},
   "outputs": [
    {
     "data": {
      "text/html": [
       "<div>\n",
       "<style scoped>\n",
       "    .dataframe tbody tr th:only-of-type {\n",
       "        vertical-align: middle;\n",
       "    }\n",
       "\n",
       "    .dataframe tbody tr th {\n",
       "        vertical-align: top;\n",
       "    }\n",
       "\n",
       "    .dataframe thead th {\n",
       "        text-align: right;\n",
       "    }\n",
       "</style>\n",
       "<table border=\"1\" class=\"dataframe\">\n",
       "  <thead>\n",
       "    <tr style=\"text-align: right;\">\n",
       "      <th></th>\n",
       "      <th>age</th>\n",
       "      <th>emp.var.rate</th>\n",
       "      <th>cons.price.idx</th>\n",
       "      <th>cons.conf.idx</th>\n",
       "      <th>euribor3m</th>\n",
       "      <th>nr.employed</th>\n",
       "      <th>y_yes</th>\n",
       "      <th>job_blue-collar</th>\n",
       "      <th>job_entrepreneur</th>\n",
       "      <th>job_housemaid</th>\n",
       "      <th>...</th>\n",
       "      <th>education_basic.9y</th>\n",
       "      <th>education_high.school</th>\n",
       "      <th>education_illiterate</th>\n",
       "      <th>education_professional.course</th>\n",
       "      <th>education_university.degree</th>\n",
       "      <th>marital_married</th>\n",
       "      <th>marital_single</th>\n",
       "      <th>default_yes</th>\n",
       "      <th>housing_yes</th>\n",
       "      <th>loan_yes</th>\n",
       "    </tr>\n",
       "  </thead>\n",
       "  <tbody>\n",
       "    <tr>\n",
       "      <th>0</th>\n",
       "      <td>56</td>\n",
       "      <td>1.1</td>\n",
       "      <td>93.994</td>\n",
       "      <td>-36.4</td>\n",
       "      <td>4.857</td>\n",
       "      <td>5191.0</td>\n",
       "      <td>0</td>\n",
       "      <td>0</td>\n",
       "      <td>0</td>\n",
       "      <td>0</td>\n",
       "      <td>...</td>\n",
       "      <td>0</td>\n",
       "      <td>1</td>\n",
       "      <td>0</td>\n",
       "      <td>0</td>\n",
       "      <td>0</td>\n",
       "      <td>1</td>\n",
       "      <td>0</td>\n",
       "      <td>0</td>\n",
       "      <td>0</td>\n",
       "      <td>1</td>\n",
       "    </tr>\n",
       "    <tr>\n",
       "      <th>1</th>\n",
       "      <td>59</td>\n",
       "      <td>1.1</td>\n",
       "      <td>93.994</td>\n",
       "      <td>-36.4</td>\n",
       "      <td>4.857</td>\n",
       "      <td>5191.0</td>\n",
       "      <td>0</td>\n",
       "      <td>0</td>\n",
       "      <td>0</td>\n",
       "      <td>0</td>\n",
       "      <td>...</td>\n",
       "      <td>0</td>\n",
       "      <td>0</td>\n",
       "      <td>0</td>\n",
       "      <td>1</td>\n",
       "      <td>0</td>\n",
       "      <td>1</td>\n",
       "      <td>0</td>\n",
       "      <td>0</td>\n",
       "      <td>0</td>\n",
       "      <td>0</td>\n",
       "    </tr>\n",
       "    <tr>\n",
       "      <th>2</th>\n",
       "      <td>24</td>\n",
       "      <td>1.1</td>\n",
       "      <td>93.994</td>\n",
       "      <td>-36.4</td>\n",
       "      <td>4.857</td>\n",
       "      <td>5191.0</td>\n",
       "      <td>0</td>\n",
       "      <td>0</td>\n",
       "      <td>0</td>\n",
       "      <td>0</td>\n",
       "      <td>...</td>\n",
       "      <td>0</td>\n",
       "      <td>0</td>\n",
       "      <td>0</td>\n",
       "      <td>1</td>\n",
       "      <td>0</td>\n",
       "      <td>0</td>\n",
       "      <td>1</td>\n",
       "      <td>0</td>\n",
       "      <td>1</td>\n",
       "      <td>0</td>\n",
       "    </tr>\n",
       "  </tbody>\n",
       "</table>\n",
       "<p>3 rows × 28 columns</p>\n",
       "</div>"
      ],
      "text/plain": [
       "   age  emp.var.rate  cons.price.idx  cons.conf.idx  euribor3m  nr.employed  \\\n",
       "0   56           1.1          93.994          -36.4      4.857       5191.0   \n",
       "1   59           1.1          93.994          -36.4      4.857       5191.0   \n",
       "2   24           1.1          93.994          -36.4      4.857       5191.0   \n",
       "\n",
       "   y_yes  job_blue-collar  job_entrepreneur  job_housemaid  ...  \\\n",
       "0      0                0                 0              0  ...   \n",
       "1      0                0                 0              0  ...   \n",
       "2      0                0                 0              0  ...   \n",
       "\n",
       "   education_basic.9y  education_high.school  education_illiterate  \\\n",
       "0                   0                      1                     0   \n",
       "1                   0                      0                     0   \n",
       "2                   0                      0                     0   \n",
       "\n",
       "   education_professional.course  education_university.degree  \\\n",
       "0                              0                            0   \n",
       "1                              1                            0   \n",
       "2                              1                            0   \n",
       "\n",
       "   marital_married  marital_single  default_yes  housing_yes  loan_yes  \n",
       "0                1               0            0            0         1  \n",
       "1                1               0            0            0         0  \n",
       "2                0               1            0            1         0  \n",
       "\n",
       "[3 rows x 28 columns]"
      ]
     },
     "execution_count": 19,
     "metadata": {},
     "output_type": "execute_result"
    }
   ],
   "source": [
    "cust_outcome = pd.get_dummies(cust_outcome, columns = \n",
    "                              ['job', 'education', 'marital', 'default', 'housing', 'loan'], \n",
    "                              drop_first=True)\n",
    "cust_outcome.drop('Region_Code', axis=1, inplace=True)\n",
    "cust_outcome.drop('State_Code', axis=1, inplace=True)\n",
    "cust_outcome.drop('City_Code', axis=1, inplace=True)\n",
    "cust_outcome.head(3)"
   ]
  },
  {
   "cell_type": "code",
   "execution_count": 20,
   "id": "52525815",
   "metadata": {},
   "outputs": [
    {
     "data": {
      "text/plain": [
       "(27452, 28)"
      ]
     },
     "execution_count": 20,
     "metadata": {},
     "output_type": "execute_result"
    }
   ],
   "source": [
    "cust_outcome.shape"
   ]
  },
  {
   "cell_type": "code",
   "execution_count": 21,
   "id": "ecfe589e",
   "metadata": {},
   "outputs": [
    {
     "data": {
      "text/html": [
       "<div>\n",
       "<style scoped>\n",
       "    .dataframe tbody tr th:only-of-type {\n",
       "        vertical-align: middle;\n",
       "    }\n",
       "\n",
       "    .dataframe tbody tr th {\n",
       "        vertical-align: top;\n",
       "    }\n",
       "\n",
       "    .dataframe thead th {\n",
       "        text-align: right;\n",
       "    }\n",
       "</style>\n",
       "<table border=\"1\" class=\"dataframe\">\n",
       "  <thead>\n",
       "    <tr style=\"text-align: right;\">\n",
       "      <th></th>\n",
       "      <th>age</th>\n",
       "      <th>emp.var.rate</th>\n",
       "      <th>cons.price.idx</th>\n",
       "      <th>cons.conf.idx</th>\n",
       "      <th>euribor3m</th>\n",
       "      <th>nr.employed</th>\n",
       "      <th>y_yes</th>\n",
       "      <th>job_blue-collar</th>\n",
       "      <th>job_entrepreneur</th>\n",
       "      <th>job_housemaid</th>\n",
       "      <th>...</th>\n",
       "      <th>education_basic.9y</th>\n",
       "      <th>education_high.school</th>\n",
       "      <th>education_illiterate</th>\n",
       "      <th>education_professional.course</th>\n",
       "      <th>education_university.degree</th>\n",
       "      <th>marital_married</th>\n",
       "      <th>marital_single</th>\n",
       "      <th>default_yes</th>\n",
       "      <th>housing_yes</th>\n",
       "      <th>loan_yes</th>\n",
       "    </tr>\n",
       "  </thead>\n",
       "  <tbody>\n",
       "    <tr>\n",
       "      <th>count</th>\n",
       "      <td>27452.000000</td>\n",
       "      <td>27452.000000</td>\n",
       "      <td>27452.000000</td>\n",
       "      <td>27452.000000</td>\n",
       "      <td>27452.00000</td>\n",
       "      <td>27452.000000</td>\n",
       "      <td>27452.000000</td>\n",
       "      <td>27452.000000</td>\n",
       "      <td>27452.000000</td>\n",
       "      <td>27452.000000</td>\n",
       "      <td>...</td>\n",
       "      <td>27452.000000</td>\n",
       "      <td>27452.000000</td>\n",
       "      <td>27452.000000</td>\n",
       "      <td>27452.000000</td>\n",
       "      <td>27452.000000</td>\n",
       "      <td>27452.000000</td>\n",
       "      <td>27452.000000</td>\n",
       "      <td>27452.000000</td>\n",
       "      <td>27452.000000</td>\n",
       "      <td>27452.000000</td>\n",
       "    </tr>\n",
       "    <tr>\n",
       "      <th>mean</th>\n",
       "      <td>39.060833</td>\n",
       "      <td>-0.068986</td>\n",
       "      <td>93.524229</td>\n",
       "      <td>-40.608466</td>\n",
       "      <td>3.46174</td>\n",
       "      <td>5160.884147</td>\n",
       "      <td>0.127167</td>\n",
       "      <td>0.185997</td>\n",
       "      <td>0.035517</td>\n",
       "      <td>0.022293</td>\n",
       "      <td>...</td>\n",
       "      <td>0.139808</td>\n",
       "      <td>0.252477</td>\n",
       "      <td>0.000328</td>\n",
       "      <td>0.141993</td>\n",
       "      <td>0.341287</td>\n",
       "      <td>0.574931</td>\n",
       "      <td>0.308903</td>\n",
       "      <td>0.000073</td>\n",
       "      <td>0.543093</td>\n",
       "      <td>0.156127</td>\n",
       "    </tr>\n",
       "    <tr>\n",
       "      <th>std</th>\n",
       "      <td>10.344671</td>\n",
       "      <td>1.607635</td>\n",
       "      <td>0.584535</td>\n",
       "      <td>4.778812</td>\n",
       "      <td>1.77654</td>\n",
       "      <td>75.100045</td>\n",
       "      <td>0.333166</td>\n",
       "      <td>0.389112</td>\n",
       "      <td>0.185085</td>\n",
       "      <td>0.147639</td>\n",
       "      <td>...</td>\n",
       "      <td>0.346794</td>\n",
       "      <td>0.434441</td>\n",
       "      <td>0.018104</td>\n",
       "      <td>0.349050</td>\n",
       "      <td>0.474150</td>\n",
       "      <td>0.494362</td>\n",
       "      <td>0.462049</td>\n",
       "      <td>0.008535</td>\n",
       "      <td>0.498149</td>\n",
       "      <td>0.362982</td>\n",
       "    </tr>\n",
       "    <tr>\n",
       "      <th>min</th>\n",
       "      <td>17.000000</td>\n",
       "      <td>-3.400000</td>\n",
       "      <td>92.201000</td>\n",
       "      <td>-50.800000</td>\n",
       "      <td>0.63400</td>\n",
       "      <td>4963.600000</td>\n",
       "      <td>0.000000</td>\n",
       "      <td>0.000000</td>\n",
       "      <td>0.000000</td>\n",
       "      <td>0.000000</td>\n",
       "      <td>...</td>\n",
       "      <td>0.000000</td>\n",
       "      <td>0.000000</td>\n",
       "      <td>0.000000</td>\n",
       "      <td>0.000000</td>\n",
       "      <td>0.000000</td>\n",
       "      <td>0.000000</td>\n",
       "      <td>0.000000</td>\n",
       "      <td>0.000000</td>\n",
       "      <td>0.000000</td>\n",
       "      <td>0.000000</td>\n",
       "    </tr>\n",
       "    <tr>\n",
       "      <th>25%</th>\n",
       "      <td>31.000000</td>\n",
       "      <td>-1.800000</td>\n",
       "      <td>93.075000</td>\n",
       "      <td>-42.700000</td>\n",
       "      <td>1.31300</td>\n",
       "      <td>5099.100000</td>\n",
       "      <td>0.000000</td>\n",
       "      <td>0.000000</td>\n",
       "      <td>0.000000</td>\n",
       "      <td>0.000000</td>\n",
       "      <td>...</td>\n",
       "      <td>0.000000</td>\n",
       "      <td>0.000000</td>\n",
       "      <td>0.000000</td>\n",
       "      <td>0.000000</td>\n",
       "      <td>0.000000</td>\n",
       "      <td>0.000000</td>\n",
       "      <td>0.000000</td>\n",
       "      <td>0.000000</td>\n",
       "      <td>0.000000</td>\n",
       "      <td>0.000000</td>\n",
       "    </tr>\n",
       "    <tr>\n",
       "      <th>50%</th>\n",
       "      <td>37.000000</td>\n",
       "      <td>1.100000</td>\n",
       "      <td>93.444000</td>\n",
       "      <td>-41.800000</td>\n",
       "      <td>4.85600</td>\n",
       "      <td>5191.000000</td>\n",
       "      <td>0.000000</td>\n",
       "      <td>0.000000</td>\n",
       "      <td>0.000000</td>\n",
       "      <td>0.000000</td>\n",
       "      <td>...</td>\n",
       "      <td>0.000000</td>\n",
       "      <td>0.000000</td>\n",
       "      <td>0.000000</td>\n",
       "      <td>0.000000</td>\n",
       "      <td>0.000000</td>\n",
       "      <td>1.000000</td>\n",
       "      <td>0.000000</td>\n",
       "      <td>0.000000</td>\n",
       "      <td>1.000000</td>\n",
       "      <td>0.000000</td>\n",
       "    </tr>\n",
       "    <tr>\n",
       "      <th>75%</th>\n",
       "      <td>45.250000</td>\n",
       "      <td>1.400000</td>\n",
       "      <td>93.994000</td>\n",
       "      <td>-36.400000</td>\n",
       "      <td>4.96100</td>\n",
       "      <td>5228.100000</td>\n",
       "      <td>0.000000</td>\n",
       "      <td>0.000000</td>\n",
       "      <td>0.000000</td>\n",
       "      <td>0.000000</td>\n",
       "      <td>...</td>\n",
       "      <td>0.000000</td>\n",
       "      <td>1.000000</td>\n",
       "      <td>0.000000</td>\n",
       "      <td>0.000000</td>\n",
       "      <td>1.000000</td>\n",
       "      <td>1.000000</td>\n",
       "      <td>1.000000</td>\n",
       "      <td>0.000000</td>\n",
       "      <td>1.000000</td>\n",
       "      <td>0.000000</td>\n",
       "    </tr>\n",
       "    <tr>\n",
       "      <th>max</th>\n",
       "      <td>95.000000</td>\n",
       "      <td>1.400000</td>\n",
       "      <td>94.767000</td>\n",
       "      <td>-26.900000</td>\n",
       "      <td>5.04500</td>\n",
       "      <td>5228.100000</td>\n",
       "      <td>1.000000</td>\n",
       "      <td>1.000000</td>\n",
       "      <td>1.000000</td>\n",
       "      <td>1.000000</td>\n",
       "      <td>...</td>\n",
       "      <td>1.000000</td>\n",
       "      <td>1.000000</td>\n",
       "      <td>1.000000</td>\n",
       "      <td>1.000000</td>\n",
       "      <td>1.000000</td>\n",
       "      <td>1.000000</td>\n",
       "      <td>1.000000</td>\n",
       "      <td>1.000000</td>\n",
       "      <td>1.000000</td>\n",
       "      <td>1.000000</td>\n",
       "    </tr>\n",
       "  </tbody>\n",
       "</table>\n",
       "<p>8 rows × 28 columns</p>\n",
       "</div>"
      ],
      "text/plain": [
       "                age  emp.var.rate  cons.price.idx  cons.conf.idx    euribor3m  \\\n",
       "count  27452.000000  27452.000000    27452.000000   27452.000000  27452.00000   \n",
       "mean      39.060833     -0.068986       93.524229     -40.608466      3.46174   \n",
       "std       10.344671      1.607635        0.584535       4.778812      1.77654   \n",
       "min       17.000000     -3.400000       92.201000     -50.800000      0.63400   \n",
       "25%       31.000000     -1.800000       93.075000     -42.700000      1.31300   \n",
       "50%       37.000000      1.100000       93.444000     -41.800000      4.85600   \n",
       "75%       45.250000      1.400000       93.994000     -36.400000      4.96100   \n",
       "max       95.000000      1.400000       94.767000     -26.900000      5.04500   \n",
       "\n",
       "        nr.employed         y_yes  job_blue-collar  job_entrepreneur  \\\n",
       "count  27452.000000  27452.000000     27452.000000      27452.000000   \n",
       "mean    5160.884147      0.127167         0.185997          0.035517   \n",
       "std       75.100045      0.333166         0.389112          0.185085   \n",
       "min     4963.600000      0.000000         0.000000          0.000000   \n",
       "25%     5099.100000      0.000000         0.000000          0.000000   \n",
       "50%     5191.000000      0.000000         0.000000          0.000000   \n",
       "75%     5228.100000      0.000000         0.000000          0.000000   \n",
       "max     5228.100000      1.000000         1.000000          1.000000   \n",
       "\n",
       "       job_housemaid  ...  education_basic.9y  education_high.school  \\\n",
       "count   27452.000000  ...        27452.000000           27452.000000   \n",
       "mean        0.022293  ...            0.139808               0.252477   \n",
       "std         0.147639  ...            0.346794               0.434441   \n",
       "min         0.000000  ...            0.000000               0.000000   \n",
       "25%         0.000000  ...            0.000000               0.000000   \n",
       "50%         0.000000  ...            0.000000               0.000000   \n",
       "75%         0.000000  ...            0.000000               1.000000   \n",
       "max         1.000000  ...            1.000000               1.000000   \n",
       "\n",
       "       education_illiterate  education_professional.course  \\\n",
       "count          27452.000000                   27452.000000   \n",
       "mean               0.000328                       0.141993   \n",
       "std                0.018104                       0.349050   \n",
       "min                0.000000                       0.000000   \n",
       "25%                0.000000                       0.000000   \n",
       "50%                0.000000                       0.000000   \n",
       "75%                0.000000                       0.000000   \n",
       "max                1.000000                       1.000000   \n",
       "\n",
       "       education_university.degree  marital_married  marital_single  \\\n",
       "count                 27452.000000     27452.000000    27452.000000   \n",
       "mean                      0.341287         0.574931        0.308903   \n",
       "std                       0.474150         0.494362        0.462049   \n",
       "min                       0.000000         0.000000        0.000000   \n",
       "25%                       0.000000         0.000000        0.000000   \n",
       "50%                       0.000000         1.000000        0.000000   \n",
       "75%                       1.000000         1.000000        1.000000   \n",
       "max                       1.000000         1.000000        1.000000   \n",
       "\n",
       "        default_yes   housing_yes      loan_yes  \n",
       "count  27452.000000  27452.000000  27452.000000  \n",
       "mean       0.000073      0.543093      0.156127  \n",
       "std        0.008535      0.498149      0.362982  \n",
       "min        0.000000      0.000000      0.000000  \n",
       "25%        0.000000      0.000000      0.000000  \n",
       "50%        0.000000      1.000000      0.000000  \n",
       "75%        0.000000      1.000000      0.000000  \n",
       "max        1.000000      1.000000      1.000000  \n",
       "\n",
       "[8 rows x 28 columns]"
      ]
     },
     "execution_count": 21,
     "metadata": {},
     "output_type": "execute_result"
    }
   ],
   "source": [
    "cust_outcome.describe()"
   ]
  },
  {
   "cell_type": "code",
   "execution_count": 22,
   "id": "0b30a401",
   "metadata": {},
   "outputs": [
    {
     "name": "stdout",
     "output_type": "stream",
     "text": [
      "<class 'pandas.core.frame.DataFrame'>\n",
      "RangeIndex: 27452 entries, 0 to 27451\n",
      "Data columns (total 28 columns):\n",
      " #   Column                         Non-Null Count  Dtype  \n",
      "---  ------                         --------------  -----  \n",
      " 0   age                            27452 non-null  int64  \n",
      " 1   emp.var.rate                   27452 non-null  float64\n",
      " 2   cons.price.idx                 27452 non-null  float64\n",
      " 3   cons.conf.idx                  27452 non-null  float64\n",
      " 4   euribor3m                      27452 non-null  float64\n",
      " 5   nr.employed                    27452 non-null  float64\n",
      " 6   y_yes                          27452 non-null  uint8  \n",
      " 7   job_blue-collar                27452 non-null  uint8  \n",
      " 8   job_entrepreneur               27452 non-null  uint8  \n",
      " 9   job_housemaid                  27452 non-null  uint8  \n",
      " 10  job_management                 27452 non-null  uint8  \n",
      " 11  job_retired                    27452 non-null  uint8  \n",
      " 12  job_self-employed              27452 non-null  uint8  \n",
      " 13  job_services                   27452 non-null  uint8  \n",
      " 14  job_student                    27452 non-null  uint8  \n",
      " 15  job_technician                 27452 non-null  uint8  \n",
      " 16  job_unemployed                 27452 non-null  uint8  \n",
      " 17  education_basic.6y             27452 non-null  uint8  \n",
      " 18  education_basic.9y             27452 non-null  uint8  \n",
      " 19  education_high.school          27452 non-null  uint8  \n",
      " 20  education_illiterate           27452 non-null  uint8  \n",
      " 21  education_professional.course  27452 non-null  uint8  \n",
      " 22  education_university.degree    27452 non-null  uint8  \n",
      " 23  marital_married                27452 non-null  uint8  \n",
      " 24  marital_single                 27452 non-null  uint8  \n",
      " 25  default_yes                    27452 non-null  uint8  \n",
      " 26  housing_yes                    27452 non-null  uint8  \n",
      " 27  loan_yes                       27452 non-null  uint8  \n",
      "dtypes: float64(5), int64(1), uint8(22)\n",
      "memory usage: 1.8 MB\n"
     ]
    }
   ],
   "source": [
    "cust_outcome.info()"
   ]
  },
  {
   "cell_type": "code",
   "execution_count": 29,
   "id": "d6e99292",
   "metadata": {},
   "outputs": [
    {
     "name": "stderr",
     "output_type": "stream",
     "text": [
      "C:\\Users\\KPARAS~1\\AppData\\Local\\Temp/ipykernel_9604/1905581925.py:2: DeprecationWarning: `np.bool` is a deprecated alias for the builtin `bool`. To silence this warning, use `bool` by itself. Doing this will not modify any behavior and is safe. If you specifically wanted the numpy scalar type, use `np.bool_` here.\n",
      "Deprecated in NumPy 1.20; for more details and guidance: https://numpy.org/devdocs/release/1.20.0-notes.html#deprecations\n",
      "  mask = np.zeros_like(corr, dtype=np.bool)\n"
     ]
    },
    {
     "data": {
      "image/png": "[encoded data removed]",
      "text/plain": [
       "<Figure size 1296x720 with 2 Axes>"
      ]
     },
     "metadata": {
      "needs_background": "light"
     },
     "output_type": "display_data"
    }
   ],
   "source": [
    "corr = cust_outcome.corr()\n",
    "corr.\n",
    "mask = np.zeros_like(corr, dtype=np.bool)\n",
    "mask[np.triu_indices_from(mask)] = True\n",
    "fig, ax = plt.subplots(figsize=(18,10))\n",
    "\n",
    "# fig.text(.34, .88, 'Numerical variable correlation', fontfamily='serif', fontweight='bold', fontsize=15)\n",
    "# fig.text(1.00,.78, 'Observations', fontfamily='serif', fontweight='bold', fontsize=15)\n",
    "# fig.text(.88, .68, 'Positive Correlations:', fontfamily='serif', fontweight='bold', fontsize=13)\n",
    "# fig.text(.92, .65, 'Emp.Var.Rate vs. Euribor3M', fontfamily='serif', fontweight='light', fontsize=11)\n",
    "# fig.text(.92, .62, 'Emp.Var.Rate vs. Nr.employed', fontfamily='serif', fontweight='light', fontsize=11)\n",
    "# fig.text(.92, .59, 'Emp.Var.Rate vs. Cons.Price.Idx', fontfamily='serif', fontweight='light', fontsize=11)\n",
    "# fig.text(.92, .56, 'Cons.Price.Idx vs. Euribor3M', fontfamily='serif', fontweight='light', fontsize=11)\n",
    "# fig.text(.92, .53, 'Cons.Price.Idx vs. Nr.employed', fontfamily='serif', fontweight='light', fontsize=11)\n",
    "\n",
    "\n",
    "\n",
    "pl = sns.heatmap(corr, mask=mask, cmap='coolwarm', vmax=1.0, vmin=-1.0, center=0, square=True, linewidths=2.5)\n",
    "plt.show()"
   ]
  },
  {
   "cell_type": "code",
   "execution_count": null,
   "id": "70f885f8",
   "metadata": {},
   "outputs": [],
   "source": []
  }
 ],
 "metadata": {
  "kernelspec": {
   "display_name": "Python 3 (ipykernel)",
   "language": "python",
   "name": "python3"
  },
  "language_info": {
   "codemirror_mode": {
    "name": "ipython",
    "version": 3
   },
   "file_extension": ".py",
   "mimetype": "text/x-python",
   "name": "python",
   "nbconvert_exporter": "python",
   "pygments_lexer": "ipython3",
   "version": "3.9.7"
  }
 },
 "nbformat": 4,
 "nbformat_minor": 5
}
